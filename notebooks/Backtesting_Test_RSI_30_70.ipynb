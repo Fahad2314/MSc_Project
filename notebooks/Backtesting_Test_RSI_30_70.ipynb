{
 "cells": [
  {
   "cell_type": "code",
   "execution_count": 2,
   "metadata": {},
   "outputs": [],
   "source": [
    "from backtesting import Strategy\n",
    "from backtesting.lib import crossover\n",
    "from backtesting import Backtest\n",
    "from backtesting.test import GOOG\n",
    "import pandas as pd\n",
    "from backtesting.test import SMA\n",
    "import ta"
   ]
  },
  {
   "cell_type": "code",
   "execution_count": 3,
   "metadata": {},
   "outputs": [
    {
     "data": {
      "text/html": [
       "<div>\n",
       "<style scoped>\n",
       "    .dataframe tbody tr th:only-of-type {\n",
       "        vertical-align: middle;\n",
       "    }\n",
       "\n",
       "    .dataframe tbody tr th {\n",
       "        vertical-align: top;\n",
       "    }\n",
       "\n",
       "    .dataframe thead th {\n",
       "        text-align: right;\n",
       "    }\n",
       "</style>\n",
       "<table border=\"1\" class=\"dataframe\">\n",
       "  <thead>\n",
       "    <tr style=\"text-align: right;\">\n",
       "      <th></th>\n",
       "      <th>Open</th>\n",
       "      <th>High</th>\n",
       "      <th>Low</th>\n",
       "      <th>Close</th>\n",
       "      <th>Volume</th>\n",
       "    </tr>\n",
       "  </thead>\n",
       "  <tbody>\n",
       "    <tr>\n",
       "      <th>2004-08-19</th>\n",
       "      <td>100.00</td>\n",
       "      <td>104.06</td>\n",
       "      <td>95.96</td>\n",
       "      <td>100.34</td>\n",
       "      <td>22351900</td>\n",
       "    </tr>\n",
       "    <tr>\n",
       "      <th>2004-08-20</th>\n",
       "      <td>101.01</td>\n",
       "      <td>109.08</td>\n",
       "      <td>100.50</td>\n",
       "      <td>108.31</td>\n",
       "      <td>11428600</td>\n",
       "    </tr>\n",
       "    <tr>\n",
       "      <th>2004-08-23</th>\n",
       "      <td>110.75</td>\n",
       "      <td>113.48</td>\n",
       "      <td>109.05</td>\n",
       "      <td>109.40</td>\n",
       "      <td>9137200</td>\n",
       "    </tr>\n",
       "    <tr>\n",
       "      <th>2004-08-24</th>\n",
       "      <td>111.24</td>\n",
       "      <td>111.60</td>\n",
       "      <td>103.57</td>\n",
       "      <td>104.87</td>\n",
       "      <td>7631300</td>\n",
       "    </tr>\n",
       "    <tr>\n",
       "      <th>2004-08-25</th>\n",
       "      <td>104.96</td>\n",
       "      <td>108.00</td>\n",
       "      <td>103.88</td>\n",
       "      <td>106.00</td>\n",
       "      <td>4598900</td>\n",
       "    </tr>\n",
       "  </tbody>\n",
       "</table>\n",
       "</div>"
      ],
      "text/plain": [
       "              Open    High     Low   Close    Volume\n",
       "2004-08-19  100.00  104.06   95.96  100.34  22351900\n",
       "2004-08-20  101.01  109.08  100.50  108.31  11428600\n",
       "2004-08-23  110.75  113.48  109.05  109.40   9137200\n",
       "2004-08-24  111.24  111.60  103.57  104.87   7631300\n",
       "2004-08-25  104.96  108.00  103.88  106.00   4598900"
      ]
     },
     "execution_count": 3,
     "metadata": {},
     "output_type": "execute_result"
    }
   ],
   "source": [
    "GOOG.head()"
   ]
  },
  {
   "cell_type": "code",
   "execution_count": 13,
   "metadata": {},
   "outputs": [],
   "source": [
    "GOOG['RSI']= ta.momentum.rsi(GOOG['Close'], n=14, fillna=True)"
   ]
  },
  {
   "cell_type": "code",
   "execution_count": 42,
   "metadata": {},
   "outputs": [],
   "source": [
    "def RSI(values,n):\n",
    "    \"\"\"Takes values and returns an array of values with a corresponding RSI score calculated\"\"\"\n",
    "    RSI = ta.momentum.rsi(values, n, fillna=True)\n",
    "    \n",
    "    return RSI\n",
    "\n",
    "\n",
    "class RSICross(Strategy):\n",
    "    \n",
    "    # Define the two MA lags as *class variables*\n",
    "    # for later optimization\n",
    "    \n",
    "    def init(self):\n",
    "        # Precompute two moving averages\n",
    "        self.RSI = self.I(RSI, pd.Series(self.data.Close),14)\n",
    "        \n",
    "        print(self.RSI)\n",
    "               \n",
    "               \n",
    "    def next(self):\n",
    "        if self.RSI >= 70:\n",
    "            self.buy()\n",
    "        elif self.RSI <=30:\n",
    "            self.sell()\n",
    "        \n"
   ]
  },
  {
   "cell_type": "code",
   "execution_count": 43,
   "metadata": {},
   "outputs": [
    {
     "name": "stdout",
     "output_type": "stream",
     "text": [
      "[ 50.         100.         100.         ...  64.15130442  65.28469795\n",
      "  69.22931335]\n"
     ]
    },
    {
     "data": {
      "text/plain": [
       "Start                     2004-08-19 00:00:00\n",
       "End                       2013-03-01 00:00:00\n",
       "Duration                   3116 days 00:00:00\n",
       "Exposure [%]                          99.5828\n",
       "Equity Final [$]                      3871.53\n",
       "Equity Peak [$]                       16962.8\n",
       "Return [%]                           -61.2847\n",
       "Buy & Hold Return [%]                 703.458\n",
       "Max. Drawdown [%]                    -80.5914\n",
       "Avg. Drawdown [%]                    -5.29646\n",
       "Max. Drawdown Duration       63 days 00:00:00\n",
       "Avg. Drawdown Duration       14 days 00:00:00\n",
       "# Trades                                  699\n",
       "Win Rate [%]                          57.9399\n",
       "Best Trade [%]                        19.9829\n",
       "Worst Trade [%]                      -26.5683\n",
       "Avg. Trade [%]                     -0.0800272\n",
       "Max. Trade Duration          54 days 00:00:00\n",
       "Avg. Trade Duration           5 days 00:00:00\n",
       "Expectancy [%]                        2.28782\n",
       "SQN                                 -0.546346\n",
       "Sharpe Ratio                       -0.0195585\n",
       "Sortino Ratio                      -0.0178849\n",
       "Calmar Ratio                     -0.000992999\n",
       "_strategy                            RSICross\n",
       "dtype: object"
      ]
     },
     "execution_count": 43,
     "metadata": {},
     "output_type": "execute_result"
    }
   ],
   "source": [
    "bt = Backtest(GOOG, RSICross, cash=10000, commission=.002)\n",
    "bt.run()"
   ]
  },
  {
   "cell_type": "code",
   "execution_count": null,
   "metadata": {},
   "outputs": [],
   "source": []
  },
  {
   "cell_type": "code",
   "execution_count": null,
   "metadata": {},
   "outputs": [],
   "source": []
  }
 ],
 "metadata": {
  "kernelspec": {
   "display_name": "Python 3",
   "language": "python",
   "name": "python3"
  },
  "language_info": {
   "codemirror_mode": {
    "name": "ipython",
    "version": 3
   },
   "file_extension": ".py",
   "mimetype": "text/x-python",
   "name": "python",
   "nbconvert_exporter": "python",
   "pygments_lexer": "ipython3",
   "version": "3.7.3"
  }
 },
 "nbformat": 4,
 "nbformat_minor": 2
}
