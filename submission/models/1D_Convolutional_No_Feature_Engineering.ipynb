{
 "cells": [
  {
   "cell_type": "code",
   "execution_count": 1,
   "metadata": {},
   "outputs": [
    {
     "name": "stderr",
     "output_type": "stream",
     "text": [
      "Using TensorFlow backend.\n"
     ]
    }
   ],
   "source": [
    "import pandas as pd\n",
    "import numpy as np \n",
    "from sklearn.model_selection import train_test_split\n",
    "import csv\n",
    "from pandas.tseries.offsets import MonthEnd\n",
    "from datetime import datetime, timedelta, date\n",
    "import requests\n",
    "import json \n",
    "import seaborn as sns\n",
    "import matplotlib.pyplot as plt\n",
    "import itertools\n",
    "from sklearn.utils.multiclass import unique_labels\n",
    "\n",
    "from scipy import stats\n",
    "from IPython.display import display, HTML\n",
    "\n",
    "from sklearn import metrics\n",
    "from sklearn.metrics import classification_report\n",
    "from sklearn import preprocessing\n",
    "from sklearn.metrics import confusion_matrix\n",
    "from keras.callbacks import EarlyStopping\n",
    "from keras.callbacks import ModelCheckpoint\n",
    "from keras.models import load_model\n",
    "from sklearn.utils import resample\n",
    "\n",
    "\n",
    "import keras\n",
    "from keras.models import Sequential\n",
    "from keras.layers import Dense, Dropout, Flatten, Reshape\n",
    "from keras.layers import Convolution1D, MaxPooling1D\n",
    "from keras.utils import np_utils\n",
    "import seaborn as sns\n",
    "\n",
    "from sklearn.metrics import accuracy_score\n",
    "from sklearn.metrics import precision_score\n",
    "from sklearn.metrics import recall_score\n",
    "from sklearn.metrics import f1_score\n",
    "from sklearn.metrics import cohen_kappa_score\n",
    "from sklearn.metrics import roc_auc_score"
   ]
  },
  {
   "cell_type": "code",
   "execution_count": 2,
   "metadata": {},
   "outputs": [],
   "source": [
    "#### read in the flattened dataframes with the labels\n",
    "MSFT_df_no_fe = pd.read_csv(\"/Users/fahad/project_repo/data/external/MSFT_flat_no_fe.csv\", index_col=0)\n",
    "AAPL_df_no_fe = pd.read_csv(\"/Users/fahad/project_repo/data/external/AAPL_flat_no_fe.csv\",index_col=0)\n",
    "AMZN_df_no_fe= pd.read_csv(\"/Users/fahad/project_repo/data/external/AMZN_flat_no_fe.csv\",index_col=0)"
   ]
  },
  {
   "cell_type": "code",
   "execution_count": 3,
   "metadata": {},
   "outputs": [],
   "source": [
    "#vertically stack the MSFT and AAPL dataframes on top of eachother\n",
    "df = pd.concat([MSFT_df_no_fe, AAPL_df_no_fe], axis=0)\n",
    "#vertically stack the MSFT&AAPL df and the AMZN dataframe ontop of eachother\n",
    "df = pd.concat([df,AMZN_df_no_fe],axis = 0)\n",
    "#set index to date\n",
    "#df.set_index(\"Date\")"
   ]
  },
  {
   "cell_type": "code",
   "execution_count": 4,
   "metadata": {},
   "outputs": [
    {
     "data": {
      "text/plain": [
       "1    448\n",
       "0    320\n",
       "Name: Label, dtype: int64"
      ]
     },
     "execution_count": 4,
     "metadata": {},
     "output_type": "execute_result"
    }
   ],
   "source": [
    "df['Label'].value_counts()\n",
    "\n"
   ]
  },
  {
   "cell_type": "code",
   "execution_count": 5,
   "metadata": {},
   "outputs": [],
   "source": [
    "# Separate majority and minority classes\n",
    "df_majority = df[df.Label==1]\n",
    "df_minority = df[df.Label==0]\n",
    "\n",
    "df_minority_upsampled = resample(df_minority, \n",
    "                                 replace=True,     # sample with replacement\n",
    "                                 n_samples=448,    # to match majority class\n",
    "                                 random_state=123) # reproducible results\n",
    "\n",
    "df_upsampled = pd.concat([df_majority, df_minority_upsampled])\n",
    "#y is the labels for the test/train split\n",
    "y = df_upsampled.Label\n",
    "\n",
    "#drop the label so we can split data into training and test\n",
    "df_upsampled = df_upsampled.drop(['Label'], axis =1)\n",
    "\n"
   ]
  },
  {
   "cell_type": "code",
   "execution_count": 6,
   "metadata": {},
   "outputs": [],
   "source": [
    "#define the target variable as y \n",
    "X_train, X_test, y_train, y_test = train_test_split(df_upsampled, y, test_size=0.3)\n",
    "#print (X_train.head(5))\n",
    "\n"
   ]
  },
  {
   "cell_type": "code",
   "execution_count": 7,
   "metadata": {},
   "outputs": [],
   "source": [
    "def make_timeseries_classifier(sample_num,window_size, filter_length, nb_input_series=1, nb_outputs=1, nb_filter=16):\n",
    "    \"\"\":Return: a Keras Model for predicting the next value in a timeseries given a fixed-size lookback window of previous values.\n",
    "    The model can handle multiple input timeseries (`nb_input_series`) and multiple prediction targets (`nb_outputs`).\n",
    "    :param int window_size: The number of previous timeseries values to use as input features.  Also called lag or lookback.\n",
    "    :param int nb_input_series: The number of input timeseries; 1 for a single timeseries.\n",
    "      The `X` input to ``fit()`` should be an array of shape ``(n_instances, window_size, nb_input_series)``; each instance is\n",
    "      a 2D array of shape ``(window_size, nb_input_series)``.  For example, for `window_size` = 3 and `nb_input_series` = 1 (a\n",
    "      single timeseries), one instance could be ``[[0], [1], [2]]``. See ``make_timeseries_instances()``.\n",
    "    :param int nb_outputs: The output dimension, often equal to the number of inputs.\n",
    "      For each input instance (array with shape ``(window_size, nb_input_series)``), the output is a vector of size `nb_outputs`,\n",
    "      usually the value(s) predicted to come after the last value in that input instance, i.e., the next value\n",
    "      in the sequence. The `y` input to ``fit()`` should be an array of shape ``(n_instances, nb_outputs)``.\n",
    "    :param int filter_length: the size (along the `window_size` dimension) of the sliding window that gets convolved with\n",
    "      each position along each instance. The difference between 1D and 2D convolution is that a 1D filter's \"height\" is fixed\n",
    "      to the number of input timeseries (its \"width\" being `filter_length`), and it can only slide along the window\n",
    "      dimension.  This is useful as generally the input timeseries have no spatial/ordinal relationship, so it's not\n",
    "      meaningful to look for patterns that are invariant with respect to subsets of the timeseries.\n",
    "    :param int nb_filter: The number of different filters to learn (roughly, input patterns to recognize).\n",
    "    \"\"\"\n",
    "    model = Sequential((\n",
    "        # The first conv layer learns `nb_filter` filters (aka kernels), each of size ``(filter_length, nb_input_series)``.\n",
    "        # Its output will have shape (None, window_size - filter_length + 1, nb_filter), i.e., for each position in\n",
    "        # the input timeseries, the activation of each filter at that position.\n",
    "        Convolution1D(nb_filter=nb_filter, filter_length=filter_length, activation='relu', input_shape=(window_size,nb_input_series)),\n",
    "        MaxPooling1D(),     # Downsample the output of convolution by 2X.\n",
    "        Convolution1D(nb_filter=nb_filter, filter_length=filter_length, activation='relu'),\n",
    "        MaxPooling1D(),\n",
    "        Flatten(),\n",
    "        Dense(nb_outputs, activation='sigmoid'),     # For binary classification, change the activation to 'sigmoid'\n",
    "    ))\n",
    "    model.compile(loss='binary_crossentropy', optimizer='adam', metrics=['accuracy'])\n",
    "    # To perform (binary) classification instead:\n",
    "    # model.compile(loss='binary_crossentropy', optimizer='adam', metrics=['binary_accuracy'])\n",
    "    \n",
    "    return model"
   ]
  },
  {
   "cell_type": "code",
   "execution_count": 8,
   "metadata": {},
   "outputs": [
    {
     "name": "stderr",
     "output_type": "stream",
     "text": [
      "/anaconda3/lib/python3.7/site-packages/ipykernel_launcher.py:24: UserWarning: Update your `Conv1D` call to the Keras 2 API: `Conv1D(activation=\"relu\", input_shape=(150, 1), filters=16, kernel_size=3)`\n",
      "WARNING: Logging before flag parsing goes to stderr.\n",
      "W0724 17:09:05.038810 4767274432 deprecation_wrapper.py:119] From /anaconda3/lib/python3.7/site-packages/keras/backend/tensorflow_backend.py:74: The name tf.get_default_graph is deprecated. Please use tf.compat.v1.get_default_graph instead.\n",
      "\n",
      "/anaconda3/lib/python3.7/site-packages/ipykernel_launcher.py:26: UserWarning: Update your `Conv1D` call to the Keras 2 API: `Conv1D(activation=\"relu\", filters=16, kernel_size=3)`\n",
      "W0724 17:09:05.057871 4767274432 deprecation_wrapper.py:119] From /anaconda3/lib/python3.7/site-packages/keras/backend/tensorflow_backend.py:517: The name tf.placeholder is deprecated. Please use tf.compat.v1.placeholder instead.\n",
      "\n",
      "W0724 17:09:05.062067 4767274432 deprecation_wrapper.py:119] From /anaconda3/lib/python3.7/site-packages/keras/backend/tensorflow_backend.py:4138: The name tf.random_uniform is deprecated. Please use tf.random.uniform instead.\n",
      "\n",
      "W0724 17:09:05.089919 4767274432 deprecation_wrapper.py:119] From /anaconda3/lib/python3.7/site-packages/keras/backend/tensorflow_backend.py:3976: The name tf.nn.max_pool is deprecated. Please use tf.nn.max_pool2d instead.\n",
      "\n",
      "W0724 17:09:05.130099 4767274432 deprecation_wrapper.py:119] From /anaconda3/lib/python3.7/site-packages/keras/optimizers.py:790: The name tf.train.Optimizer is deprecated. Please use tf.compat.v1.train.Optimizer instead.\n",
      "\n",
      "W0724 17:09:05.150797 4767274432 deprecation_wrapper.py:119] From /anaconda3/lib/python3.7/site-packages/keras/backend/tensorflow_backend.py:3376: The name tf.log is deprecated. Please use tf.math.log instead.\n",
      "\n",
      "W0724 17:09:05.154829 4767274432 deprecation.py:323] From /anaconda3/lib/python3.7/site-packages/tensorflow/python/ops/nn_impl.py:180: add_dispatch_support.<locals>.wrapper (from tensorflow.python.ops.array_ops) is deprecated and will be removed in a future version.\n",
      "Instructions for updating:\n",
      "Use tf.where in 2.0, which has the same broadcast rule as np.where\n"
     ]
    }
   ],
   "source": [
    "model_1 = make_timeseries_classifier(X_train.shape[0],X_train.shape[1],3)"
   ]
  },
  {
   "cell_type": "code",
   "execution_count": 9,
   "metadata": {},
   "outputs": [
    {
     "name": "stdout",
     "output_type": "stream",
     "text": [
      "_________________________________________________________________\n",
      "Layer (type)                 Output Shape              Param #   \n",
      "=================================================================\n",
      "conv1d_1 (Conv1D)            (None, 148, 16)           64        \n",
      "_________________________________________________________________\n",
      "max_pooling1d_1 (MaxPooling1 (None, 74, 16)            0         \n",
      "_________________________________________________________________\n",
      "conv1d_2 (Conv1D)            (None, 72, 16)            784       \n",
      "_________________________________________________________________\n",
      "max_pooling1d_2 (MaxPooling1 (None, 36, 16)            0         \n",
      "_________________________________________________________________\n",
      "flatten_1 (Flatten)          (None, 576)               0         \n",
      "_________________________________________________________________\n",
      "dense_1 (Dense)              (None, 1)                 577       \n",
      "=================================================================\n",
      "Total params: 1,425\n",
      "Trainable params: 1,425\n",
      "Non-trainable params: 0\n",
      "_________________________________________________________________\n"
     ]
    }
   ],
   "source": [
    "model_1.summary()"
   ]
  },
  {
   "cell_type": "code",
   "execution_count": 10,
   "metadata": {},
   "outputs": [],
   "source": [
    "es = EarlyStopping(monitor='val_acc', mode='max', verbose=0, patience=50)\n",
    "mc = ModelCheckpoint('1dconv_no_feature_engineering.h5', monitor='val_acc', mode='max', verbose=1, save_best_only=True)\n",
    "cb_list = [es,mc]"
   ]
  },
  {
   "cell_type": "code",
   "execution_count": 11,
   "metadata": {},
   "outputs": [
    {
     "name": "stderr",
     "output_type": "stream",
     "text": [
      "W0724 17:09:05.413598 4767274432 deprecation_wrapper.py:119] From /anaconda3/lib/python3.7/site-packages/keras/backend/tensorflow_backend.py:986: The name tf.assign_add is deprecated. Please use tf.compat.v1.assign_add instead.\n",
      "\n"
     ]
    },
    {
     "name": "stdout",
     "output_type": "stream",
     "text": [
      "Train on 564 samples, validate on 63 samples\n",
      "Epoch 1/100\n",
      "564/564 [==============================] - 1s 2ms/step - loss: 0.6954 - acc: 0.5124 - val_loss: 0.7153 - val_acc: 0.4762\n",
      "\n",
      "Epoch 00001: val_acc improved from -inf to 0.47619, saving model to 1dconv_no_feature_engineering.h5\n",
      "Epoch 2/100\n",
      "564/564 [==============================] - 1s 1ms/step - loss: 0.6949 - acc: 0.5195 - val_loss: 0.6926 - val_acc: 0.5079\n",
      "\n",
      "Epoch 00002: val_acc improved from 0.47619 to 0.50794, saving model to 1dconv_no_feature_engineering.h5\n",
      "Epoch 3/100\n",
      "564/564 [==============================] - 1s 1ms/step - loss: 0.6934 - acc: 0.5160 - val_loss: 0.6919 - val_acc: 0.4762\n",
      "\n",
      "Epoch 00003: val_acc did not improve from 0.50794\n",
      "Epoch 4/100\n",
      "564/564 [==============================] - 1s 1ms/step - loss: 0.6930 - acc: 0.5230 - val_loss: 0.6903 - val_acc: 0.4921\n",
      "\n",
      "Epoch 00004: val_acc did not improve from 0.50794\n",
      "Epoch 5/100\n",
      "564/564 [==============================] - 1s 1ms/step - loss: 0.6918 - acc: 0.5266 - val_loss: 0.6896 - val_acc: 0.5238\n",
      "\n",
      "Epoch 00005: val_acc improved from 0.50794 to 0.52381, saving model to 1dconv_no_feature_engineering.h5\n",
      "Epoch 6/100\n",
      "564/564 [==============================] - 1s 1ms/step - loss: 0.6900 - acc: 0.5372 - val_loss: 0.6899 - val_acc: 0.4762\n",
      "\n",
      "Epoch 00006: val_acc did not improve from 0.52381\n",
      "Epoch 7/100\n",
      "564/564 [==============================] - 1s 1ms/step - loss: 0.6874 - acc: 0.5426 - val_loss: 0.6882 - val_acc: 0.5079\n",
      "\n",
      "Epoch 00007: val_acc did not improve from 0.52381\n",
      "Epoch 8/100\n",
      "564/564 [==============================] - 1s 1ms/step - loss: 0.6821 - acc: 0.5745 - val_loss: 0.6826 - val_acc: 0.5238\n",
      "\n",
      "Epoch 00008: val_acc did not improve from 0.52381\n",
      "Epoch 9/100\n",
      "564/564 [==============================] - 1s 1ms/step - loss: 0.6735 - acc: 0.5957 - val_loss: 0.6818 - val_acc: 0.4921\n",
      "\n",
      "Epoch 00009: val_acc did not improve from 0.52381\n",
      "Epoch 10/100\n",
      "564/564 [==============================] - 1s 1ms/step - loss: 0.6697 - acc: 0.5851 - val_loss: 0.6771 - val_acc: 0.5079\n",
      "\n",
      "Epoch 00010: val_acc did not improve from 0.52381\n",
      "Epoch 11/100\n",
      "564/564 [==============================] - 1s 1ms/step - loss: 0.6616 - acc: 0.5709 - val_loss: 0.6807 - val_acc: 0.4444\n",
      "\n",
      "Epoch 00011: val_acc did not improve from 0.52381\n",
      "Epoch 12/100\n",
      "564/564 [==============================] - 1s 1ms/step - loss: 0.6546 - acc: 0.5816 - val_loss: 0.6804 - val_acc: 0.5079\n",
      "\n",
      "Epoch 00012: val_acc did not improve from 0.52381\n",
      "Epoch 13/100\n",
      "564/564 [==============================] - 1s 1ms/step - loss: 0.6480 - acc: 0.5532 - val_loss: 0.6873 - val_acc: 0.3968\n",
      "\n",
      "Epoch 00013: val_acc did not improve from 0.52381\n",
      "Epoch 14/100\n",
      "564/564 [==============================] - 1s 1ms/step - loss: 0.6486 - acc: 0.6028 - val_loss: 0.6797 - val_acc: 0.4603\n",
      "\n",
      "Epoch 00014: val_acc did not improve from 0.52381\n",
      "Epoch 15/100\n",
      "564/564 [==============================] - 1s 1ms/step - loss: 0.6446 - acc: 0.6046 - val_loss: 0.6873 - val_acc: 0.4444\n",
      "\n",
      "Epoch 00015: val_acc did not improve from 0.52381\n",
      "Epoch 16/100\n",
      "564/564 [==============================] - 1s 1ms/step - loss: 0.6409 - acc: 0.6064 - val_loss: 0.6902 - val_acc: 0.4603\n",
      "\n",
      "Epoch 00016: val_acc did not improve from 0.52381\n",
      "Epoch 17/100\n",
      "564/564 [==============================] - 1s 1ms/step - loss: 0.6357 - acc: 0.6135 - val_loss: 0.6931 - val_acc: 0.4603\n",
      "\n",
      "Epoch 00017: val_acc did not improve from 0.52381\n",
      "Epoch 18/100\n",
      "564/564 [==============================] - 1s 1ms/step - loss: 0.6361 - acc: 0.5957 - val_loss: 0.6899 - val_acc: 0.4603\n",
      "\n",
      "Epoch 00018: val_acc did not improve from 0.52381\n",
      "Epoch 19/100\n",
      "564/564 [==============================] - 1s 1ms/step - loss: 0.6320 - acc: 0.6223 - val_loss: 0.6912 - val_acc: 0.5238\n",
      "\n",
      "Epoch 00019: val_acc did not improve from 0.52381\n",
      "Epoch 20/100\n",
      "564/564 [==============================] - 1s 1ms/step - loss: 0.6299 - acc: 0.6011 - val_loss: 0.6945 - val_acc: 0.4444\n",
      "\n",
      "Epoch 00020: val_acc did not improve from 0.52381\n",
      "Epoch 21/100\n",
      "564/564 [==============================] - 1s 1ms/step - loss: 0.6299 - acc: 0.6117 - val_loss: 0.6828 - val_acc: 0.4762\n",
      "\n",
      "Epoch 00021: val_acc did not improve from 0.52381\n",
      "Epoch 22/100\n",
      "564/564 [==============================] - 1s 1ms/step - loss: 0.6260 - acc: 0.6241 - val_loss: 0.6917 - val_acc: 0.4762\n",
      "\n",
      "Epoch 00022: val_acc did not improve from 0.52381\n",
      "Epoch 23/100\n",
      "564/564 [==============================] - 1s 1ms/step - loss: 0.6225 - acc: 0.6170 - val_loss: 0.6915 - val_acc: 0.4603\n",
      "\n",
      "Epoch 00023: val_acc did not improve from 0.52381\n",
      "Epoch 24/100\n",
      "564/564 [==============================] - 1s 1ms/step - loss: 0.6194 - acc: 0.6152 - val_loss: 0.6964 - val_acc: 0.4603\n",
      "\n",
      "Epoch 00024: val_acc did not improve from 0.52381\n",
      "Epoch 25/100\n",
      "564/564 [==============================] - 1s 1ms/step - loss: 0.6149 - acc: 0.6383 - val_loss: 0.7214 - val_acc: 0.5238\n",
      "\n",
      "Epoch 00025: val_acc did not improve from 0.52381\n",
      "Epoch 26/100\n",
      "564/564 [==============================] - 1s 1ms/step - loss: 0.6178 - acc: 0.6401 - val_loss: 0.6972 - val_acc: 0.5079\n",
      "\n",
      "Epoch 00026: val_acc did not improve from 0.52381\n",
      "Epoch 27/100\n",
      "564/564 [==============================] - 1s 1ms/step - loss: 0.6123 - acc: 0.6436 - val_loss: 0.7189 - val_acc: 0.5397\n",
      "\n",
      "Epoch 00027: val_acc improved from 0.52381 to 0.53968, saving model to 1dconv_no_feature_engineering.h5\n",
      "Epoch 28/100\n",
      "564/564 [==============================] - 1s 1ms/step - loss: 0.6104 - acc: 0.6525 - val_loss: 0.6940 - val_acc: 0.4762\n",
      "\n",
      "Epoch 00028: val_acc did not improve from 0.53968\n",
      "Epoch 29/100\n",
      "564/564 [==============================] - 1s 1ms/step - loss: 0.6079 - acc: 0.6543 - val_loss: 0.6996 - val_acc: 0.4762\n",
      "\n",
      "Epoch 00029: val_acc did not improve from 0.53968\n",
      "Epoch 30/100\n",
      "564/564 [==============================] - 1s 1ms/step - loss: 0.6028 - acc: 0.6755 - val_loss: 0.7062 - val_acc: 0.4921\n",
      "\n",
      "Epoch 00030: val_acc did not improve from 0.53968\n",
      "Epoch 31/100\n",
      "564/564 [==============================] - 1s 1ms/step - loss: 0.6024 - acc: 0.6613 - val_loss: 0.7011 - val_acc: 0.5238\n",
      "\n",
      "Epoch 00031: val_acc did not improve from 0.53968\n",
      "Epoch 32/100\n",
      "564/564 [==============================] - 1s 1ms/step - loss: 0.6004 - acc: 0.6702 - val_loss: 0.7039 - val_acc: 0.5079\n",
      "\n",
      "Epoch 00032: val_acc did not improve from 0.53968\n",
      "Epoch 33/100\n",
      "564/564 [==============================] - 1s 1ms/step - loss: 0.5957 - acc: 0.6791 - val_loss: 0.6929 - val_acc: 0.5238\n",
      "\n",
      "Epoch 00033: val_acc did not improve from 0.53968\n",
      "Epoch 34/100\n",
      "564/564 [==============================] - 1s 1ms/step - loss: 0.5951 - acc: 0.6613 - val_loss: 0.6981 - val_acc: 0.5238\n",
      "\n",
      "Epoch 00034: val_acc did not improve from 0.53968\n",
      "Epoch 35/100\n",
      "564/564 [==============================] - 1s 1ms/step - loss: 0.5857 - acc: 0.6702 - val_loss: 0.6983 - val_acc: 0.5714\n",
      "\n",
      "Epoch 00035: val_acc improved from 0.53968 to 0.57143, saving model to 1dconv_no_feature_engineering.h5\n",
      "Epoch 36/100\n",
      "564/564 [==============================] - 1s 1ms/step - loss: 0.5882 - acc: 0.6826 - val_loss: 0.7125 - val_acc: 0.5238\n",
      "\n",
      "Epoch 00036: val_acc did not improve from 0.57143\n",
      "Epoch 37/100\n",
      "564/564 [==============================] - 1s 1ms/step - loss: 0.5864 - acc: 0.6738 - val_loss: 0.6982 - val_acc: 0.5397\n",
      "\n",
      "Epoch 00037: val_acc did not improve from 0.57143\n",
      "Epoch 38/100\n",
      "564/564 [==============================] - 1s 1ms/step - loss: 0.5834 - acc: 0.6773 - val_loss: 0.7007 - val_acc: 0.5556\n",
      "\n",
      "Epoch 00038: val_acc did not improve from 0.57143\n",
      "Epoch 39/100\n",
      "564/564 [==============================] - 1s 1ms/step - loss: 0.5763 - acc: 0.6950 - val_loss: 0.7063 - val_acc: 0.5556\n",
      "\n",
      "Epoch 00039: val_acc did not improve from 0.57143\n",
      "Epoch 40/100\n",
      "564/564 [==============================] - 1s 1ms/step - loss: 0.5745 - acc: 0.6968 - val_loss: 0.7001 - val_acc: 0.5556\n",
      "\n",
      "Epoch 00040: val_acc did not improve from 0.57143\n",
      "Epoch 41/100\n",
      "564/564 [==============================] - 1s 1ms/step - loss: 0.5735 - acc: 0.6809 - val_loss: 0.7340 - val_acc: 0.5238\n",
      "\n",
      "Epoch 00041: val_acc did not improve from 0.57143\n",
      "Epoch 42/100\n",
      "564/564 [==============================] - 1s 1ms/step - loss: 0.5710 - acc: 0.6897 - val_loss: 0.7216 - val_acc: 0.4921\n",
      "\n",
      "Epoch 00042: val_acc did not improve from 0.57143\n",
      "Epoch 43/100\n",
      "564/564 [==============================] - 1s 1ms/step - loss: 0.5709 - acc: 0.6986 - val_loss: 0.7158 - val_acc: 0.4921\n"
     ]
    },
    {
     "name": "stdout",
     "output_type": "stream",
     "text": [
      "\n",
      "Epoch 00043: val_acc did not improve from 0.57143\n",
      "Epoch 44/100\n",
      "564/564 [==============================] - 1s 1ms/step - loss: 0.5663 - acc: 0.6844 - val_loss: 0.6814 - val_acc: 0.5397\n",
      "\n",
      "Epoch 00044: val_acc did not improve from 0.57143\n",
      "Epoch 45/100\n",
      "564/564 [==============================] - 1s 1ms/step - loss: 0.5643 - acc: 0.6968 - val_loss: 0.6938 - val_acc: 0.5714\n",
      "\n",
      "Epoch 00045: val_acc did not improve from 0.57143\n",
      "Epoch 46/100\n",
      "564/564 [==============================] - 1s 2ms/step - loss: 0.5599 - acc: 0.6915 - val_loss: 0.7096 - val_acc: 0.5714\n",
      "\n",
      "Epoch 00046: val_acc did not improve from 0.57143\n",
      "Epoch 47/100\n",
      "564/564 [==============================] - 1s 1ms/step - loss: 0.5552 - acc: 0.7021 - val_loss: 0.7106 - val_acc: 0.5397\n",
      "\n",
      "Epoch 00047: val_acc did not improve from 0.57143\n",
      "Epoch 48/100\n",
      "564/564 [==============================] - 1s 2ms/step - loss: 0.5540 - acc: 0.7004 - val_loss: 0.6910 - val_acc: 0.5238\n",
      "\n",
      "Epoch 00048: val_acc did not improve from 0.57143\n",
      "Epoch 49/100\n",
      "564/564 [==============================] - 1s 1ms/step - loss: 0.5484 - acc: 0.7057 - val_loss: 0.6783 - val_acc: 0.5397\n",
      "\n",
      "Epoch 00049: val_acc did not improve from 0.57143\n",
      "Epoch 50/100\n",
      "564/564 [==============================] - 1s 1ms/step - loss: 0.5509 - acc: 0.6933 - val_loss: 0.6912 - val_acc: 0.6032\n",
      "\n",
      "Epoch 00050: val_acc improved from 0.57143 to 0.60317, saving model to 1dconv_no_feature_engineering.h5\n",
      "Epoch 51/100\n",
      "564/564 [==============================] - 1s 1ms/step - loss: 0.5432 - acc: 0.7234 - val_loss: 0.7066 - val_acc: 0.5714\n",
      "\n",
      "Epoch 00051: val_acc did not improve from 0.60317\n",
      "Epoch 52/100\n",
      "564/564 [==============================] - 1s 1ms/step - loss: 0.5399 - acc: 0.7252 - val_loss: 0.7157 - val_acc: 0.5873\n",
      "\n",
      "Epoch 00052: val_acc did not improve from 0.60317\n",
      "Epoch 53/100\n",
      "564/564 [==============================] - 1s 1ms/step - loss: 0.5346 - acc: 0.7199 - val_loss: 0.6712 - val_acc: 0.5714\n",
      "\n",
      "Epoch 00053: val_acc did not improve from 0.60317\n",
      "Epoch 54/100\n",
      "564/564 [==============================] - 1s 1ms/step - loss: 0.5371 - acc: 0.7305 - val_loss: 0.6667 - val_acc: 0.5556\n",
      "\n",
      "Epoch 00054: val_acc did not improve from 0.60317\n",
      "Epoch 55/100\n",
      "564/564 [==============================] - 1s 1ms/step - loss: 0.5401 - acc: 0.7270 - val_loss: 0.6928 - val_acc: 0.5556\n",
      "\n",
      "Epoch 00055: val_acc did not improve from 0.60317\n",
      "Epoch 56/100\n",
      "564/564 [==============================] - 1s 1ms/step - loss: 0.5258 - acc: 0.7358 - val_loss: 0.6934 - val_acc: 0.5714\n",
      "\n",
      "Epoch 00056: val_acc did not improve from 0.60317\n",
      "Epoch 57/100\n",
      "564/564 [==============================] - 1s 1ms/step - loss: 0.5254 - acc: 0.7252 - val_loss: 0.7000 - val_acc: 0.5873\n",
      "\n",
      "Epoch 00057: val_acc did not improve from 0.60317\n",
      "Epoch 58/100\n",
      "564/564 [==============================] - 1s 1ms/step - loss: 0.5232 - acc: 0.7340 - val_loss: 0.7262 - val_acc: 0.5556\n",
      "\n",
      "Epoch 00058: val_acc did not improve from 0.60317\n",
      "Epoch 59/100\n",
      "564/564 [==============================] - 1s 1ms/step - loss: 0.5156 - acc: 0.7411 - val_loss: 0.6681 - val_acc: 0.5714\n",
      "\n",
      "Epoch 00059: val_acc did not improve from 0.60317\n",
      "Epoch 60/100\n",
      "564/564 [==============================] - 1s 1ms/step - loss: 0.5175 - acc: 0.7376 - val_loss: 0.7032 - val_acc: 0.5873\n",
      "\n",
      "Epoch 00060: val_acc did not improve from 0.60317\n",
      "Epoch 61/100\n",
      "564/564 [==============================] - 1s 1ms/step - loss: 0.5115 - acc: 0.7482 - val_loss: 0.7319 - val_acc: 0.5873\n",
      "\n",
      "Epoch 00061: val_acc did not improve from 0.60317\n",
      "Epoch 62/100\n",
      "564/564 [==============================] - 1s 1ms/step - loss: 0.5174 - acc: 0.7358 - val_loss: 0.7123 - val_acc: 0.6032\n",
      "\n",
      "Epoch 00062: val_acc did not improve from 0.60317\n",
      "Epoch 63/100\n",
      "564/564 [==============================] - 1s 1ms/step - loss: 0.5095 - acc: 0.7553 - val_loss: 0.6926 - val_acc: 0.6190\n",
      "\n",
      "Epoch 00063: val_acc improved from 0.60317 to 0.61905, saving model to 1dconv_no_feature_engineering.h5\n",
      "Epoch 64/100\n",
      "564/564 [==============================] - 1s 1ms/step - loss: 0.5031 - acc: 0.7500 - val_loss: 0.7061 - val_acc: 0.5873\n",
      "\n",
      "Epoch 00064: val_acc did not improve from 0.61905\n",
      "Epoch 65/100\n",
      "564/564 [==============================] - 1s 1ms/step - loss: 0.5010 - acc: 0.7606 - val_loss: 0.6911 - val_acc: 0.5714\n",
      "\n",
      "Epoch 00065: val_acc did not improve from 0.61905\n",
      "Epoch 66/100\n",
      "564/564 [==============================] - 1s 1ms/step - loss: 0.4962 - acc: 0.7482 - val_loss: 0.6901 - val_acc: 0.6032\n",
      "\n",
      "Epoch 00066: val_acc did not improve from 0.61905\n",
      "Epoch 67/100\n",
      "564/564 [==============================] - 1s 1ms/step - loss: 0.4952 - acc: 0.7323 - val_loss: 0.6859 - val_acc: 0.5873\n",
      "\n",
      "Epoch 00067: val_acc did not improve from 0.61905\n",
      "Epoch 68/100\n",
      "564/564 [==============================] - 1s 1ms/step - loss: 0.4889 - acc: 0.7518 - val_loss: 0.7089 - val_acc: 0.6032\n",
      "\n",
      "Epoch 00068: val_acc did not improve from 0.61905\n",
      "Epoch 69/100\n",
      "564/564 [==============================] - 1s 1ms/step - loss: 0.4915 - acc: 0.7482 - val_loss: 0.6985 - val_acc: 0.6032\n",
      "\n",
      "Epoch 00069: val_acc did not improve from 0.61905\n",
      "Epoch 70/100\n",
      "564/564 [==============================] - 1s 1ms/step - loss: 0.4802 - acc: 0.7589 - val_loss: 0.7089 - val_acc: 0.6190\n",
      "\n",
      "Epoch 00070: val_acc did not improve from 0.61905\n",
      "Epoch 71/100\n",
      "564/564 [==============================] - 1s 1ms/step - loss: 0.4819 - acc: 0.7518 - val_loss: 0.7069 - val_acc: 0.5556\n",
      "\n",
      "Epoch 00071: val_acc did not improve from 0.61905\n",
      "Epoch 72/100\n",
      "564/564 [==============================] - 1s 1ms/step - loss: 0.4801 - acc: 0.7660 - val_loss: 0.6895 - val_acc: 0.5873\n",
      "\n",
      "Epoch 00072: val_acc did not improve from 0.61905\n",
      "Epoch 73/100\n",
      "564/564 [==============================] - 1s 1ms/step - loss: 0.4746 - acc: 0.7677 - val_loss: 0.7163 - val_acc: 0.6190\n",
      "\n",
      "Epoch 00073: val_acc did not improve from 0.61905\n",
      "Epoch 74/100\n",
      "564/564 [==============================] - 1s 1ms/step - loss: 0.4733 - acc: 0.7695 - val_loss: 0.6981 - val_acc: 0.6508\n",
      "\n",
      "Epoch 00074: val_acc improved from 0.61905 to 0.65079, saving model to 1dconv_no_feature_engineering.h5\n",
      "Epoch 75/100\n",
      "564/564 [==============================] - 1s 1ms/step - loss: 0.4675 - acc: 0.7642 - val_loss: 0.6810 - val_acc: 0.6032\n",
      "\n",
      "Epoch 00075: val_acc did not improve from 0.65079\n",
      "Epoch 76/100\n",
      "564/564 [==============================] - 1s 1ms/step - loss: 0.4638 - acc: 0.7713 - val_loss: 0.6732 - val_acc: 0.6349\n",
      "\n",
      "Epoch 00076: val_acc did not improve from 0.65079\n",
      "Epoch 77/100\n",
      "564/564 [==============================] - 1s 1ms/step - loss: 0.4635 - acc: 0.7819 - val_loss: 0.6970 - val_acc: 0.6667\n",
      "\n",
      "Epoch 00077: val_acc improved from 0.65079 to 0.66667, saving model to 1dconv_no_feature_engineering.h5\n",
      "Epoch 78/100\n",
      "564/564 [==============================] - 1s 1ms/step - loss: 0.4694 - acc: 0.7801 - val_loss: 0.7008 - val_acc: 0.6349\n",
      "\n",
      "Epoch 00078: val_acc did not improve from 0.66667\n",
      "Epoch 79/100\n",
      "564/564 [==============================] - 1s 1ms/step - loss: 0.4554 - acc: 0.7730 - val_loss: 0.6901 - val_acc: 0.6508\n",
      "\n",
      "Epoch 00079: val_acc did not improve from 0.66667\n",
      "Epoch 80/100\n",
      "564/564 [==============================] - 1s 1ms/step - loss: 0.4523 - acc: 0.7890 - val_loss: 0.7015 - val_acc: 0.6508\n",
      "\n",
      "Epoch 00080: val_acc did not improve from 0.66667\n",
      "Epoch 81/100\n",
      "564/564 [==============================] - 1s 1ms/step - loss: 0.4539 - acc: 0.7748 - val_loss: 0.6776 - val_acc: 0.6667\n",
      "\n",
      "Epoch 00081: val_acc did not improve from 0.66667\n",
      "Epoch 82/100\n",
      "564/564 [==============================] - 1s 1ms/step - loss: 0.4443 - acc: 0.7766 - val_loss: 0.7013 - val_acc: 0.6508\n",
      "\n",
      "Epoch 00082: val_acc did not improve from 0.66667\n",
      "Epoch 83/100\n",
      "564/564 [==============================] - 1s 1ms/step - loss: 0.4453 - acc: 0.7819 - val_loss: 0.7064 - val_acc: 0.6667\n",
      "\n",
      "Epoch 00083: val_acc did not improve from 0.66667\n",
      "Epoch 84/100\n",
      "564/564 [==============================] - 1s 1ms/step - loss: 0.4449 - acc: 0.7801 - val_loss: 0.7416 - val_acc: 0.6190\n",
      "\n",
      "Epoch 00084: val_acc did not improve from 0.66667\n",
      "Epoch 85/100\n",
      "564/564 [==============================] - 1s 1ms/step - loss: 0.4416 - acc: 0.7837 - val_loss: 0.7625 - val_acc: 0.5873\n",
      "\n",
      "Epoch 00085: val_acc did not improve from 0.66667\n",
      "Epoch 86/100\n",
      "564/564 [==============================] - 1s 1ms/step - loss: 0.4408 - acc: 0.7872 - val_loss: 0.7468 - val_acc: 0.6032\n",
      "\n",
      "Epoch 00086: val_acc did not improve from 0.66667\n",
      "Epoch 87/100\n"
     ]
    },
    {
     "name": "stdout",
     "output_type": "stream",
     "text": [
      "564/564 [==============================] - 1s 1ms/step - loss: 0.4364 - acc: 0.7801 - val_loss: 0.7008 - val_acc: 0.6190\n",
      "\n",
      "Epoch 00087: val_acc did not improve from 0.66667\n",
      "Epoch 88/100\n",
      "564/564 [==============================] - 1s 1ms/step - loss: 0.4312 - acc: 0.7872 - val_loss: 0.6945 - val_acc: 0.6825\n",
      "\n",
      "Epoch 00088: val_acc improved from 0.66667 to 0.68254, saving model to 1dconv_no_feature_engineering.h5\n",
      "Epoch 89/100\n",
      "564/564 [==============================] - 1s 1ms/step - loss: 0.4322 - acc: 0.7926 - val_loss: 0.7144 - val_acc: 0.6190\n",
      "\n",
      "Epoch 00089: val_acc did not improve from 0.68254\n",
      "Epoch 90/100\n",
      "564/564 [==============================] - 1s 1ms/step - loss: 0.4286 - acc: 0.7996 - val_loss: 0.6909 - val_acc: 0.5873\n",
      "\n",
      "Epoch 00090: val_acc did not improve from 0.68254\n",
      "Epoch 91/100\n",
      "564/564 [==============================] - 1s 1ms/step - loss: 0.4201 - acc: 0.8032 - val_loss: 0.7109 - val_acc: 0.6349\n",
      "\n",
      "Epoch 00091: val_acc did not improve from 0.68254\n",
      "Epoch 92/100\n",
      "564/564 [==============================] - 1s 1ms/step - loss: 0.4248 - acc: 0.7890 - val_loss: 0.6702 - val_acc: 0.6667\n",
      "\n",
      "Epoch 00092: val_acc did not improve from 0.68254\n",
      "Epoch 93/100\n",
      "564/564 [==============================] - 1s 1ms/step - loss: 0.4207 - acc: 0.7979 - val_loss: 0.7257 - val_acc: 0.5873\n",
      "\n",
      "Epoch 00093: val_acc did not improve from 0.68254\n",
      "Epoch 94/100\n",
      "564/564 [==============================] - 1s 1ms/step - loss: 0.4165 - acc: 0.8032 - val_loss: 0.6967 - val_acc: 0.6190\n",
      "\n",
      "Epoch 00094: val_acc did not improve from 0.68254\n",
      "Epoch 95/100\n",
      "564/564 [==============================] - 1s 1ms/step - loss: 0.4150 - acc: 0.8050 - val_loss: 0.7067 - val_acc: 0.6667\n",
      "\n",
      "Epoch 00095: val_acc did not improve from 0.68254\n",
      "Epoch 96/100\n",
      "564/564 [==============================] - 1s 1ms/step - loss: 0.4141 - acc: 0.7996 - val_loss: 0.7193 - val_acc: 0.6667\n",
      "\n",
      "Epoch 00096: val_acc did not improve from 0.68254\n",
      "Epoch 97/100\n",
      "564/564 [==============================] - 1s 1ms/step - loss: 0.4079 - acc: 0.8085 - val_loss: 0.7059 - val_acc: 0.7143\n",
      "\n",
      "Epoch 00097: val_acc improved from 0.68254 to 0.71429, saving model to 1dconv_no_feature_engineering.h5\n",
      "Epoch 98/100\n",
      "564/564 [==============================] - 1s 1ms/step - loss: 0.4047 - acc: 0.8191 - val_loss: 0.6880 - val_acc: 0.6825\n",
      "\n",
      "Epoch 00098: val_acc did not improve from 0.71429\n",
      "Epoch 99/100\n",
      "564/564 [==============================] - 1s 1ms/step - loss: 0.4009 - acc: 0.8138 - val_loss: 0.7369 - val_acc: 0.6508\n",
      "\n",
      "Epoch 00099: val_acc did not improve from 0.71429\n",
      "Epoch 100/100\n",
      "564/564 [==============================] - 1s 1ms/step - loss: 0.4009 - acc: 0.8174 - val_loss: 0.6896 - val_acc: 0.6825\n",
      "\n",
      "Epoch 00100: val_acc did not improve from 0.71429\n"
     ]
    }
   ],
   "source": [
    "history=model_1.fit(np.array(X_train).reshape((*X_train.shape,1)),np.array(y_train).reshape((*y_train.shape,1)),\n",
    "            validation_split=0.10, epochs=100\n",
    "            ,batch_size=1, verbose=1, callbacks = cb_list)"
   ]
  },
  {
   "cell_type": "code",
   "execution_count": 12,
   "metadata": {},
   "outputs": [],
   "source": [
    "#load saved model\n",
    "saved_model = load_model('1dconv_no_feature_engineering.h5')\n",
    "\n"
   ]
  },
  {
   "cell_type": "markdown",
   "metadata": {},
   "source": [
    "# Predict The Test Data"
   ]
  },
  {
   "cell_type": "code",
   "execution_count": 13,
   "metadata": {},
   "outputs": [
    {
     "name": "stdout",
     "output_type": "stream",
     "text": [
      "269/269 [==============================] - 0s 184us/step\n",
      "269/269 [==============================] - 0s 219us/step\n"
     ]
    }
   ],
   "source": [
    "#make the predictions using the the model we have created, note the input must be a np.array and a 3d tensor\n",
    "predictions = saved_model.predict_classes(np.array(X_test).reshape((*X_test.shape,1)),batch_size = X_test.shape[0], verbose=1)\n",
    "over_fit_predictions = model_1.predict_classes(np.array(X_test).reshape((*X_test.shape,1)),batch_size = X_test.shape[0], verbose=1)"
   ]
  },
  {
   "cell_type": "code",
   "execution_count": 14,
   "metadata": {},
   "outputs": [
    {
     "name": "stdout",
     "output_type": "stream",
     "text": [
      "saved model acc: 0.6022304832713755\n",
      "Precision: 0.616438\n",
      "Recall: 0.638298\n",
      "F1 score: 0.627178\n",
      "Cohens kappa: 0.201160\n",
      "ROC AUC: 0.600399\n"
     ]
    }
   ],
   "source": [
    "from sklearn.metrics import accuracy_score\n",
    "print (\"saved model acc: %s\" % accuracy_score(y_test, predictions))\n",
    "# accuracy: (tp + tn) / (p + n)\n",
    "\n",
    "# precision tp / (tp + fp)\n",
    "precision = precision_score(y_test, predictions)\n",
    "print('Precision: %f' % precision)\n",
    "# recall: tp / (tp + fn)\n",
    "recall = recall_score(y_test, predictions)\n",
    "print('Recall: %f' % recall)\n",
    "# f1: 2 tp / (2 tp + fp + fn)\n",
    "f1 = f1_score(y_test, predictions)\n",
    "print('F1 score: %f' % f1)\n",
    " \n",
    "# kappa\n",
    "kappa = cohen_kappa_score(y_test, predictions)\n",
    "print('Cohens kappa: %f' % kappa)\n",
    "# ROC AUC\n",
    "auc = roc_auc_score(y_test, predictions)\n",
    "print('ROC AUC: %f' % auc)"
   ]
  },
  {
   "cell_type": "markdown",
   "metadata": {},
   "source": [
    "# Overfitted model metrics"
   ]
  },
  {
   "cell_type": "code",
   "execution_count": 15,
   "metadata": {},
   "outputs": [
    {
     "name": "stdout",
     "output_type": "stream",
     "text": [
      "Overfitted model acc:0.6022304832713755 \n",
      "Precision: 0.616438\n",
      "Recall: 0.638298\n",
      "F1 score: 0.627178\n",
      "Cohens kappa: 0.201160\n",
      "ROC AUC: 0.600399\n"
     ]
    }
   ],
   "source": [
    "print (\"Overfitted model acc:%s \" % accuracy_score(y_test, over_fit_predictions))\n",
    "# accuracy: (tp + tn) / (p + n)\n",
    "\n",
    "# precision tp / (tp + fp)\n",
    "precision = precision_score(y_test, over_fit_predictions)\n",
    "print('Precision: %f' % precision)\n",
    "# recall: tp / (tp + fn)\n",
    "recall = recall_score(y_test, over_fit_predictions)\n",
    "print('Recall: %f' % recall)\n",
    "# f1: 2 tp / (2 tp + fp + fn)\n",
    "f1 = f1_score(y_test, over_fit_predictions)\n",
    "print('F1 score: %f' % f1)\n",
    " \n",
    "# kappa\n",
    "kappa = cohen_kappa_score(y_test, over_fit_predictions)\n",
    "print('Cohens kappa: %f' % kappa)\n",
    "# ROC AUC\n",
    "auc = roc_auc_score(y_test, over_fit_predictions)\n",
    "print('ROC AUC: %f' % auc)"
   ]
  },
  {
   "cell_type": "code",
   "execution_count": 16,
   "metadata": {},
   "outputs": [
    {
     "name": "stderr",
     "output_type": "stream",
     "text": [
      "/anaconda3/lib/python3.7/site-packages/matplotlib/font_manager.py:1241: UserWarning: findfont: Font family ['normal'] not found. Falling back to DejaVu Sans.\n",
      "  (prop.get_family(), self.defaultFamily[fontext]))\n"
     ]
    },
    {
     "data": {
      "image/png": "[encoded data removed]",
      "text/plain": [
       "<Figure size 1440x1440 with 1 Axes>"
      ]
     },
     "metadata": {
      "needs_background": "light"
     },
     "output_type": "display_data"
    }
   ],
   "source": [
    "#plot the accuracy of the training set  and the validation set of the model\n",
    "font = {'family' : 'normal',\n",
    "        'weight' : 'bold',\n",
    "        'size'   : 22}\n",
    "\n",
    "plt.rc('font', **font)\n",
    "axis_font = {'fontname':'Arial', 'size':'25'}\n",
    "\n",
    "plt.figure(figsize=[20,20])\n",
    "plt.plot(history.history['acc'])\n",
    "plt.plot(history.history['val_acc'])\n",
    "plt.ylabel('Accuracy', **axis_font)\n",
    "plt.xlabel('Epochs', **axis_font)\n",
    "\n",
    "plt.show()"
   ]
  },
  {
   "cell_type": "markdown",
   "metadata": {},
   "source": [
    "# Confusion Matrix"
   ]
  },
  {
   "cell_type": "code",
   "execution_count": 17,
   "metadata": {},
   "outputs": [],
   "source": [
    "%matplotlib inline\n",
    "\n",
    "def plot_confusion_matrix(cm, classes,\n",
    "                          normalize=False,\n",
    "                          title=\"Confusion Matrix\",\n",
    "                          cmap=plt.cm.Blues):\n",
    "    plt.imshow(cm, interpolation=\"nearest\", cmap=cmap)\n",
    "    plt.title(title)\n",
    "    tick_marks = np.arange(len(classes))\n",
    "    plt.xticks(tick_marks, classes, rotation=45)\n",
    "    plt.yticks(tick_marks, classes)\n",
    "    \n",
    "    if normalize:\n",
    "        cm = cm.astype(\"float\")/ cm.sum(axis=1)[:,np.newaxis]\n",
    "        print (\"Normalised confusion matrix\")\n",
    "    else:\n",
    "        print (\"Confusion matrix, without normalisation\")\n",
    "        \n",
    "    print (cm)\n",
    "    \n",
    "    thresh = cm.max()/2\n",
    "    for i,j in itertools.product(range(cm.shape[0]),range(cm.shape[1])):\n",
    "        plt.text(j, i, cm[i,j],\n",
    "        horizontalalignment = \"center\",\n",
    "        color=\"white\" if cm[i,j] > thresh else \"black\" )\n",
    "        \n",
    "    plt.tight_layout()\n",
    "    plt.ylabel(\"True Label\")\n",
    "    plt.xlabel(\"Predicted Label\")\n",
    "    "
   ]
  },
  {
   "cell_type": "code",
   "execution_count": 18,
   "metadata": {},
   "outputs": [
    {
     "name": "stdout",
     "output_type": "stream",
     "text": [
      "Confusion matrix, without normalisation\n",
      "[[72 56]\n",
      " [51 90]]\n"
     ]
    },
    {
     "name": "stderr",
     "output_type": "stream",
     "text": [
      "/anaconda3/lib/python3.7/site-packages/matplotlib/font_manager.py:1241: UserWarning: findfont: Font family ['normal'] not found. Falling back to DejaVu Sans.\n",
      "  (prop.get_family(), self.defaultFamily[fontext]))\n",
      "/anaconda3/lib/python3.7/site-packages/matplotlib/font_manager.py:1241: UserWarning: findfont: Font family ['normal'] not found. Falling back to DejaVu Sans.\n",
      "  (prop.get_family(), self.defaultFamily[fontext]))\n",
      "/anaconda3/lib/python3.7/site-packages/matplotlib/font_manager.py:1241: UserWarning: findfont: Font family ['normal'] not found. Falling back to DejaVu Sans.\n",
      "  (prop.get_family(), self.defaultFamily[fontext]))\n"
     ]
    },
    {
     "data": {
      "image/png": "[encoded data removed]",
      "text/plain": [
       "<Figure size 432x288 with 1 Axes>"
      ]
     },
     "metadata": {
      "needs_background": "light"
     },
     "output_type": "display_data"
    }
   ],
   "source": [
    "cm = confusion_matrix(y_test, predictions)\n",
    "cm_labels = ['Sell', 'Buy']\n",
    "plot_confusion_matrix(cm, cm_labels, title=\"Confusion Matrix\")"
   ]
  },
  {
   "cell_type": "code",
   "execution_count": 19,
   "metadata": {},
   "outputs": [
    {
     "name": "stdout",
     "output_type": "stream",
     "text": [
      "Confusion matrix, without normalisation\n",
      "[[72 56]\n",
      " [51 90]]\n"
     ]
    },
    {
     "data": {
      "image/png": "[encoded data removed]",
      "text/plain": [
       "<Figure size 432x288 with 1 Axes>"
      ]
     },
     "metadata": {
      "needs_background": "light"
     },
     "output_type": "display_data"
    }
   ],
   "source": [
    "cm2 = confusion_matrix(y_test, over_fit_predictions)\n",
    "cm_labels = ['Sell', 'Buy']\n",
    "plot_confusion_matrix(cm2, cm_labels, title=\"Confusion Matrix\")"
   ]
  }
 ],
 "metadata": {
  "kernelspec": {
   "display_name": "Python 3",
   "language": "python",
   "name": "python3"
  },
  "language_info": {
   "codemirror_mode": {
    "name": "ipython",
    "version": 3
   },
   "file_extension": ".py",
   "mimetype": "text/x-python",
   "name": "python",
   "nbconvert_exporter": "python",
   "pygments_lexer": "ipython3",
   "version": "3.7.3"
  }
 },
 "nbformat": 4,
 "nbformat_minor": 2
}
