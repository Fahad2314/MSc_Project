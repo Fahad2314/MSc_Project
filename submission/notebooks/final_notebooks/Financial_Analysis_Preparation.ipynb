{
 "cells": [
  {
   "cell_type": "code",
   "execution_count": 1,
   "metadata": {},
   "outputs": [],
   "source": [
    "import pandas as pd\n",
    "import numpy as np \n"
   ]
  },
  {
   "cell_type": "code",
   "execution_count": 9,
   "metadata": {},
   "outputs": [],
   "source": [
    "#read in monthly dataframes which we will split from 2010-2019 to get the decade we wish to evaluate performance upon\n",
    "MSFT = pd.read_csv(\"/Users/fahad/project_repo/data/external/MSFT_monthly.csv\")\n",
    "AAPL = pd.read_csv(\"/Users/fahad/project_repo/data/external/AAPL_monthly.csv\")\n",
    "AMZN = pd.read_csv(\"/Users/fahad/project_repo/data/external/AMZN_monthly.csv\")"
   ]
  },
  {
   "cell_type": "code",
   "execution_count": 10,
   "metadata": {},
   "outputs": [],
   "source": [
    "MSFT.columns = ['Date', 'Open', 'High', 'Low', 'Close', 'Volume']\n",
    "AAPL.columns = ['Date', 'Open', 'High', 'Low', 'Close', 'Volume']\n",
    "AMZN.columns = ['Date', 'Open', 'High', 'Low', 'Close', 'Volume']"
   ]
  },
  {
   "cell_type": "code",
   "execution_count": 11,
   "metadata": {},
   "outputs": [],
   "source": [
    "MSFT['Date'] = pd.to_datetime(MSFT.Date, format=\"%Y-%m-%d\")\n",
    "AAPL['Date'] = pd.to_datetime(AAPL.Date, format=\"%Y-%m-%d\")\n",
    "AMZN['Date'] = pd.to_datetime(AMZN.Date, format=\"%Y-%m-%d\")\n"
   ]
  },
  {
   "cell_type": "code",
   "execution_count": 13,
   "metadata": {},
   "outputs": [],
   "source": [
    "MSFT = MSFT.set_index('Date')\n",
    "AAPL = AAPL.set_index('Date')\n",
    "AMZN = AMZN.set_index('Date')"
   ]
  },
  {
   "cell_type": "code",
   "execution_count": 20,
   "metadata": {},
   "outputs": [],
   "source": [
    "FB = pd.read_csv(\"/Users/fahad/project_repo/data/final/FB/FB_monthly.csv\")\n",
    "PFE = pd.read_csv(\"/Users/fahad/project_repo/data/final/PFE/PFE_monthly.csv\")\n",
    "MAR = pd.read_csv(\"/Users/fahad/project_repo/data/final/MAR/MAR_monthly.csv\")\n",
    "GOOG = pd.read_csv(\"/Users/fahad/project_repo/data/final/GOOG/GOOG_monthly.csv\")\n",
    "NFLX = pd.read_csv(\"/Users/fahad/project_repo/data/final/NFLX/NFLX_monthly.csv\")"
   ]
  },
  {
   "cell_type": "code",
   "execution_count": 21,
   "metadata": {},
   "outputs": [],
   "source": [
    "FB.columns = ['Date', 'Open', 'High', 'Low', 'Close', 'Volume']\n",
    "PFE.columns = ['Date', 'Open', 'High', 'Low', 'Close', 'Volume']\n",
    "MAR.columns = ['Date', 'Open', 'High', 'Low', 'Close', 'Volume']\n",
    "GOOG.columns = ['Date', 'Open', 'High', 'Low', 'Close', 'Volume']\n",
    "NFLX.columns = ['Date', 'Open', 'High', 'Low', 'Close', 'Volume']\n"
   ]
  },
  {
   "cell_type": "code",
   "execution_count": 22,
   "metadata": {},
   "outputs": [],
   "source": [
    "FB['Date'] = pd.to_datetime(FB.Date, format=\"%Y-%m-%d\")\n",
    "PFE['Date'] = pd.to_datetime(PFE.Date, format=\"%Y-%m-%d\")\n",
    "MAR['Date'] = pd.to_datetime(MAR.Date, format=\"%Y-%m-%d\")\n",
    "GOOG['Date'] = pd.to_datetime(GOOG.Date, format=\"%Y-%m-%d\")\n",
    "NFLX['Date'] = pd.to_datetime(NFLX.Date, format=\"%Y-%m-%d\")\n"
   ]
  },
  {
   "cell_type": "code",
   "execution_count": 23,
   "metadata": {},
   "outputs": [],
   "source": [
    "FB = FB.set_index('Date')\n",
    "PFE = PFE.set_index('Date')\n",
    "MAR = MAR.set_index('Date')\n",
    "GOOG = GOOG.set_index('Date')\n",
    "NFLX = NFLX.set_index('Date')\n"
   ]
  },
  {
   "cell_type": "code",
   "execution_count": 40,
   "metadata": {},
   "outputs": [],
   "source": [
    "def test_decade(dataframe_to_split):\n",
    "    \"\"\"split the dataframe into before and after 2010 this will be the financial evaluation decade\"\"\"\n",
    "    \n",
    "    date_to_split = \"2009-12-31\"\n",
    "    \n",
    "    date_to_split = pd.to_datetime(date_to_split, format =\"%Y-%m-%d\")\n",
    "    \n",
    "    temp_df = dataframe_to_split.loc[date_to_split < dataframe_to_split.index]\n",
    "    \n",
    "    #print (temp_df)\n",
    "    \n",
    "    return temp_df"
   ]
  },
  {
   "cell_type": "code",
   "execution_count": 41,
   "metadata": {},
   "outputs": [],
   "source": [
    "MSFT_10yr_test = test_decade(MSFT)\n",
    "\n",
    "AAPL_10yr_test = test_decade(AAPL)\n",
    "\n",
    "AMZN_10yr_test = test_decade(AMZN)\n",
    "\n",
    "FB_10yr_test = test_decade(FB)\n",
    "\n",
    "PFE_10yr_test = test_decade(PFE)\n",
    "\n",
    "MAR_10yr_test = test_decade(MAR)\n",
    "\n",
    "GOOG_10yr_test = test_decade(GOOG)\n",
    "\n",
    "NFLX_10yr_test = test_decade(NFLX)\n"
   ]
  },
  {
   "cell_type": "code",
   "execution_count": 43,
   "metadata": {},
   "outputs": [],
   "source": [
    "export_MSFT = MSFT_10yr_test.to_csv(\"/Users/fahad/project_repo/data/final/MSFT/MSFT_10yr.csv\")\n",
    "\n",
    "export_AAPL = AAPL_10yr_test.to_csv(\"/Users/fahad/project_repo/data/final/AAPL/AAPL_10yr.csv\")\n",
    "\n",
    "export_AMZN = AMZN_10yr_test.to_csv(\"/Users/fahad/project_repo/data/final/AMZN/AMZN_10yr.csv\")\n",
    "\n",
    "export_FB = FB_10yr_test.to_csv(\"/Users/fahad/project_repo/data/final/FB/FB_10yr.csv\")\n",
    "\n",
    "export_PFE = PFE_10yr_test.to_csv(\"/Users/fahad/project_repo/data/final/PFE/PFE_10yr.csv\")\n",
    "\n",
    "export_MAR = MAR_10yr_test.to_csv(\"/Users/fahad/project_repo/data/final/MAR/MAR_10yr.csv\")\n",
    "\n",
    "export_GOOG = GOOG_10yr_test.to_csv(\"/Users/fahad/project_repo/data/final/GOOG/GOOG_10yr.csv\")\n",
    "\n",
    "export_NFLX = NFLX_10yr_test.to_csv(\"/Users/fahad/project_repo/data/final/NFLX/NFLX_10yr.csv\")\n",
    "\n",
    "\n",
    "\n",
    "\n",
    "\n",
    "\n"
   ]
  },
  {
   "cell_type": "code",
   "execution_count": null,
   "metadata": {},
   "outputs": [],
   "source": []
  }
 ],
 "metadata": {
  "kernelspec": {
   "display_name": "Python 3",
   "language": "python",
   "name": "python3"
  },
  "language_info": {
   "codemirror_mode": {
    "name": "ipython",
    "version": 3
   },
   "file_extension": ".py",
   "mimetype": "text/x-python",
   "name": "python",
   "nbconvert_exporter": "python",
   "pygments_lexer": "ipython3",
   "version": "3.7.3"
  }
 },
 "nbformat": 4,
 "nbformat_minor": 2
}
