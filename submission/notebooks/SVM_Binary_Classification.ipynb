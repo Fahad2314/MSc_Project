{
 "cells": [
  {
   "cell_type": "code",
   "execution_count": 1,
   "metadata": {},
   "outputs": [],
   "source": [
    "from sklearn.model_selection import train_test_split\n",
    "from sklearn import svm\n",
    "from sklearn.svm import SVC\n",
    "from sklearn.model_selection import GridSearchCV\n",
    "import pandas as pd\n",
    "import numpy as np\n",
    "from sklearn.metrics import accuracy_score\n",
    "from sklearn.metrics import precision_score\n",
    "from sklearn.metrics import recall_score\n",
    "from sklearn.metrics import f1_score\n",
    "from sklearn.metrics import cohen_kappa_score\n",
    "from sklearn.metrics import roc_auc_score\n",
    "import seaborn as sns\n",
    "import matplotlib.pyplot as plt\n",
    "import itertools\n",
    "from sklearn.utils.multiclass import unique_labels\n",
    "\n",
    "from scipy import stats\n",
    "from IPython.display import display, HTML\n",
    "\n",
    "from sklearn import metrics\n",
    "from sklearn.metrics import classification_report\n",
    "from sklearn import preprocessing\n",
    "from sklearn.metrics import confusion_matrix\n"
   ]
  },
  {
   "cell_type": "code",
   "execution_count": 2,
   "metadata": {},
   "outputs": [],
   "source": [
    "#### read in the flattened dataframes with the labels for the 98 to 2015 data\n",
    "MSFT_df_98_to_15_df = pd.read_csv(r\"/Users/fahad/project_repo/data/external/MSFT_flat_98_to_2015.csv\")\n",
    "AAPL_df_98_to_15_df = pd.read_csv(r\"/Users/fahad/project_repo/data/external/AAPL_flat_98_to_2015.csv\")\n",
    "AMZN_df_98_to_15_df = pd.read_csv(r\"/Users/fahad/project_repo/data/external/AMZN_flat_98_to_2015.csv\")"
   ]
  },
  {
   "cell_type": "code",
   "execution_count": null,
   "metadata": {},
   "outputs": [],
   "source": []
  },
  {
   "cell_type": "code",
   "execution_count": 3,
   "metadata": {},
   "outputs": [],
   "source": [
    "#vertically stack the MSFT and AAPL dataframes on top of eachother\n",
    "df = pd.concat([MSFT_df_98_to_15_df, AAPL_df_98_to_15_df], axis=0)\n",
    "#vertically stack the MSFT&AAPL df and the AMZN dataframe ontop of eachother\n",
    "df = pd.concat([df,AMZN_df_98_to_15_df],axis = 0)"
   ]
  },
  {
   "cell_type": "code",
   "execution_count": 4,
   "metadata": {},
   "outputs": [],
   "source": [
    "#drop the dates column\n",
    "df = df.drop(['Unnamed: 0'], axis = 1)\n",
    "\n",
    "y_train = df['Label']\n",
    "#drop the labels from the instances\n",
    "df = df.drop(['Label'], axis =1)\n",
    "#assign the remaining columns in the dataframe\n",
    "X_train = df\n",
    "\n"
   ]
  },
  {
   "cell_type": "code",
   "execution_count": 5,
   "metadata": {},
   "outputs": [],
   "source": [
    "#list of gammas to try\n",
    "gammas  = [0.001, 0.01, 0.1, 1]\n",
    "\n",
    "#parameters for the grid search to optimise the SVM\n",
    "parameters = {'kernel':('linear', 'rbf'), 'C':[1, 10], 'gamma':gammas}\n",
    "\n",
    "#support vector machine object\n",
    "svc = svm.SVC(gamma=\"scale\")"
   ]
  },
  {
   "cell_type": "code",
   "execution_count": 6,
   "metadata": {},
   "outputs": [],
   "source": [
    "#grid search function searches the space of parameters and optimises for the best possible score\n",
    "def svc_param_selection(X, y, nfolds):\n",
    "    Cs = [0.001, 0.01, 0.1, 1, 10]\n",
    "    gammas = [0.001, 0.01, 0.1, 1]\n",
    "    param_grid = {'C': Cs, 'gamma' : gammas, 'kernel':('linear','rbf')}\n",
    "    grid_search = GridSearchCV(svm.SVC(kernel='rbf'), param_grid, cv=nfolds)\n",
    "    grid_search.fit(X, y)\n",
    "    grid_search.best_params_\n",
    "    return grid_search.best_params_\n"
   ]
  },
  {
   "cell_type": "code",
   "execution_count": 7,
   "metadata": {},
   "outputs": [
    {
     "data": {
      "text/plain": [
       "SVC(C=10, cache_size=200, class_weight=None, coef0=0.0,\n",
       "    decision_function_shape='ovr', degree=3, gamma='auto_deprecated',\n",
       "    kernel='linear', max_iter=-1, probability=False, random_state=None,\n",
       "    shrinking=True, tol=0.001, verbose=False)"
      ]
     },
     "execution_count": 7,
     "metadata": {},
     "output_type": "execute_result"
    }
   ],
   "source": [
    "#returns the best params for the SVM object \n",
    "svc_param_selection(X_train,y_train, 5)\n",
    "\n",
    "clf = svm.SVC(kernel=\"linear\", C=10)\n",
    "\n",
    "clf.fit(X_train, y_train)"
   ]
  },
  {
   "cell_type": "code",
   "execution_count": 8,
   "metadata": {},
   "outputs": [],
   "source": [
    "#import the test dataframes and concatenate them to get the predictions using the svm \n",
    "\n",
    "###read in the flattened dataframes with the labels for 2015 to 2019\n",
    "MSFT_df_15_to_19_df = pd.read_csv(r\"/Users/fahad/project_repo/data/external/MSFT_flat_2015_2019.csv\")\n",
    "AAPL_df_15_to_19_df = pd.read_csv(r\"/Users/fahad/project_repo/data/external/AAPL_flat_2015_2019.csv\")\n",
    "AMZN_df_15_to_19_df = pd.read_csv(r\"/Users/fahad/project_repo/data/external/AMZN_flat_2015_2019.csv\")\n",
    "\n",
    "#concat the dataframes to create the X_test and y_test objects that we will evaluate the performance of our \n",
    "#optimised SVM on\n",
    "\n",
    "df_2 = pd.concat([MSFT_df_15_to_19_df, AAPL_df_15_to_19_df], axis=0)\n",
    "df_2 = pd.concat([df_2,AMZN_df_15_to_19_df],axis = 0)\n",
    "\n",
    "#dates used to index the separate stocks which we will test on \n",
    "\n",
    "dates = df_2['Unnamed: 0']\n",
    "df_2 = df_2.drop(['Unnamed: 0'], axis = 1)\n",
    "\n",
    "y_test = df_2.Label\n",
    "df_2 = df_2.drop(['Label'], axis=1)\n"
   ]
  },
  {
   "cell_type": "code",
   "execution_count": 9,
   "metadata": {},
   "outputs": [],
   "source": [
    "X_test = df_2"
   ]
  },
  {
   "cell_type": "code",
   "execution_count": 10,
   "metadata": {},
   "outputs": [],
   "source": [
    "y_pred = clf.predict(X_test)\n",
    "y_pred = y_pred.tolist()"
   ]
  },
  {
   "cell_type": "code",
   "execution_count": 11,
   "metadata": {},
   "outputs": [
    {
     "name": "stdout",
     "output_type": "stream",
     "text": [
      "saved model acc: 0.8133333333333334\n",
      "Precision: 0.796296\n",
      "Recall: 0.934783\n",
      "F1 score: 0.860000\n",
      "Cohens kappa: 0.585308\n",
      "ROC AUC: 0.777736\n"
     ]
    }
   ],
   "source": [
    "from sklearn.metrics import accuracy_score\n",
    "print (\"saved model acc: %s\" % accuracy_score(y_test, y_pred))\n",
    "# accuracy: (tp + tn) / (p + n)\n",
    "\n",
    "# precision tp / (tp + fp)\n",
    "precision = precision_score(y_test, y_pred)\n",
    "print('Precision: %f' % precision)\n",
    "# recall: tp / (tp + fn)\n",
    "recall = recall_score(y_test, y_pred)\n",
    "print('Recall: %f' % recall)\n",
    "# f1: 2 tp / (2 tp + fp + fn)\n",
    "f1 = f1_score(y_test, y_pred)\n",
    "print('F1 score: %f' % f1)\n",
    " \n",
    "# kappa\n",
    "kappa = cohen_kappa_score(y_test, y_pred)\n",
    "print('Cohens kappa: %f' % kappa)\n",
    "# ROC AUC\n",
    "auc = roc_auc_score(y_test, y_pred)\n",
    "print('ROC AUC: %f' % auc)"
   ]
  },
  {
   "cell_type": "code",
   "execution_count": 12,
   "metadata": {},
   "outputs": [],
   "source": [
    "%matplotlib inline\n",
    "\n",
    "def plot_confusion_matrix(cm, classes,\n",
    "                          normalize=False,\n",
    "                          title=\"Confusion Matrix\",\n",
    "                          cmap=plt.cm.Blues):\n",
    "    plt.imshow(cm, interpolation=\"nearest\", cmap=cmap)\n",
    "    plt.title(title)\n",
    "    tick_marks = np.arange(len(classes))\n",
    "    plt.xticks(tick_marks, classes, rotation=45)\n",
    "    plt.yticks(tick_marks, classes)\n",
    "    \n",
    "    if normalize:\n",
    "        cm = cm.astype(\"float\")/ cm.sum(axis=1)[:,np.newaxis]\n",
    "        print (\"Normalised confusion matrix\")\n",
    "    else:\n",
    "        print (\"Confusion matrix, without normalisation\")\n",
    "        \n",
    "    print (cm)\n",
    "    \n",
    "    thresh = cm.max()/2\n",
    "    for i,j in itertools.product(range(cm.shape[0]),range(cm.shape[1])):\n",
    "        plt.text(j, i, cm[i,j],\n",
    "        horizontalalignment = \"center\",\n",
    "        color=\"white\" if cm[i,j] > thresh else \"black\" )\n",
    "        \n",
    "    plt.tight_layout()\n",
    "    plt.ylabel(\"True Label\")\n",
    "    plt.xlabel(\"Predicted Label\")\n",
    "    "
   ]
  },
  {
   "cell_type": "code",
   "execution_count": 13,
   "metadata": {},
   "outputs": [
    {
     "name": "stdout",
     "output_type": "stream",
     "text": [
      "Confusion matrix, without normalisation\n",
      "[[36 22]\n",
      " [ 6 86]]\n"
     ]
    },
    {
     "data": {
      "image/png": "[encoded data removed]",
      "text/plain": [
       "<Figure size 432x288 with 1 Axes>"
      ]
     },
     "metadata": {
      "needs_background": "light"
     },
     "output_type": "display_data"
    }
   ],
   "source": [
    "cm = confusion_matrix(y_test, y_pred)\n",
    "cm_labels = ['Sell', 'Buy']\n",
    "plot_confusion_matrix(cm, cm_labels, title=\"Confusion Matrix\")"
   ]
  },
  {
   "cell_type": "code",
   "execution_count": 14,
   "metadata": {},
   "outputs": [],
   "source": [
    "MSFT_dates = list(dates[:50])\n",
    "MSFT_preds = list(y_pred[:50])\n",
    "\n",
    "AAPL_dates = list(dates[51:100])\n",
    "AAPL_preds = list(y_pred[51:100])\n",
    "\n",
    "AMZN_dates = list(dates[100:])\n",
    "AMZN_preds = list(y_pred[100:])"
   ]
  },
  {
   "cell_type": "code",
   "execution_count": 15,
   "metadata": {},
   "outputs": [],
   "source": [
    "def pred_to_df(list_of_dates, list_of_preds):\n",
    "    \"\"\"takes a list of dates and a list of predictions for the dates and creates a dataframe object\"\"\"\n",
    "    #dict to be transformed into df\n",
    "    empty_dict = dict()\n",
    "    for i in range(len(list_of_dates)):\n",
    "        empty_dict[list_of_dates[i]] = [list_of_preds[i]]\n",
    "        \n",
    "    preds_df = pd.DataFrame.from_dict(empty_dict)\n",
    "    preds_df = preds_df.T\n",
    "    \n",
    "    return preds_df\n",
    "\n",
    "    "
   ]
  },
  {
   "cell_type": "code",
   "execution_count": 16,
   "metadata": {},
   "outputs": [],
   "source": [
    "MSFT_df = pred_to_df(MSFT_dates,MSFT_preds)\n",
    "AAPL_df = pred_to_df(AAPL_dates, AAPL_preds)\n",
    "AMZN_df = pred_to_df(AMZN_dates, AMZN_preds)\n",
    "\n"
   ]
  },
  {
   "cell_type": "code",
   "execution_count": 17,
   "metadata": {},
   "outputs": [],
   "source": [
    "export_predictions  = MSFT_df.to_csv('MSFT_15_19_preds_1d_SVM_binary.csv')\n",
    "export_predictions_two  = AAPL_df.to_csv('AAPL_15_19_preds_1d_SVM_binary.csv')\n",
    "export_predictions_three = AMZN_df.to_csv('AMZN_15_19_preds_1d_SVM_binary.csv')"
   ]
  },
  {
   "cell_type": "code",
   "execution_count": 18,
   "metadata": {},
   "outputs": [
    {
     "name": "stderr",
     "output_type": "stream",
     "text": [
      "/Users/fahad/anaconda3/lib/python3.7/site-packages/ipykernel_launcher.py:2: FutureWarning: The signature of `Series.to_csv` was aligned to that of `DataFrame.to_csv`, and argument 'header' will change its default value from False to True: please pass an explicit value to suppress this warning.\n",
      "  \n"
     ]
    }
   ],
   "source": [
    "export_X_train = X_train.to_csv(\"X_train_98_15.csv\")\n",
    "export_y_train = y_train.to_csv(\"y_train_98_15.csv\")\n",
    "export_X_test = X_test.to_csv(\"X_test_98_15.csv\")"
   ]
  },
  {
   "cell_type": "code",
   "execution_count": null,
   "metadata": {},
   "outputs": [],
   "source": []
  }
 ],
 "metadata": {
  "kernelspec": {
   "display_name": "Python 3",
   "language": "python",
   "name": "python3"
  },
  "language_info": {
   "codemirror_mode": {
    "name": "ipython",
    "version": 3
   },
   "file_extension": ".py",
   "mimetype": "text/x-python",
   "name": "python",
   "nbconvert_exporter": "python",
   "pygments_lexer": "ipython3",
   "version": "3.7.3"
  }
 },
 "nbformat": 4,
 "nbformat_minor": 2
}
