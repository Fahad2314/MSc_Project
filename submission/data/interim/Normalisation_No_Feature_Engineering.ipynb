{
 "cells": [
  {
   "cell_type": "code",
   "execution_count": 1,
   "metadata": {},
   "outputs": [],
   "source": [
    "import pandas as pd\n",
    "import numpy as np \n",
    "from sklearn.model_selection import train_test_split\n",
    "from sklearn.preprocessing import MinMaxScaler\n",
    "import csv\n",
    "\n"
   ]
  },
  {
   "cell_type": "code",
   "execution_count": 2,
   "metadata": {},
   "outputs": [],
   "source": [
    "fields = ['Date', 'Open','High','Low','Close','Volume']\n",
    "MSFT_df = pd.read_csv(r\"/Users/fahad/project_repo/data/processed/MSFT.csv\", usecols=fields)\n",
    "AAPL_df = pd.read_csv(r\"/Users/fahad/project_repo/data/processed/AAPL.csv\",usecols=fields)\n",
    "AMZN_df = pd.read_csv(r\"/Users/fahad/project_repo/data/processed/AMZN.csv\",usecols=fields)"
   ]
  },
  {
   "cell_type": "markdown",
   "metadata": {},
   "source": [
    "# Normalisation"
   ]
  },
  {
   "cell_type": "markdown",
   "metadata": {},
   "source": [
    "# Normalise the Columns"
   ]
  },
  {
   "cell_type": "code",
   "execution_count": 3,
   "metadata": {},
   "outputs": [],
   "source": [
    "scaler = MinMaxScaler()\n",
    "\n",
    "list_1 = [MSFT_df,AAPL_df,AMZN_df]\n",
    "\n",
    "list_2= ['Open','High','Low','Close','Volume']\n",
    "\n",
    "def normalize_col(df_col):\n",
    "    dataNorm=((df_col-df_col.min())/(df_col.max()-df_col.min()))\n",
    "    return dataNorm\n",
    "\n",
    "\n",
    "for dataframe in list_1:\n",
    "    for col in list_2:\n",
    "        dataframe[col] = normalize_col(dataframe[col])\n",
    "\n"
   ]
  },
  {
   "cell_type": "code",
   "execution_count": 4,
   "metadata": {},
   "outputs": [
    {
     "name": "stdout",
     "output_type": "stream",
     "text": [
      "         Date      Open      High       Low     Close    Volume\n",
      "0  2019-07-10  0.744656  0.746298  0.759324  0.742976  0.016024\n",
      "1  2019-07-09  0.737755  0.736526  0.751678  0.736149  0.027496\n",
      "2  2019-07-08  0.740198  0.737315  0.749006  0.739183  0.022672\n",
      "3  2019-07-05  0.737389  0.738711  0.751181  0.739790  0.024988\n",
      "4  2019-07-03  0.742641  0.741199  0.754755  0.742217  0.017310\n",
      "\n",
      "\n",
      "         Date      Open      High       Low     Close    Volume\n",
      "0  2019-07-10  0.273940  0.275380  0.274980  0.275847  0.059225\n",
      "1  2019-07-09  0.270097  0.272186  0.270933  0.273041  0.104122\n",
      "2  2019-07-08  0.272432  0.272027  0.270350  0.271271  0.130448\n",
      "3  2019-07-05  0.276116  0.277346  0.276887  0.277381  0.087701\n",
      "4  2019-07-03  0.276015  0.276421  0.276582  0.277642  0.056442\n",
      "\n",
      "\n",
      "         Date      Open      High       Low     Close    Volume\n",
      "0  2019-07-10  0.979530  0.987498  0.991233  0.991389  0.035655\n",
      "1  2019-07-09  0.955560  0.970412  0.965365  0.974817  0.040467\n",
      "2  2019-07-08  0.948829  0.953776  0.957783  0.957124  0.026677\n",
      "3  2019-07-05  0.946113  0.948836  0.956314  0.952497  0.024231\n",
      "4  2019-07-03  0.949700  0.946728  0.958904  0.950574  0.015230\n"
     ]
    }
   ],
   "source": [
    "print (MSFT_df.head(5))\n",
    "print (\"\\n\")\n",
    "print (AAPL_df.head(5))\n",
    "print (\"\\n\")\n",
    "print (AMZN_df.head(5))"
   ]
  },
  {
   "cell_type": "code",
   "execution_count": 5,
   "metadata": {},
   "outputs": [],
   "source": [
    "export_MSFT= MSFT_df.to_csv(r'MSFT_no_fe.csv', index=False)\n",
    "export_AMZN = AMZN_df.to_csv(r'AMZN_no_fe.csv',index=False) \n",
    "export_AAPL = AAPL_df.to_csv(r'AAPL_no_fe.csv',index=False)"
   ]
  }
 ],
 "metadata": {
  "kernelspec": {
   "display_name": "Python 3",
   "language": "python",
   "name": "python3"
  },
  "language_info": {
   "codemirror_mode": {
    "name": "ipython",
    "version": 3
   },
   "file_extension": ".py",
   "mimetype": "text/x-python",
   "name": "python",
   "nbconvert_exporter": "python",
   "pygments_lexer": "ipython3",
   "version": "3.7.3"
  }
 },
 "nbformat": 4,
 "nbformat_minor": 2
}
