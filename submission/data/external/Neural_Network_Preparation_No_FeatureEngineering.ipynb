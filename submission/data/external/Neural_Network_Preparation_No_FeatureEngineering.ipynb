{
 "cells": [
  {
   "cell_type": "code",
   "execution_count": 1,
   "metadata": {},
   "outputs": [],
   "source": [
    "import pandas as pd\n",
    "import numpy as np \n",
    "from sklearn.model_selection import train_test_split\n",
    "from sklearn.preprocessing import MinMaxScaler\n",
    "import csv\n",
    "from pandas.tseries.offsets import MonthEnd\n",
    "from datetime import datetime, timedelta, date\n",
    "import requests\n",
    "import json "
   ]
  },
  {
   "cell_type": "code",
   "execution_count": 3,
   "metadata": {},
   "outputs": [],
   "source": [
    "fields = ['Date', 'Open','High','Low','Close','Volume']\n",
    "MSFT_df = pd.read_csv(r\"/Users/fahad/project_repo/data/interim/MSFT_no_fe.csv\", usecols=fields)\n",
    "AAPL_df = pd.read_csv(r\"/Users/fahad/project_repo/data/interim/AAPL_no_fe.csv\", usecols=fields)\n",
    "AMZN_df = pd.read_csv(r\"/Users/fahad/project_repo/data/interim/AMZN_no_fe.csv\", usecols=fields)"
   ]
  },
  {
   "cell_type": "code",
   "execution_count": 4,
   "metadata": {},
   "outputs": [
    {
     "data": {
      "text/html": [
       "<div>\n",
       "<style scoped>\n",
       "    .dataframe tbody tr th:only-of-type {\n",
       "        vertical-align: middle;\n",
       "    }\n",
       "\n",
       "    .dataframe tbody tr th {\n",
       "        vertical-align: top;\n",
       "    }\n",
       "\n",
       "    .dataframe thead th {\n",
       "        text-align: right;\n",
       "    }\n",
       "</style>\n",
       "<table border=\"1\" class=\"dataframe\">\n",
       "  <thead>\n",
       "    <tr style=\"text-align: right;\">\n",
       "      <th></th>\n",
       "      <th>Date</th>\n",
       "      <th>Open</th>\n",
       "      <th>High</th>\n",
       "      <th>Low</th>\n",
       "      <th>Close</th>\n",
       "      <th>Volume</th>\n",
       "    </tr>\n",
       "  </thead>\n",
       "  <tbody>\n",
       "    <tr>\n",
       "      <th>0</th>\n",
       "      <td>2019-07-10</td>\n",
       "      <td>0.744656</td>\n",
       "      <td>0.746298</td>\n",
       "      <td>0.759324</td>\n",
       "      <td>0.742976</td>\n",
       "      <td>0.016024</td>\n",
       "    </tr>\n",
       "    <tr>\n",
       "      <th>1</th>\n",
       "      <td>2019-07-09</td>\n",
       "      <td>0.737755</td>\n",
       "      <td>0.736526</td>\n",
       "      <td>0.751678</td>\n",
       "      <td>0.736149</td>\n",
       "      <td>0.027496</td>\n",
       "    </tr>\n",
       "    <tr>\n",
       "      <th>2</th>\n",
       "      <td>2019-07-08</td>\n",
       "      <td>0.740198</td>\n",
       "      <td>0.737315</td>\n",
       "      <td>0.749006</td>\n",
       "      <td>0.739183</td>\n",
       "      <td>0.022672</td>\n",
       "    </tr>\n",
       "    <tr>\n",
       "      <th>3</th>\n",
       "      <td>2019-07-05</td>\n",
       "      <td>0.737389</td>\n",
       "      <td>0.738711</td>\n",
       "      <td>0.751181</td>\n",
       "      <td>0.739790</td>\n",
       "      <td>0.024988</td>\n",
       "    </tr>\n",
       "    <tr>\n",
       "      <th>4</th>\n",
       "      <td>2019-07-03</td>\n",
       "      <td>0.742641</td>\n",
       "      <td>0.741199</td>\n",
       "      <td>0.754755</td>\n",
       "      <td>0.742217</td>\n",
       "      <td>0.017310</td>\n",
       "    </tr>\n",
       "  </tbody>\n",
       "</table>\n",
       "</div>"
      ],
      "text/plain": [
       "         Date      Open      High       Low     Close    Volume\n",
       "0  2019-07-10  0.744656  0.746298  0.759324  0.742976  0.016024\n",
       "1  2019-07-09  0.737755  0.736526  0.751678  0.736149  0.027496\n",
       "2  2019-07-08  0.740198  0.737315  0.749006  0.739183  0.022672\n",
       "3  2019-07-05  0.737389  0.738711  0.751181  0.739790  0.024988\n",
       "4  2019-07-03  0.742641  0.741199  0.754755  0.742217  0.017310"
      ]
     },
     "execution_count": 4,
     "metadata": {},
     "output_type": "execute_result"
    }
   ],
   "source": []
  },
  {
   "cell_type": "code",
   "execution_count": null,
   "metadata": {},
   "outputs": [],
   "source": []
  }
 ],
 "metadata": {
  "kernelspec": {
   "display_name": "Python 3",
   "language": "python",
   "name": "python3"
  },
  "language_info": {
   "codemirror_mode": {
    "name": "ipython",
    "version": 3
   },
   "file_extension": ".py",
   "mimetype": "text/x-python",
   "name": "python",
   "nbconvert_exporter": "python",
   "pygments_lexer": "ipython3",
   "version": "3.7.3"
  }
 },
 "nbformat": 4,
 "nbformat_minor": 2
}
