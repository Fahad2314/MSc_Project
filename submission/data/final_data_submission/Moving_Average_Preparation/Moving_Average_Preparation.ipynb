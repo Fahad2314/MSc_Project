{
 "cells": [
  {
   "cell_type": "code",
   "execution_count": 61,
   "metadata": {},
   "outputs": [],
   "source": [
    "import pandas as pd\n",
    "import numpy as np"
   ]
  },
  {
   "cell_type": "code",
   "execution_count": 62,
   "metadata": {},
   "outputs": [],
   "source": [
    "MSFT = pd.read_csv(\"/Users/fahad/project_repo/data/raw/MSFT.csv\")\n",
    "AAPL = pd.read_csv(\"/Users/fahad/project_repo/data/raw/AAPL.csv\")\n",
    "AMZN = pd.read_csv(\"/Users/fahad/project_repo/data/raw/AMZN.csv\")\n",
    "\n",
    "\n",
    "FB = pd.read_csv(\"/Users/fahad/project_repo/data/final/FB/FB.csv\", index_col=0)\n",
    "PFE = pd.read_csv(\"/Users/fahad/project_repo/data/final/PFE/PFE.csv\",index_col=0)\n",
    "MAR = pd.read_csv(\"/Users/fahad/project_repo/data/final/MAR/MAR.csv\", index_col=0)\n",
    "GOOG = pd.read_csv(\"/Users/fahad/project_repo/data/final/GOOG/GOOG.csv\", index_col=0)\n",
    "NFLX = pd.read_csv(\"/Users/fahad/project_repo/data/final/NFLX/NFLX.csv\", index_col=0)"
   ]
  },
  {
   "cell_type": "code",
   "execution_count": 63,
   "metadata": {},
   "outputs": [],
   "source": [
    "FB['Date'] = pd.to_datetime(FB.index, format=\"%Y-%m-%d\")\n",
    "PFE['Date'] = pd.to_datetime(PFE.index, format=\"%Y-%m-%d\")\n",
    "MAR['Date'] = pd.to_datetime(MAR.index, format=\"%Y-%m-%d\")\n",
    "GOOG['Date'] = pd.to_datetime(GOOG.index, format=\"%Y-%m-%d\")\n",
    "NFLX['Date'] = pd.to_datetime(NFLX.index, format=\"%Y-%m-%d\")"
   ]
  },
  {
   "cell_type": "code",
   "execution_count": 64,
   "metadata": {},
   "outputs": [],
   "source": [
    "MSFT.Date = pd.to_datetime(MSFT['Date'], format = \"%Y-%m-%d\")\n",
    "\n",
    "AAPL.Date = pd.to_datetime(AAPL['Date'], format = \"%Y-%m-%d\")\n",
    "\n",
    "AMZN.Date = pd.to_datetime(AMZN['Date'], format = \"%Y-%m-%d\")\n",
    "\n"
   ]
  },
  {
   "cell_type": "code",
   "execution_count": null,
   "metadata": {},
   "outputs": [],
   "source": []
  },
  {
   "cell_type": "code",
   "execution_count": 65,
   "metadata": {},
   "outputs": [],
   "source": [
    "def time_split(df):\n",
    "    \"\"\"split dataframe from 2010-2019 for moving average and RSI\"\"\"\n",
    "    split_date = \"2009-12-31\"\n",
    "    \n",
    "    split_date = pd.to_datetime(split_date, format = \"%Y-%m-%d\")\n",
    "    \n",
    "    temp_df = df[df['Date'] > split_date]\n",
    "    \n",
    "    return (temp_df)"
   ]
  },
  {
   "cell_type": "code",
   "execution_count": 66,
   "metadata": {},
   "outputs": [],
   "source": [
    "MSFT = time_split(MSFT)\n",
    "AAPL = time_split(AAPL)\n",
    "AMZN = time_split(AMZN)\n",
    "FB = time_split(FB)\n",
    "PFE = time_split(PFE)\n",
    "MAR = time_split(MAR)\n",
    "GOOG = time_split(GOOG)\n",
    "NFLX = time_split(NFLX)\n",
    "\n",
    "\n",
    "\n",
    "\n",
    "\n",
    "\n",
    "\n",
    "\n",
    "\n",
    "\n",
    "\n",
    "\n"
   ]
  },
  {
   "cell_type": "code",
   "execution_count": 68,
   "metadata": {},
   "outputs": [],
   "source": [
    "export_MSFT = MSFT.to_csv(\"/Users/fahad/project_repo/data/final/Moving_Average_Preparation/MSFT_MA_prep.csv\")\n",
    "\n",
    "export_AAPL = AAPL.to_csv(\"/Users/fahad/project_repo/data/final/Moving_Average_Preparation/AAPL_MA_prep.csv\")\n",
    "\n",
    "export_AMZN = AMZN.to_csv(\"/Users/fahad/project_repo/data/final/Moving_Average_Preparation/AMZN_MA_prep.csv\")\n",
    "\n",
    "export_FB = FB.to_csv(\"/Users/fahad/project_repo/data/final/Moving_Average_Preparation/FB_MA_prep.csv\")\n",
    "\n",
    "export_PFE = PFE.to_csv(\"/Users/fahad/project_repo/data/final/Moving_Average_Preparation/PFE_MA_prep.csv\")\n",
    "\n",
    "export_MAR = MAR.to_csv(\"/Users/fahad/project_repo/data/final/Moving_Average_Preparation/MAR_MA_prep.csv\")\n",
    "\n",
    "export_GOOG = GOOG.to_csv(\"/Users/fahad/project_repo/data/final/Moving_Average_Preparation/GOOG_MA_prep.csv\")\n",
    "\n",
    "export_NFLX = NFLX.to_csv(\"/Users/fahad/project_repo/data/final/Moving_Average_Preparation/NFLX_MA_prep.csv\")\n"
   ]
  },
  {
   "cell_type": "code",
   "execution_count": null,
   "metadata": {},
   "outputs": [],
   "source": []
  }
 ],
 "metadata": {
  "kernelspec": {
   "display_name": "Python 3",
   "language": "python",
   "name": "python3"
  },
  "language_info": {
   "codemirror_mode": {
    "name": "ipython",
    "version": 3
   },
   "file_extension": ".py",
   "mimetype": "text/x-python",
   "name": "python",
   "nbconvert_exporter": "python",
   "pygments_lexer": "ipython3",
   "version": "3.7.3"
  }
 },
 "nbformat": 4,
 "nbformat_minor": 2
}
