{
 "cells": [
  {
   "cell_type": "code",
   "execution_count": 1,
   "metadata": {},
   "outputs": [],
   "source": [
    "import pandas as pd\n",
    "import numpy as np \n",
    "from sklearn.model_selection import train_test_split\n",
    "from sklearn.preprocessing import MinMaxScaler\n",
    "import csv\n",
    "from pandas.tseries.offsets import MonthEnd\n",
    "from datetime import datetime, timedelta, date\n",
    "import requests\n",
    "import json \n",
    "import ta\n",
    "import datetime as dt\n",
    "from dateutil import parser"
   ]
  },
  {
   "cell_type": "code",
   "execution_count": 89,
   "metadata": {},
   "outputs": [],
   "source": [
    "#CSV OF 6 YEAR WINDOWS FROM THE START YEAR\n",
    "MSFT_98 = pd.read_csv(\"/Users/fahad/project_repo/data/final/MSFT/1998_MSFT.csv\")\n",
    "MSFT_02 = pd.read_csv(\"/Users/fahad/project_repo/data/final/MSFT/2002_MSFT.csv\")\n",
    "MSFT_06 = pd.read_csv(\"/Users/fahad/project_repo/data/final/MSFT/2006_MSFT.csv\")\n",
    "MSFT_10 = pd.read_csv(\"/Users/fahad/project_repo/data/final/MSFT/2010_MSFT.csv\")\n",
    "MSFT_14 = pd.read_csv(\"/Users/fahad/project_repo/data/final/MSFT/2014_MSFT.csv\")\n",
    "\n",
    "AAPL_98 = pd.read_csv(\"/Users/fahad/project_repo/data/final/AAPL/1998_AAPL.csv\")\n",
    "AAPL_02 = pd.read_csv(\"/Users/fahad/project_repo/data/final/AAPL/2002_AAPL.csv\")\n",
    "AAPL_06 = pd.read_csv(\"/Users/fahad/project_repo/data/final/AAPL/2006_AAPL.csv\")\n",
    "AAPL_10 = pd.read_csv(\"/Users/fahad/project_repo/data/final/AAPL/2010_AAPL.csv\")\n",
    "AAPL_14 = pd.read_csv(\"/Users/fahad/project_repo/data/final/AAPL/2014_AAPL.csv\")\n",
    "\n",
    "\n",
    "\n",
    "AMZN_98 = pd.read_csv(\"/Users/fahad/project_repo/data/final/AMZN/1998_AMZN.csv\")\n",
    "AMZN_02 = pd.read_csv(\"/Users/fahad/project_repo/data/final/AMZN/2002_AMZN.csv\")\n",
    "AMZN_06 = pd.read_csv(\"/Users/fahad/project_repo/data/final/AMZN/2006_AMZN.csv\")\n",
    "AMZN_10 = pd.read_csv(\"/Users/fahad/project_repo/data/final/AMZN/2010_AMZN.csv\")\n",
    "AMZN_14 = pd.read_csv(\"/Users/fahad/project_repo/data/final/AMZN/2014_AMZN.csv\")\n"
   ]
  },
  {
   "cell_type": "code",
   "execution_count": 100,
   "metadata": {},
   "outputs": [
    {
     "data": {
      "text/html": [
       "<div>\n",
       "<style scoped>\n",
       "    .dataframe tbody tr th:only-of-type {\n",
       "        vertical-align: middle;\n",
       "    }\n",
       "\n",
       "    .dataframe tbody tr th {\n",
       "        vertical-align: top;\n",
       "    }\n",
       "\n",
       "    .dataframe thead th {\n",
       "        text-align: right;\n",
       "    }\n",
       "</style>\n",
       "<table border=\"1\" class=\"dataframe\">\n",
       "  <thead>\n",
       "    <tr style=\"text-align: right;\">\n",
       "      <th></th>\n",
       "      <th>Date</th>\n",
       "      <th>Open</th>\n",
       "      <th>High</th>\n",
       "      <th>Low</th>\n",
       "      <th>Close</th>\n",
       "      <th>Volume</th>\n",
       "      <th>Date.1</th>\n",
       "    </tr>\n",
       "  </thead>\n",
       "  <tbody>\n",
       "    <tr>\n",
       "      <th>48</th>\n",
       "      <td>2002-02-28</td>\n",
       "      <td>64.15</td>\n",
       "      <td>64.50</td>\n",
       "      <td>57.15</td>\n",
       "      <td>58.34</td>\n",
       "      <td>565579201</td>\n",
       "      <td>2002-02-28</td>\n",
       "    </tr>\n",
       "    <tr>\n",
       "      <th>49</th>\n",
       "      <td>2002-03-28</td>\n",
       "      <td>59.05</td>\n",
       "      <td>65.00</td>\n",
       "      <td>58.31</td>\n",
       "      <td>60.31</td>\n",
       "      <td>536621680</td>\n",
       "      <td>2002-03-28</td>\n",
       "    </tr>\n",
       "    <tr>\n",
       "      <th>50</th>\n",
       "      <td>2002-04-30</td>\n",
       "      <td>59.83</td>\n",
       "      <td>60.40</td>\n",
       "      <td>51.44</td>\n",
       "      <td>52.26</td>\n",
       "      <td>708739238</td>\n",
       "      <td>2002-04-30</td>\n",
       "    </tr>\n",
       "    <tr>\n",
       "      <th>51</th>\n",
       "      <td>2002-05-31</td>\n",
       "      <td>52.16</td>\n",
       "      <td>56.44</td>\n",
       "      <td>48.35</td>\n",
       "      <td>50.91</td>\n",
       "      <td>710132638</td>\n",
       "      <td>2002-05-31</td>\n",
       "    </tr>\n",
       "    <tr>\n",
       "      <th>52</th>\n",
       "      <td>2002-06-28</td>\n",
       "      <td>50.99</td>\n",
       "      <td>56.44</td>\n",
       "      <td>49.17</td>\n",
       "      <td>54.70</td>\n",
       "      <td>917036080</td>\n",
       "      <td>2002-06-28</td>\n",
       "    </tr>\n",
       "  </tbody>\n",
       "</table>\n",
       "</div>"
      ],
      "text/plain": [
       "          Date   Open   High    Low  Close     Volume      Date.1\n",
       "48  2002-02-28  64.15  64.50  57.15  58.34  565579201  2002-02-28\n",
       "49  2002-03-28  59.05  65.00  58.31  60.31  536621680  2002-03-28\n",
       "50  2002-04-30  59.83  60.40  51.44  52.26  708739238  2002-04-30\n",
       "51  2002-05-31  52.16  56.44  48.35  50.91  710132638  2002-05-31\n",
       "52  2002-06-28  50.99  56.44  49.17  54.70  917036080  2002-06-28"
      ]
     },
     "execution_count": 100,
     "metadata": {},
     "output_type": "execute_result"
    }
   ],
   "source": [
    "MSFT_98[:53].tail()"
   ]
  },
  {
   "cell_type": "code",
   "execution_count": 98,
   "metadata": {},
   "outputs": [
    {
     "data": {
      "text/html": [
       "<div>\n",
       "<style scoped>\n",
       "    .dataframe tbody tr th:only-of-type {\n",
       "        vertical-align: middle;\n",
       "    }\n",
       "\n",
       "    .dataframe tbody tr th {\n",
       "        vertical-align: top;\n",
       "    }\n",
       "\n",
       "    .dataframe thead th {\n",
       "        text-align: right;\n",
       "    }\n",
       "</style>\n",
       "<table border=\"1\" class=\"dataframe\">\n",
       "  <thead>\n",
       "    <tr style=\"text-align: right;\">\n",
       "      <th></th>\n",
       "      <th>Date</th>\n",
       "      <th>Open</th>\n",
       "      <th>High</th>\n",
       "      <th>Low</th>\n",
       "      <th>Close</th>\n",
       "      <th>Volume</th>\n",
       "      <th>Date.1</th>\n",
       "    </tr>\n",
       "  </thead>\n",
       "  <tbody>\n",
       "    <tr>\n",
       "      <th>53</th>\n",
       "      <td>2002-07-31</td>\n",
       "      <td>54.12</td>\n",
       "      <td>54.93</td>\n",
       "      <td>41.41</td>\n",
       "      <td>47.98</td>\n",
       "      <td>1216093538</td>\n",
       "      <td>2002-07-31</td>\n",
       "    </tr>\n",
       "    <tr>\n",
       "      <th>54</th>\n",
       "      <td>2002-08-30</td>\n",
       "      <td>47.58</td>\n",
       "      <td>53.45</td>\n",
       "      <td>43.80</td>\n",
       "      <td>49.08</td>\n",
       "      <td>857878138</td>\n",
       "      <td>2002-08-30</td>\n",
       "    </tr>\n",
       "    <tr>\n",
       "      <th>55</th>\n",
       "      <td>2002-09-30</td>\n",
       "      <td>48.52</td>\n",
       "      <td>51.10</td>\n",
       "      <td>43.11</td>\n",
       "      <td>43.74</td>\n",
       "      <td>847852480</td>\n",
       "      <td>2002-09-30</td>\n",
       "    </tr>\n",
       "    <tr>\n",
       "      <th>56</th>\n",
       "      <td>2002-10-31</td>\n",
       "      <td>44.32</td>\n",
       "      <td>54.07</td>\n",
       "      <td>43.19</td>\n",
       "      <td>53.47</td>\n",
       "      <td>1237684817</td>\n",
       "      <td>2002-10-31</td>\n",
       "    </tr>\n",
       "    <tr>\n",
       "      <th>57</th>\n",
       "      <td>2002-11-29</td>\n",
       "      <td>52.43</td>\n",
       "      <td>58.64</td>\n",
       "      <td>51.90</td>\n",
       "      <td>57.68</td>\n",
       "      <td>777998180</td>\n",
       "      <td>2002-11-29</td>\n",
       "    </tr>\n",
       "  </tbody>\n",
       "</table>\n",
       "</div>"
      ],
      "text/plain": [
       "          Date   Open   High    Low  Close      Volume      Date.1\n",
       "53  2002-07-31  54.12  54.93  41.41  47.98  1216093538  2002-07-31\n",
       "54  2002-08-30  47.58  53.45  43.80  49.08   857878138  2002-08-30\n",
       "55  2002-09-30  48.52  51.10  43.11  43.74   847852480  2002-09-30\n",
       "56  2002-10-31  44.32  54.07  43.19  53.47  1237684817  2002-10-31\n",
       "57  2002-11-29  52.43  58.64  51.90  57.68   777998180  2002-11-29"
      ]
     },
     "execution_count": 98,
     "metadata": {},
     "output_type": "execute_result"
    }
   ],
   "source": [
    "MSFT_98[53:].head()"
   ]
  },
  {
   "cell_type": "code",
   "execution_count": 2,
   "metadata": {},
   "outputs": [],
   "source": [
    "def train_test_split_5_years(dataframe_to_split,stock_str,stock_date_str):\n",
    "    \"\"\"splits a monthly dataframe of 5 years into 4 years and 1 year returns two dataframes?? Takes in a dataframe \n",
    "    object with Date,OHLCV returns two dataframes pre-split into training and test \"\"\"\n",
    "    \n",
    "    #set containing the years within the dataframe\n",
    "    set_of_years = set()\n",
    "    \n",
    "    for index, row in dataframe_to_split.iterrows():\n",
    "        date = row.Date\n",
    "        #print (date)\n",
    "        \n",
    "        date = pd.to_datetime(date, format=\"%Y-%m-%d\")\n",
    "        \n",
    "        set_of_years.add(date.year)\n",
    "        \n",
    "    #print (set_of_years)\n",
    "    \n",
    "    #convert the set into a list\n",
    "    list_of_years = list(set_of_years)\n",
    "    \n",
    "    max_year = max(list_of_years)\n",
    "    \n",
    "    #print (max_year)\n",
    "    \n",
    "    max_year = str(max_year)\n",
    "    \n",
    "    split_date = max_year + \"-00-00\"\n",
    "    \n",
    "#     print (split_date)\n",
    "    \n",
    "            \n",
    "#     train_df = dataframe_to_split[pd.to_datetime(dataframe_to_split[\"Date\"])< pd.to_datetime(max_year, \n",
    "#                                                                                              format=\"%Y-%m-%d\")]\n",
    "#     test_df =  dataframe_to_split[pd.to_datetime(dataframe_to_split[\"Date\"])> pd.to_datetime(max_year,\n",
    "#                                                                                              format=\"%Y-%m-%d\")]\n",
    "    train_df = dataframe_to_split[:53]\n",
    "    test_df = dataframe_to_split[53:]\n",
    "    \n",
    "    name = \"{}_{}\".format(stock_date_str,stock_str)\n",
    "    print (name)\n",
    "    train_df.to_csv(\"/Users/fahad/project_repo/data/final/{}/{}_train.csv\".format(stock_str ,name))\n",
    "    test_df.to_csv(\"/Users/fahad/project_repo/data/final/{}/{}_test.csv\".format(stock_str ,name))\n",
    "\n",
    "\n",
    "\n",
    "    \n",
    "    \n",
    "    \n",
    "#     print (train_df.head(5))\n",
    "#     print (train_df.tail(5))\n",
    "#     print (\"\\n\")\n",
    "#     print (test_df.head(5))\n",
    "#     print (test_df.tail(5))\n",
    "    \n",
    "    \n",
    "#     print(temp_df)\n",
    "    \n",
    "    \n",
    "    \n",
    "    \n",
    "    \n",
    "    \n",
    "    \n",
    "    \n",
    "    \n",
    "    "
   ]
  },
  {
   "cell_type": "code",
   "execution_count": 104,
   "metadata": {},
   "outputs": [
    {
     "name": "stdout",
     "output_type": "stream",
     "text": [
      "1998_MSFT\n",
      "2002_MSFT\n",
      "2006_MSFT\n",
      "2010_MSFT\n",
      "2014_MSFT\n"
     ]
    }
   ],
   "source": [
    "train_test_split_5_years(MSFT_98,'MSFT','1998')\n",
    "train_test_split_5_years(MSFT_02,'MSFT','2002')\n",
    "train_test_split_5_years(MSFT_06,'MSFT','2006')\n",
    "train_test_split_5_years(MSFT_10,'MSFT','2010')\n",
    "train_test_split_5_years(MSFT_14,'MSFT','2014')\n",
    "\n",
    "\n",
    "\n"
   ]
  },
  {
   "cell_type": "code",
   "execution_count": 105,
   "metadata": {},
   "outputs": [
    {
     "name": "stdout",
     "output_type": "stream",
     "text": [
      "1998_AAPL\n",
      "2002_AAPL\n",
      "2006_AAPL\n",
      "2010_AAPL\n",
      "2014_AAPL\n"
     ]
    }
   ],
   "source": [
    "train_test_split_5_years(AAPL_98,'AAPL','1998')\n",
    "train_test_split_5_years(AAPL_02,'AAPL','2002')\n",
    "train_test_split_5_years(AAPL_06,'AAPL','2006')\n",
    "train_test_split_5_years(AAPL_10,'AAPL','2010')\n",
    "train_test_split_5_years(AAPL_14,'AAPL','2014')\n"
   ]
  },
  {
   "cell_type": "code",
   "execution_count": 106,
   "metadata": {},
   "outputs": [
    {
     "name": "stdout",
     "output_type": "stream",
     "text": [
      "1998_AMZN\n",
      "2002_AMZN\n",
      "2006_AMZN\n",
      "2010_AMZN\n",
      "2014_AMZN\n"
     ]
    }
   ],
   "source": [
    "train_test_split_5_years(AMZN_98,'AMZN','1998')\n",
    "train_test_split_5_years(AMZN_02,'AMZN','2002')\n",
    "train_test_split_5_years(AMZN_06,'AMZN','2006')\n",
    "train_test_split_5_years(AMZN_10,'AMZN','2010')\n",
    "train_test_split_5_years(AMZN_14,'AMZN','2014')\n"
   ]
  },
  {
   "cell_type": "code",
   "execution_count": 3,
   "metadata": {},
   "outputs": [
    {
     "name": "stdout",
     "output_type": "stream",
     "text": [
      "2014_AMZN\n"
     ]
    }
   ],
   "source": [
    "AMZN_14 = pd.read_csv(\"/Users/fahad/project_repo/data/final/AMZN/2014_AMZN.csv\")\n",
    "train_test_split_5_years(AMZN_14,'AMZN','2014')\n",
    "\n",
    "\n"
   ]
  },
  {
   "cell_type": "code",
   "execution_count": null,
   "metadata": {},
   "outputs": [],
   "source": []
  }
 ],
 "metadata": {
  "kernelspec": {
   "display_name": "Python 3",
   "language": "python",
   "name": "python3"
  },
  "language_info": {
   "codemirror_mode": {
    "name": "ipython",
    "version": 3
   },
   "file_extension": ".py",
   "mimetype": "text/x-python",
   "name": "python",
   "nbconvert_exporter": "python",
   "pygments_lexer": "ipython3",
   "version": "3.7.3"
  }
 },
 "nbformat": 4,
 "nbformat_minor": 2
}
