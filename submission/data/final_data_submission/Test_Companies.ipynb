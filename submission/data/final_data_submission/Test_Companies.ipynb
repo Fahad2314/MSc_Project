{
 "cells": [
  {
   "cell_type": "code",
   "execution_count": 2,
   "metadata": {},
   "outputs": [],
   "source": [
    "import requests\n",
    "import numpy as np \n",
    "import json \n",
    "import pandas as pd"
   ]
  },
  {
   "cell_type": "code",
   "execution_count": 15,
   "metadata": {},
   "outputs": [],
   "source": [
    "FB = requests.get(\"https://www.alphavantage.co/query?function=TIME_SERIES_DAILY&symbol=FB&outputsize=full&apikey=539COEUG1C1IYXMF\")\n",
    "FB = FB.json()\n",
    "PFE = requests.get(\"https://www.alphavantage.co/query?function=TIME_SERIES_DAILY&symbol=PFE&outputsize=full&apikey=539COEUG1C1IYXMF\")\n",
    "PFE = PFE.json()\n",
    "MAR = requests.get(\"https://www.alphavantage.co/query?function=TIME_SERIES_DAILY&symbol=MAR&outputsize=full&apikey=539COEUG1C1IYXMF\")\n",
    "MAR = MAR.json()\n",
    "GOOG = requests.get(\"https://www.alphavantage.co/query?function=TIME_SERIES_DAILY&symbol=GOOG&outputsize=full&apikey=539COEUG1C1IYXMF\")\n",
    "GOOG = GOOG.json()\n",
    "NFLX = requests.get(\"https://www.alphavantage.co/query?function=TIME_SERIES_DAILY&symbol=NFLX&outputsize=full&apikey=539COEUG1C1IYXMF\")\n",
    "NFLX = NFLX.json()\n",
    "\n",
    "\n",
    "\n",
    "\n"
   ]
  },
  {
   "cell_type": "code",
   "execution_count": 26,
   "metadata": {},
   "outputs": [],
   "source": [
    "FB_df= pd.DataFrame(FB['Time Series (Daily)'])\n",
    "FB_df = FB_df.T\n",
    "FB_df.columns = ['Open','High','Low','Close','Volume']\n",
    "\n",
    "\n",
    "PFE_df = pd.DataFrame(PFE['Time Series (Daily)'])\n",
    "PFE_df = PFE_df.T\n",
    "PFE_df.columns = ['Open','High','Low','Close','Volume']\n",
    "\n",
    "\n",
    "\n",
    "MAR_df = pd.DataFrame(MAR['Time Series (Daily)'])\n",
    "MAR_df = MAR_df.T\n",
    "MAR_df.columns = ['Open','High','Low','Close','Volume']\n",
    "\n",
    "\n",
    "\n",
    "GOOG_df = pd.DataFrame(GOOG['Time Series (Daily)'])\n",
    "GOOG_df = GOOG_df.T\n",
    "GOOG_df.columns = ['Open','High','Low','Close','Volume']\n",
    "\n",
    "\n",
    "\n",
    "NFLX_df = pd.DataFrame(NFLX['Time Series (Daily)'])\n",
    "NFLX_df = NFLX_df.T\n",
    "NFLX_df.columns = ['Open','High','Low','Close','Volume']\n",
    "\n",
    "\n",
    "                "
   ]
  },
  {
   "cell_type": "code",
   "execution_count": 28,
   "metadata": {},
   "outputs": [],
   "source": [
    "export_FB = FB_df.to_csv(\"/Users/fahad/project_repo/data/final/FB/FB.csv\")\n",
    "export_PFE = PFE_df.to_csv(\"/Users/fahad/project_repo/data/final/PFE/PFE.csv\")\n",
    "export_MAR = MAR_df.to_csv(\"/Users/fahad/project_repo/data/final/MAR/MAR.csv\")\n",
    "export_GOOG = GOOG_df.to_csv(\"/Users/fahad/project_repo/data/final/GOOG/GOOG.csv\")\n",
    "export_NFLX = NFLX_df.to_csv(\"/Users/fahad/project_repo/data/final/NFLX/NFLX.csv\")\n",
    "\n",
    "\n",
    "\n",
    "\n",
    "\n"
   ]
  },
  {
   "cell_type": "code",
   "execution_count": null,
   "metadata": {},
   "outputs": [],
   "source": []
  }
 ],
 "metadata": {
  "kernelspec": {
   "display_name": "Python 3",
   "language": "python",
   "name": "python3"
  },
  "language_info": {
   "codemirror_mode": {
    "name": "ipython",
    "version": 3
   },
   "file_extension": ".py",
   "mimetype": "text/x-python",
   "name": "python",
   "nbconvert_exporter": "python",
   "pygments_lexer": "ipython3",
   "version": "3.7.3"
  }
 },
 "nbformat": 4,
 "nbformat_minor": 2
}
