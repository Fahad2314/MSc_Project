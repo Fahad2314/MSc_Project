{
 "cells": [
  {
   "cell_type": "code",
   "execution_count": 7,
   "metadata": {},
   "outputs": [],
   "source": [
    "import pandas as pd \n",
    "import csv\n",
    "import numpy as np \n",
    "from sklearn.model_selection import train_test_split\n",
    "import ta\n"
   ]
  },
  {
   "cell_type": "markdown",
   "metadata": {},
   "source": [
    "# READ IN CSV TO DF "
   ]
  },
  {
   "cell_type": "code",
   "execution_count": 8,
   "metadata": {},
   "outputs": [
    {
     "name": "stdout",
     "output_type": "stream",
     "text": [
      "         Date  1. open  2. high    3. low  4. close  5. volume\n",
      "0  2019-07-10   137.13   138.58  137.0300   137.585   12873872\n",
      "1  2019-07-09   136.00   136.97  135.8000   136.460   19614848\n",
      "2  2019-07-08   136.40   137.10  135.3701   136.960   16779748\n",
      "3  2019-07-05   135.94   137.33  135.7200   137.060   18141140\n",
      "4  2019-07-03   136.80   137.74  136.2950   137.460   13629296\n",
      "\n",
      "\n",
      "         Date  1. open  2. high   3. low   4. close  5. volume\n",
      "0  2019-07-10  1996.51  2024.94  1995.40  2021.9985    3819085\n",
      "1  2019-07-09  1947.80  1990.01  1943.47  1988.3000    4320668\n",
      "2  2019-07-08  1934.12  1956.00  1928.25  1952.3200    2883371\n",
      "3  2019-07-05  1928.60  1945.90  1925.30  1942.9100    2628359\n",
      "4  2019-07-03  1935.89  1941.59  1930.50  1939.0000    1690294\n",
      "\n",
      "\n",
      "         Date  1. open  2. high    3. low  4. close  5. volume\n",
      "0  2019-07-10   201.85   203.72  201.5900  203.1732   11887612\n",
      "1  2019-07-09   199.20   201.51  198.8100  201.2400   20366719\n",
      "2  2019-07-08   200.81   201.40  198.4100  200.0200   25338628\n",
      "3  2019-07-05   203.35   205.08  202.9000  204.2300   17265518\n",
      "4  2019-07-03   203.28   204.44  202.6901  204.4100   11362045\n"
     ]
    }
   ],
   "source": [
    "#read in the csv files for msft amzn appl\n",
    "\n",
    "MSFT_df = pd.read_csv(r\"/Users/fahad/project_repo/data/raw/MSFT.csv\")\n",
    "AMZN_df = pd.read_csv(r\"/Users/fahad/project_repo/data/raw/AMZN.csv\")\n",
    "AAPL_df = pd.read_csv(r\"/Users/fahad/project_repo/data/raw/AAPL.csv\")\n",
    "\n",
    "print (MSFT_df.head(5))\n",
    "print(\"\\n\")\n",
    "print(AMZN_df.head(5))\n",
    "print(\"\\n\")\n",
    "print (AAPL_df.head(5))"
   ]
  },
  {
   "cell_type": "markdown",
   "metadata": {},
   "source": [
    "#  Rename the Date Columns"
   ]
  },
  {
   "cell_type": "code",
   "execution_count": 10,
   "metadata": {},
   "outputs": [
    {
     "name": "stdout",
     "output_type": "stream",
     "text": [
      "         Date    Open    High       Low    Close    Volume\n",
      "0  2019-07-10  137.13  138.58  137.0300  137.585  12873872\n",
      "1  2019-07-09  136.00  136.97  135.8000  136.460  19614848\n",
      "2  2019-07-08  136.40  137.10  135.3701  136.960  16779748\n",
      "3  2019-07-05  135.94  137.33  135.7200  137.060  18141140\n",
      "4  2019-07-03  136.80  137.74  136.2950  137.460  13629296\n",
      "\n",
      "\n",
      "         Date     Open     High      Low      Close   Volume\n",
      "0  2019-07-10  1996.51  2024.94  1995.40  2021.9985  3819085\n",
      "1  2019-07-09  1947.80  1990.01  1943.47  1988.3000  4320668\n",
      "2  2019-07-08  1934.12  1956.00  1928.25  1952.3200  2883371\n",
      "3  2019-07-05  1928.60  1945.90  1925.30  1942.9100  2628359\n",
      "4  2019-07-03  1935.89  1941.59  1930.50  1939.0000  1690294\n",
      "\n",
      "\n",
      "         Date    Open    High       Low     Close    Volume\n",
      "0  2019-07-10  201.85  203.72  201.5900  203.1732  11887612\n",
      "1  2019-07-09  199.20  201.51  198.8100  201.2400  20366719\n",
      "2  2019-07-08  200.81  201.40  198.4100  200.0200  25338628\n",
      "3  2019-07-05  203.35  205.08  202.9000  204.2300  17265518\n",
      "4  2019-07-03  203.28  204.44  202.6901  204.4100  11362045\n"
     ]
    }
   ],
   "source": [
    "#name columns \n",
    "MSFT_df.columns = ['Date','Open','High','Low','Close','Volume']\n",
    "AMZN_df.columns = ['Date','Open','High','Low','Close','Volume']\n",
    "AAPL_df.columns = ['Date','Open','High','Low','Close','Volume']\n",
    "\n",
    "print (MSFT_df.head(5))\n",
    "print(\"\\n\")\n",
    "print(AMZN_df.head(5))\n",
    "print(\"\\n\")\n",
    "print(AAPL_df.head(5))\n"
   ]
  },
  {
   "cell_type": "markdown",
   "metadata": {},
   "source": [
    "# Technical Indicators: MSFT"
   ]
  },
  {
   "cell_type": "code",
   "execution_count": 11,
   "metadata": {},
   "outputs": [],
   "source": [
    "\n",
    "#perform the feature engineering and get the technical indicators required\n",
    "MSFT_RSI=ta.momentum.rsi(MSFT_df['Close'],14,\"False\")\n",
    "MSFT_MACD = ta.trend.macd_diff(MSFT_df['Close'],12,26,9,\"False\")\n",
    "MSFT_ICHI_A = ta.trend.ichimoku_a(MSFT_df['High'],MSFT_df['Low'],9,26,\"False\",\"False\")\n",
    "MSFT_ICHI_B = ta.trend.ichimoku_b(MSFT_df['High'],MSFT_df['Low'],23,52,\"False\",\"False\")\n",
    "MSFT_ATR = ta.volatility.average_true_range(MSFT_df['High'],MSFT_df['Low'],MSFT_df['Close'],14,'False')\n",
    "MSFT_BB_hband = ta.volatility.bollinger_hband(MSFT_df['Close'],20,2,\"False\")\n",
    "MSFT_BB_lband = ta.volatility.bollinger_lband(MSFT_df['Close'],20,2,\"False\")\n",
    "MSFT_BB_high_indicator = ta.volatility.bollinger_hband_indicator(MSFT_df['Close'],20,2,\"False\")\n",
    "MSFT_BB_low_indicator = ta.volatility.bollinger_lband_indicator(MSFT_df['Close'],20,2,\"False\")\n",
    "\n",
    "\n",
    "MSFT_df['RSI'] = MSFT_RSI\n",
    "MSFT_df['MACD'] = MSFT_MACD\n",
    "MSFT_df['Ichimoku_Span_A']= MSFT_ICHI_A\n",
    "MSFT_df['Ichimoku_Span_B'] = MSFT_ICHI_B\n",
    "MSFT_df['ATR'] = MSFT_ATR\n",
    "#MSFT_df['BB_HighBand'] = MSFT_BB_hband\n",
    "#MSFT_df['BB_LowBand']= MSFT_BB_lband\n",
    "MSFT_df['BB_High_Indicator'] = MSFT_BB_high_indicator\n",
    "MSFT_df['BB_Low_Indicator'] = MSFT_BB_low_indicator\n",
    "\n",
    "\n",
    "\n"
   ]
  },
  {
   "cell_type": "markdown",
   "metadata": {},
   "source": [
    "# Technical Indicators: AAPL"
   ]
  },
  {
   "cell_type": "code",
   "execution_count": 12,
   "metadata": {},
   "outputs": [],
   "source": [
    "#get the technical indicators for aapl\n",
    "AAPL_RSI = ta.momentum.rsi(AAPL_df['Close'],14,\"False\")\n",
    "AAPL_MACD = ta.trend.macd_diff(AAPL_df['Close'],12,26,9,\"False\")\n",
    "AAPL_ICHI_A = ta.trend.ichimoku_a(AAPL_df['High'],AAPL_df['Low'],9,26,\"False\",\"False\")\n",
    "AAPL_ICHI_B = ta.trend.ichimoku_b(AAPL_df['High'],AAPL_df['Low'],23,52,\"False\",\"False\")\n",
    "AAPL_ATR = ta.volatility.average_true_range(AAPL_df['High'],AAPL_df['Low'],AAPL_df['Close'],14,'False')\n",
    "AAPL_BB_hband = ta.volatility.bollinger_hband(AAPL_df['Close'],20,2,\"False\")\n",
    "AAPL_BB_lband = ta.volatility.bollinger_lband(AAPL_df['Close'],20,2,\"False\")\n",
    "AAPL_BB_high_indicator = ta.volatility.bollinger_hband_indicator(AAPL_df['Close'],20,2,\"False\")\n",
    "AAPL_BB_low_indicator = ta.volatility.bollinger_lband_indicator(AAPL_df['Close'],20,2,\"False\")\n",
    "AAPL_df['RSI'] = AAPL_RSI\n",
    "AAPL_df['MACD'] = AAPL_MACD\n",
    "AAPL_df['Ichimoku_Span_A']= AAPL_ICHI_A\n",
    "AAPL_df['Ichimoku_Span_B'] = AAPL_ICHI_B\n",
    "AAPL_df['ATR'] = AAPL_ATR\n",
    "#AAPL_df['BB_HighBand'] = AAPL_BB_hband\n",
    "#AAPL_df['BB_LowBand']= AAPL_BB_lband\n",
    "AAPL_df['BB_High_Indicator'] = AAPL_BB_high_indicator\n",
    "AAPL_df['BB_Low_Indicator'] = AAPL_BB_low_indicator\n",
    "\n",
    "\n",
    "\n",
    "\n",
    "\n",
    "\n",
    "\n",
    "\n",
    "\n",
    "\n"
   ]
  },
  {
   "cell_type": "markdown",
   "metadata": {},
   "source": [
    "# Technical Indicators: AMZN"
   ]
  },
  {
   "cell_type": "code",
   "execution_count": 13,
   "metadata": {},
   "outputs": [],
   "source": [
    "#get the technical indicators for amzn\n",
    "AMZN_RSI = ta.momentum.rsi(AMZN_df['Close'],14,\"False\")\n",
    "AMZN_MACD = ta.trend.macd_diff(AMZN_df['Close'],12,26,9,\"False\")\n",
    "AMZN_ICHI_A = ta.trend.ichimoku_a(AMZN_df['High'],AMZN_df['Low'],9,26,\"False\",\"False\")\n",
    "AMZN_ICHI_B = ta.trend.ichimoku_b(AMZN_df['High'],AMZN_df['Low'],23,52,\"False\",\"False\")\n",
    "AMZN_ATR = ta.volatility.average_true_range(AMZN_df['High'],AMZN_df['Low'],AMZN_df['Close'],14,'False')\n",
    "AMZN_BB_hband = ta.volatility.bollinger_hband(AMZN_df['Close'],20,2,\"False\")\n",
    "AMZN_BB_lband = ta.volatility.bollinger_lband(AMZN_df['Close'],20,2,\"False\")\n",
    "AMZN_BB_high_indicator = ta.volatility.bollinger_hband_indicator(AMZN_df['Close'],20,2,\"False\")\n",
    "AMZN_BB_low_indicator = ta.volatility.bollinger_lband_indicator(AMZN_df['Close'],20,2,\"False\")\n",
    "\n",
    "AMZN_df['RSI'] = AMZN_RSI\n",
    "AMZN_df['MACD'] = AMZN_MACD\n",
    "AMZN_df['Ichimoku_Span_A']= AMZN_ICHI_A\n",
    "AMZN_df['Ichimoku_Span_B'] = AMZN_ICHI_B\n",
    "AMZN_df['ATR'] = AMZN_ATR\n",
    "#AMZN_df['BB_HighBand'] = AMZN_BB_hband\n",
    "#AMZN_df['BB_LowBand']= AMZN_BB_lband\n",
    "AMZN_df['BB_High_Indicator'] = AMZN_BB_high_indicator\n",
    "AMZN_df['BB_Low_Indicator'] = AMZN_BB_low_indicator"
   ]
  },
  {
   "cell_type": "code",
   "execution_count": 14,
   "metadata": {},
   "outputs": [
    {
     "name": "stdout",
     "output_type": "stream",
     "text": [
      "         Date    Open    High       Low    Close    Volume        RSI  \\\n",
      "0  2019-07-10  137.13  138.58  137.0300  137.585  12873872  50.000000   \n",
      "1  2019-07-09  136.00  136.97  135.8000  136.460  19614848   0.000000   \n",
      "2  2019-07-08  136.40  137.10  135.3701  136.960  16779748  33.898305   \n",
      "3  2019-07-05  135.94  137.33  135.7200  137.060  18141140  38.694075   \n",
      "4  2019-07-03  136.80  137.74  136.2950  137.460  13629296  54.072887   \n",
      "\n",
      "       MACD  Ichimoku_Span_A  Ichimoku_Span_B       ATR  BB_High_Indicator  \\\n",
      "0  0.000000        50.632189         50.74329  1.578688                0.0   \n",
      "1 -0.011218        50.632189         50.74329  1.593424                0.0   \n",
      "2 -0.001554        50.632189         50.74329  1.603172                0.0   \n",
      "3  0.004211        50.632189         50.74329  1.603660                0.0   \n",
      "4  0.017294        50.632189         50.74329  1.592327                0.0   \n",
      "\n",
      "   BB_Low_Indicator  \n",
      "0               0.0  \n",
      "1               0.0  \n",
      "2               0.0  \n",
      "3               0.0  \n",
      "4               0.0  \n",
      "\n",
      "\n",
      "         Date    Open    High       Low     Close    Volume        RSI  \\\n",
      "0  2019-07-10  201.85  203.72  201.5900  203.1732  11887612  50.000000   \n",
      "1  2019-07-09  199.20  201.51  198.8100  201.2400  20366719   0.000000   \n",
      "2  2019-07-08  200.81  201.40  198.4100  200.0200  25338628   0.000000   \n",
      "3  2019-07-05  203.35  205.08  202.9000  204.2300  17265518  62.654578   \n",
      "4  2019-07-03  203.28  204.44  202.6901  204.4100  11362045  63.774294   \n",
      "\n",
      "       MACD  Ichimoku_Span_A  Ichimoku_Span_B       ATR  BB_High_Indicator  \\\n",
      "0  0.000000       158.886449       159.823058  4.973947                0.0   \n",
      "1 -0.019277       158.886449       159.823058  4.930322                0.0   \n",
      "2 -0.040722       158.886449       159.823058  4.791728                0.0   \n",
      "3  0.060136       158.886449       159.823058  4.810890                0.0   \n",
      "4  0.096971       158.886449       159.823058  4.592248                0.0   \n",
      "\n",
      "   BB_Low_Indicator  \n",
      "0               0.0  \n",
      "1               0.0  \n",
      "2               0.0  \n",
      "3               0.0  \n",
      "4               0.0  \n",
      "\n",
      "\n",
      "         Date     Open     High      Low      Close   Volume   RSI      MACD  \\\n",
      "0  2019-07-10  1996.51  2024.94  1995.40  2021.9985  3819085  50.0  0.000000   \n",
      "1  2019-07-09  1947.80  1990.01  1943.47  1988.3000  4320668   0.0 -0.336025   \n",
      "2  2019-07-08  1934.12  1956.00  1928.25  1952.3200  2883371   0.0 -0.979124   \n",
      "3  2019-07-05  1928.60  1945.90  1925.30  1942.9100  2628359   0.0 -1.236308   \n",
      "4  2019-07-03  1935.89  1941.59  1930.50  1939.0000  1690294   0.0 -1.273872   \n",
      "\n",
      "   Ichimoku_Span_A  Ichimoku_Span_B        ATR  BB_High_Indicator  \\\n",
      "0       307.681826        313.66172   9.919056                0.0   \n",
      "1       307.681826        313.66172  14.819731                0.0   \n",
      "2       307.681826        313.66172  18.050464                0.0   \n",
      "3       307.681826        313.66172  18.691145                0.0   \n",
      "4       307.681826        313.66172  18.242492                0.0   \n",
      "\n",
      "   BB_Low_Indicator  \n",
      "0               0.0  \n",
      "1               0.0  \n",
      "2               0.0  \n",
      "3               0.0  \n",
      "4               0.0  \n"
     ]
    }
   ],
   "source": [
    "print (MSFT_df.head(5))\n",
    "print(\"\\n\")\n",
    "print(AAPL_df.head(5))\n",
    "print(\"\\n\")\n",
    "print(AMZN_df.head(5))\n"
   ]
  },
  {
   "cell_type": "code",
   "execution_count": null,
   "metadata": {},
   "outputs": [],
   "source": [
    "#export the technical indicator files\n",
    "export_MSFT= MSFT_df.to_csv(r'MSFT.csv')\n",
    "export_AMZN = AMZN_df.to_csv(r'AMZN.csv') \n",
    "export_AAPL = AAPL_df.to_csv(r'AAPL.csv')"
   ]
  },
  {
   "cell_type": "code",
   "execution_count": null,
   "metadata": {},
   "outputs": [],
   "source": []
  }
 ],
 "metadata": {
  "kernelspec": {
   "display_name": "Python 3",
   "language": "python",
   "name": "python3"
  },
  "language_info": {
   "codemirror_mode": {
    "name": "ipython",
    "version": 3
   },
   "file_extension": ".py",
   "mimetype": "text/x-python",
   "name": "python",
   "nbconvert_exporter": "python",
   "pygments_lexer": "ipython3",
   "version": "3.7.3"
  }
 },
 "nbformat": 4,
 "nbformat_minor": 2
}
