{
 "cells": [
  {
   "cell_type": "code",
   "execution_count": 1,
   "metadata": {},
   "outputs": [],
   "source": [
    "import pandas as pd\n",
    "import numpy as np \n",
    "from sklearn.model_selection import train_test_split\n",
    "from sklearn.preprocessing import MinMaxScaler\n",
    "import csv\n",
    "from pandas.tseries.offsets import MonthEnd\n",
    "from datetime import datetime, timedelta, date\n",
    "import requests\n",
    "import json \n",
    "import ta"
   ]
  },
  {
   "cell_type": "code",
   "execution_count": 3,
   "metadata": {},
   "outputs": [],
   "source": [
    "#data with feature engineering\n",
    "fields = ['Date', 'Open','High','Low','Close','Volume','RSI','MACD','Ichimoku_Span_A','Ichimoku_Span_B','ATR',\n",
    "         'BB_High_Indicator','BB_Low_Indicator']\n",
    "AAPL_df = pd.read_csv(r\"/Users/fahad/project_repo/data/interim/AAPL.csv\", usecols=fields)"
   ]
  },
  {
   "cell_type": "code",
   "execution_count": null,
   "metadata": {},
   "outputs": [],
   "source": []
  },
  {
   "cell_type": "code",
   "execution_count": 4,
   "metadata": {},
   "outputs": [],
   "source": [
    "AAPL_df['Date'] = pd.to_datetime(AAPL_df.Date, format =\"%Y-%m-%d\")"
   ]
  },
  {
   "cell_type": "code",
   "execution_count": 5,
   "metadata": {},
   "outputs": [],
   "source": [
    "AAPL_2010 = pd.read_csv(\"/Users/fahad/project_repo/data/final/AAPL/AAPL_10yr.csv\")\n"
   ]
  },
  {
   "cell_type": "code",
   "execution_count": 6,
   "metadata": {},
   "outputs": [],
   "source": [
    "AAPL_2010['Date'] = pd.to_datetime(AAPL_2010['Date'], format = \"%Y-%m-%d\")\n",
    "AAPL_2010['Date_']= AAPL_2010['Date']\n",
    "AAPL_2010 = AAPL_2010.set_index(\"Date\")"
   ]
  },
  {
   "cell_type": "code",
   "execution_count": 7,
   "metadata": {},
   "outputs": [
    {
     "data": {
      "text/plain": [
       "Open             float64\n",
       "High             float64\n",
       "Low              float64\n",
       "Close            float64\n",
       "Volume             int64\n",
       "Date_     datetime64[ns]\n",
       "dtype: object"
      ]
     },
     "execution_count": 7,
     "metadata": {},
     "output_type": "execute_result"
    }
   ],
   "source": [
    "AAPL_2010.dtypes"
   ]
  },
  {
   "cell_type": "code",
   "execution_count": 12,
   "metadata": {},
   "outputs": [],
   "source": [
    "#ADD LABELS TO THE TRAINING AND TEST DATAFRAMES AND RETURN DICTIONARIES WITH DATE:LABEL FORMAT\n",
    "AAPL_2010_labels = labelling(AAPL_2010)"
   ]
  },
  {
   "cell_type": "code",
   "execution_count": 13,
   "metadata": {},
   "outputs": [],
   "source": [
    "AAPL_2010_flattened= get_ndays_monthly_flattened(AAPL_2010,AAPL_df,30)\n"
   ]
  },
  {
   "cell_type": "code",
   "execution_count": 14,
   "metadata": {},
   "outputs": [],
   "source": [
    "AAPL_2010_labels_df = pd.Series(AAPL_2010_labels).to_frame(\"Label\")"
   ]
  },
  {
   "cell_type": "code",
   "execution_count": 15,
   "metadata": {},
   "outputs": [],
   "source": [
    "#CREATE DATAFRAME FROM FLATTENED DICTIONARY OF ARRAYS FOR TRAINING AND TEST DATA\n",
    "AAPL_2010_flat_df = pd.DataFrame.from_dict(AAPL_2010_flattened).T\n"
   ]
  },
  {
   "cell_type": "code",
   "execution_count": 16,
   "metadata": {},
   "outputs": [],
   "source": [
    "#JOIN THE LABEL DATAFRAME AND THE FLATTENED DATAFRAME ON THE INDEX WHICH IS THE DATE\n",
    "AAPL_2010_flat_df = AAPL_2010_flat_df.merge(AAPL_2010_labels_df, left_index=True, right_index=True)\n"
   ]
  },
  {
   "cell_type": "code",
   "execution_count": 17,
   "metadata": {},
   "outputs": [],
   "source": [
    "export = AAPL_2010_flat_df.to_csv(\"/Users/fahad/project_repo/data/final/AAPL/AAPL_2010_pre_signals.csv\")"
   ]
  },
  {
   "cell_type": "code",
   "execution_count": 9,
   "metadata": {},
   "outputs": [],
   "source": [
    "def labelling(dataframe):\n",
    "    \"\"\"This generates labels for the dataframes we wish to predict price.\n",
    "    A label of 1 suggests an increase in price between months while a label of 0 indicates\n",
    "    a decrease in price. If the current price is greater than the previous price then a\"\"\"\n",
    "    empty_dict = dict()\n",
    "    prev_close =0\n",
    "    counter = 0\n",
    "    for index,cols in dataframe.iterrows():\n",
    "        counter +=1\n",
    "        current_close = cols['Close']\n",
    "        if float(prev_close) <= float(current_close):\n",
    "            #signals an increase in price between last month and next month\n",
    "            empty_dict[index] = 1\n",
    "        elif float(prev_close) >= float(current_close):\n",
    "            empty_dict[index]=0\n",
    "\n",
    "        #reassign prev close to the current close     \n",
    "        prev_close = current_close\n",
    "    \n",
    "    return empty_dict"
   ]
  },
  {
   "cell_type": "code",
   "execution_count": 10,
   "metadata": {},
   "outputs": [],
   "source": [
    "def get_ndays_monthly_flattened(dataframe_period_end,dataframe_subperiod,n):\n",
    "    \"\"\"returns a dictionary which contains key value pair of the month-end date as key and\n",
    "    value is the proceeding n days. Returns it as a dictionary of dataframes.\n",
    "    dataframe period end refers to the dataframe which will act as the period end i.e monthly end date\n",
    "    sub_period dataframe refers to the dataframe with the preceeding n days, i.e daily\"\"\"\n",
    "    empty_dict = dict()\n",
    "    count = 0\n",
    "    for end in dataframe_period_end.index:\n",
    "#         print (\"month end/:%s\" % end)\n",
    "        \n",
    "        month_key = dataframe_period_end.index[count+1]\n",
    "        \n",
    "#         print (\"month key:%s\" % month_key)\n",
    "        \n",
    "        last_index = dataframe_period_end.index[-1]\n",
    "        \n",
    "#         print (\"last index:%s \" % last_index)\n",
    "        \n",
    "        if (month_key != last_index):\n",
    "            temp_df = dataframe_subperiod.loc[dataframe_subperiod['Date']<end].head(n)\n",
    "#             print (\"\\n\")\n",
    "#             print (temp_df.head(5))\n",
    "            temp_df = temp_df.drop(['Date'], axis=1)\n",
    "            \n",
    "            if (len(temp_df.values.flatten())==360):\n",
    "                empty_dict[month_key]= temp_df.values.flatten()\n",
    "                count +=1      \n",
    "            else:\n",
    "                pass\n",
    "\n",
    "        else:\n",
    "            pass\n",
    "       \n",
    "    return empty_dict\n",
    "    "
   ]
  },
  {
   "cell_type": "code",
   "execution_count": null,
   "metadata": {},
   "outputs": [],
   "source": []
  }
 ],
 "metadata": {
  "kernelspec": {
   "display_name": "Python 3",
   "language": "python",
   "name": "python3"
  },
  "language_info": {
   "codemirror_mode": {
    "name": "ipython",
    "version": 3
   },
   "file_extension": ".py",
   "mimetype": "text/x-python",
   "name": "python",
   "nbconvert_exporter": "python",
   "pygments_lexer": "ipython3",
   "version": "3.7.3"
  }
 },
 "nbformat": 4,
 "nbformat_minor": 2
}
