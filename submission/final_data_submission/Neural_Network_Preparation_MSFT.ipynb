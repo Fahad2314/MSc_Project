{
 "cells": [
  {
   "cell_type": "code",
   "execution_count": 66,
   "metadata": {},
   "outputs": [],
   "source": [
    "import pandas as pd\n",
    "import numpy as np \n",
    "from sklearn.model_selection import train_test_split\n",
    "from sklearn.preprocessing import MinMaxScaler\n",
    "import csv\n",
    "from pandas.tseries.offsets import MonthEnd\n",
    "from datetime import datetime, timedelta, date\n",
    "import requests\n",
    "import json \n",
    "import ta"
   ]
  },
  {
   "cell_type": "code",
   "execution_count": 67,
   "metadata": {},
   "outputs": [],
   "source": [
    "#data with feature engineering\n",
    "fields = ['Date', 'Open','High','Low','Close','Volume','RSI','MACD','Ichimoku_Span_A','Ichimoku_Span_B','ATR',\n",
    "         'BB_High_Indicator','BB_Low_Indicator']\n",
    "MSFT_df = pd.read_csv(r\"/Users/fahad/project_repo/data/interim/MSFT.csv\", usecols=fields)\n",
    "\n",
    "\n"
   ]
  },
  {
   "cell_type": "code",
   "execution_count": 68,
   "metadata": {},
   "outputs": [],
   "source": [
    "MSFT_98_train = pd.read_csv(\"/Users/fahad/project_repo/data/final/MSFT/1998_MSFT_train.csv\", index_col=1)\n",
    "\n",
    "MSFT_98_test = pd.read_csv(\"/Users/fahad/project_repo/data/final/MSFT/1998_MSFT_test.csv\", index_col=1)\n",
    "\n",
    "MSFT_02_train = pd.read_csv(\"/Users/fahad/project_repo/data/final/MSFT/2002_MSFT_train.csv\", index_col=1)\n",
    "\n",
    "MSFT_02_test = pd.read_csv(\"/Users/fahad/project_repo/data/final/MSFT/2002_MSFT_test.csv\", index_col=1)\n",
    "\n",
    "MSFT_06_train = pd.read_csv(\"/Users/fahad/project_repo/data/final/MSFT/2006_MSFT_train.csv\", index_col=1)\n",
    "\n",
    "MSFT_06_test = pd.read_csv(\"/Users/fahad/project_repo/data/final/MSFT/2006_MSFT_test.csv\", index_col=1)\n",
    "\n",
    "MSFT_10_train = pd.read_csv(\"/Users/fahad/project_repo/data/final/MSFT/2010_MSFT_train.csv\", index_col=1)\n",
    "\n",
    "MSFT_10_test = pd.read_csv(\"/Users/fahad/project_repo/data/final/MSFT/2010_MSFT_test.csv\", index_col=1)\n",
    "\n",
    "MSFT_14_train = pd.read_csv(\"/Users/fahad/project_repo/data/final/MSFT/2014_MSFT_train.csv\", index_col=1)\n",
    "\n",
    "MSFT_14_test = pd.read_csv(\"/Users/fahad/project_repo/data/final/MSFT/2014_MSFT_test.csv\", index_col=1)"
   ]
  },
  {
   "cell_type": "code",
   "execution_count": 69,
   "metadata": {},
   "outputs": [],
   "source": [
    "#ADD LABELS TO THE TRAINING AND TEST DATAFRAMES AND RETURN DICTIONARIES WITH DATE:LABEL FORMAT\n",
    "MSFT_98_train_labels = labelling(MSFT_98_train)\n",
    "\n",
    "MSFT_98_test_labels  = labelling(MSFT_98_test)\n",
    "\n",
    "MSFT_02_train_labels = labelling(MSFT_02_train)\n",
    "\n",
    "MSFT_02_test_labels  = labelling(MSFT_02_test)\n",
    "\n",
    "MSFT_06_train_labels = labelling(MSFT_06_train)\n",
    "\n",
    "MSFT_06_test_labels  = labelling(MSFT_06_test)\n",
    "\n",
    "MSFT_10_train_labels = labelling(MSFT_10_train)\n",
    "\n",
    "MSFT_10_test_labels  = labelling(MSFT_10_test)\n",
    "\n",
    "MSFT_14_train_labels = labelling(MSFT_14_train)\n",
    "\n",
    "MSFT_14_test_labels  = labelling(MSFT_14_test)\n",
    "\n"
   ]
  },
  {
   "cell_type": "code",
   "execution_count": 70,
   "metadata": {},
   "outputs": [],
   "source": [
    "#GET 30 DAY PERIODS FOR EACH MONTH AND CREATE DICTIONARY FOR 30DAYS PRIOR TO EACH DATE \n",
    "MSFT_98_train_flattened= get_ndays_monthly_flattened(MSFT_98_train,MSFT_df,30)\n",
    "\n",
    "MSFT_98_test_flattened= get_ndays_monthly_flattened(MSFT_98_test,MSFT_df,30)\n",
    "\n",
    "MSFT_02_train_flattened = get_ndays_monthly_flattened(MSFT_02_train,MSFT_df,30)\n",
    "\n",
    "MSFT_02_test_flattened = get_ndays_monthly_flattened(MSFT_02_test,MSFT_df,30)\n",
    "\n",
    "MSFT_06_train_flattened = get_ndays_monthly_flattened(MSFT_06_train,MSFT_df,30)\n",
    "\n",
    "MSFT_06_test_flattened = get_ndays_monthly_flattened(MSFT_06_test,MSFT_df,30)\n",
    "\n",
    "MSFT_10_train_flattened = get_ndays_monthly_flattened(MSFT_10_train,MSFT_df,30)\n",
    "\n",
    "MSFT_10_test_flattened = get_ndays_monthly_flattened(MSFT_10_test,MSFT_df,30)\n",
    "\n",
    "MSFT_14_train_flattened = get_ndays_monthly_flattened(MSFT_14_train,MSFT_df,30)\n",
    "\n",
    "MSFT_14_test_flattened = get_ndays_monthly_flattened(MSFT_14_test,MSFT_df,30)\n",
    "\n",
    "\n",
    "\n",
    "\n"
   ]
  },
  {
   "cell_type": "code",
   "execution_count": 71,
   "metadata": {},
   "outputs": [],
   "source": [
    "#assign labels to a dataframe object\n",
    "MSFT_98_train_labels_df = pd.Series(MSFT_98_train_labels).to_frame(\"Label\")\n",
    "\n",
    "MSFT_98_test_labels_df  =  pd.Series(MSFT_98_test_labels).to_frame(\"Label\")\n",
    "\n",
    "MSFT_02_train_labels_df =  pd.Series(MSFT_02_train_labels).to_frame(\"Label\")\n",
    "\n",
    "MSFT_02_test_labels_df =  pd.Series(MSFT_02_test_labels).to_frame(\"Label\")\n",
    "\n",
    "MSFT_06_train_labels_df =  pd.Series(MSFT_06_train_labels).to_frame(\"Label\")\n",
    "\n",
    "MSFT_06_test_labels_df =  pd.Series(MSFT_06_test_labels).to_frame(\"Label\")\n",
    "\n",
    "MSFT_10_train_labels_df =  pd.Series(MSFT_10_train_labels).to_frame(\"Label\")\n",
    "\n",
    "MSFT_10_test_labels_df =  pd.Series(MSFT_10_test_labels).to_frame(\"Label\")\n",
    "\n",
    "MSFT_14_train_labels_df =  pd.Series(MSFT_14_train_labels).to_frame(\"Label\")\n",
    "\n",
    "MSFT_14_test_labels_df =  pd.Series(MSFT_14_test_labels).to_frame(\"Label\")\n",
    "\n"
   ]
  },
  {
   "cell_type": "code",
   "execution_count": 72,
   "metadata": {},
   "outputs": [],
   "source": [
    "#CREATE DATAFRAME FROM FLATTENED DICTIONARY OF ARRAYS FOR TRAINING AND TEST DATA\n",
    "MSFT_98_train_flat_df = pd.DataFrame.from_dict(MSFT_98_train_flattened).T\n",
    "\n",
    "MSFT_98_test_flat_df = pd.DataFrame.from_dict(MSFT_98_test_flattened).T\n",
    "\n",
    "MSFT_02_train_flat_df = pd.DataFrame.from_dict(MSFT_02_train_flattened).T\n",
    "\n",
    "MSFT_02_test_flat_df = pd.DataFrame.from_dict(MSFT_02_test_flattened).T\n",
    "\n",
    "MSFT_06_train_flat_df = pd.DataFrame.from_dict(MSFT_06_train_flattened).T\n",
    "\n",
    "MSFT_06_test_flat_df = pd.DataFrame.from_dict(MSFT_06_test_flattened).T\n",
    "\n",
    "MSFT_10_train_flat_df = pd.DataFrame.from_dict(MSFT_10_train_flattened).T\n",
    "\n",
    "MSFT_10_test_flat_df = pd.DataFrame.from_dict(MSFT_10_test_flattened).T\n",
    "\n",
    "MSFT_14_train_flat_df = pd.DataFrame.from_dict(MSFT_14_train_flattened).T\n",
    "\n",
    "MSFT_14_test_flat_df = pd.DataFrame.from_dict(MSFT_14_test_flattened).T\n",
    "\n",
    "\n"
   ]
  },
  {
   "cell_type": "code",
   "execution_count": 73,
   "metadata": {},
   "outputs": [],
   "source": [
    "#JOIN THE LABEL DATAFRAME AND THE FLATTENED DATAFRAME ON THE INDEX WHICH IS THE DATE\n",
    "MSFT_98_train_flat_df = MSFT_98_train_flat_df.merge(MSFT_98_train_labels_df, left_index=True, right_index=True)\n",
    "\n",
    "MSFT_98_test_flat_df  = MSFT_98_test_flat_df.merge(MSFT_98_test_labels_df, left_index=True, right_index=True)\n",
    "\n",
    "MSFT_02_train_flat_df = MSFT_02_train_flat_df.merge(MSFT_02_train_labels_df, left_index=True, right_index=True)\n",
    "\n",
    "MSFT_02_test_flat_df = MSFT_02_test_flat_df.merge(MSFT_02_test_labels_df, left_index=True, right_index=True)\n",
    "\n",
    "MSFT_06_train_flat_df = MSFT_06_train_flat_df.merge(MSFT_06_train_labels_df, left_index=True, right_index=True)\n",
    "\n",
    "MSFT_06_test_flat_df =MSFT_06_test_flat_df.merge(MSFT_06_test_labels_df, left_index=True, right_index=True)\n",
    "\n",
    "MSFT_10_train_flat_df =MSFT_10_train_flat_df.merge(MSFT_10_train_labels_df, left_index=True, right_index=True)\n",
    "\n",
    "MSFT_10_test_flat_df =MSFT_10_test_flat_df.merge(MSFT_10_test_labels_df, left_index=True, right_index=True)\n",
    "\n",
    "MSFT_14_train_flat_df =MSFT_14_train_flat_df.merge(MSFT_14_train_labels_df, left_index=True, right_index=True)\n",
    "\n",
    "MSFT_14_test_flat_df =MSFT_14_test_flat_df.merge(MSFT_14_test_labels_df, left_index=True, right_index=True)\n",
    "\n"
   ]
  },
  {
   "cell_type": "code",
   "execution_count": 74,
   "metadata": {},
   "outputs": [],
   "source": [
    "#export dataframes which are now ready to be used by the model \n",
    "MSFT_list_of_names = ['MSFT_98_train_flat_df', 'MSFT_98_test_flat_df', 'MSFT_02_train_flat_df', 'MSFT_02_test_flat_df'\n",
    "                     ,'MSFT_06_train_flat_df','MSFT_06_test_flat_df','MSFT_10_train_flat_df','MSFT_10_test_flat_df',\n",
    "                     'MSFT_14_train_flat_df','MSFT_14_test_flat_df']\n",
    "\n",
    "MSFT_list = [MSFT_98_train_flat_df, MSFT_98_test_flat_df, MSFT_02_train_flat_df, MSFT_02_test_flat_df,\n",
    "            MSFT_06_train_flat_df, MSFT_06_test_flat_df, MSFT_10_train_flat_df, MSFT_10_test_flat_df,\n",
    "            MSFT_14_train_flat_df, MSFT_14_test_flat_df]\n",
    "\n",
    "for i in range(len(MSFT_list)):\n",
    "    \n",
    "    str_name = MSFT_list_of_names[i]\n",
    "    \n",
    "    export_MSFT = MSFT_list[i].to_csv(\"/Users/fahad/project_repo/data/final/MSFT/{}.csv\".format(str_name))\n"
   ]
  },
  {
   "cell_type": "code",
   "execution_count": null,
   "metadata": {},
   "outputs": [],
   "source": []
  },
  {
   "cell_type": "code",
   "execution_count": null,
   "metadata": {},
   "outputs": [],
   "source": []
  },
  {
   "cell_type": "code",
   "execution_count": null,
   "metadata": {},
   "outputs": [],
   "source": []
  },
  {
   "cell_type": "code",
   "execution_count": null,
   "metadata": {},
   "outputs": [],
   "source": []
  },
  {
   "cell_type": "code",
   "execution_count": null,
   "metadata": {},
   "outputs": [],
   "source": []
  },
  {
   "cell_type": "code",
   "execution_count": null,
   "metadata": {},
   "outputs": [],
   "source": []
  },
  {
   "cell_type": "code",
   "execution_count": null,
   "metadata": {},
   "outputs": [],
   "source": []
  },
  {
   "cell_type": "code",
   "execution_count": null,
   "metadata": {},
   "outputs": [],
   "source": []
  },
  {
   "cell_type": "code",
   "execution_count": null,
   "metadata": {},
   "outputs": [],
   "source": []
  },
  {
   "cell_type": "code",
   "execution_count": null,
   "metadata": {},
   "outputs": [],
   "source": []
  },
  {
   "cell_type": "code",
   "execution_count": null,
   "metadata": {},
   "outputs": [],
   "source": []
  },
  {
   "cell_type": "code",
   "execution_count": null,
   "metadata": {},
   "outputs": [],
   "source": []
  },
  {
   "cell_type": "code",
   "execution_count": null,
   "metadata": {},
   "outputs": [],
   "source": []
  },
  {
   "cell_type": "code",
   "execution_count": null,
   "metadata": {},
   "outputs": [],
   "source": []
  },
  {
   "cell_type": "code",
   "execution_count": null,
   "metadata": {},
   "outputs": [],
   "source": []
  },
  {
   "cell_type": "code",
   "execution_count": null,
   "metadata": {},
   "outputs": [],
   "source": []
  },
  {
   "cell_type": "code",
   "execution_count": 64,
   "metadata": {},
   "outputs": [],
   "source": [
    "def labelling(dataframe):\n",
    "    \"\"\"This generates labels for the dataframes we wish to predict price.\n",
    "    A label of 1 suggests an increase in price between months while a label of 0 indicates\n",
    "    a decrease in price. If the current price is greater than the previous price then a\"\"\"\n",
    "    empty_dict = dict()\n",
    "    prev_close =0\n",
    "    counter = 0\n",
    "    for index,cols in dataframe.iterrows():\n",
    "        counter +=1\n",
    "        current_close = cols['Close']\n",
    "        if float(prev_close) <= float(current_close):\n",
    "            #signals an increase in price between last month and next month\n",
    "            empty_dict[index] = 1\n",
    "        elif float(prev_close) >= float(current_close):\n",
    "            empty_dict[index]=0\n",
    "\n",
    "        #reassign prev close to the current close     \n",
    "        prev_close = current_close\n",
    "    \n",
    "    return empty_dict"
   ]
  },
  {
   "cell_type": "code",
   "execution_count": 65,
   "metadata": {},
   "outputs": [],
   "source": [
    "def get_ndays_monthly_flattened(dataframe_period_end,dataframe_subperiod,n):\n",
    "    \"\"\"returns a dictionary which contains key value pair of the month-end date as key and\n",
    "    value is the proceeding n days. Returns it as a dictionary of dataframes.\n",
    "    dataframe period end refers to the dataframe which will act as the period end i.e monthly end date\n",
    "    sub_period dataframe refers to the dataframe with the preceeding n days, i.e daily\"\"\"\n",
    "    empty_dict = dict()\n",
    "    count = 0\n",
    "    for end in dataframe_period_end.index:\n",
    "#         print (\"month end/:%s\" % end)\n",
    "        \n",
    "        month_key = dataframe_period_end.index[count+1]\n",
    "        \n",
    "#         print (\"month key:%s\" % month_key)\n",
    "        \n",
    "        last_index = dataframe_period_end.index[-1]\n",
    "        \n",
    "#         print (\"last index:%s \" % last_index)\n",
    "        \n",
    "        if (month_key != last_index):\n",
    "            temp_df = dataframe_subperiod.loc[dataframe_subperiod['Date']<end].head(n)\n",
    "#             print (\"\\n\")\n",
    "#             print (temp_df.head(5))\n",
    "            temp_df = temp_df.drop(['Date'], axis=1)\n",
    "            \n",
    "            empty_dict[month_key]= temp_df.values.flatten()\n",
    "            count +=1\n",
    "        else:\n",
    "            pass\n",
    "       \n",
    "    return empty_dict\n",
    "    "
   ]
  },
  {
   "cell_type": "code",
   "execution_count": null,
   "metadata": {},
   "outputs": [],
   "source": []
  }
 ],
 "metadata": {
  "kernelspec": {
   "display_name": "Python 3",
   "language": "python",
   "name": "python3"
  },
  "language_info": {
   "codemirror_mode": {
    "name": "ipython",
    "version": 3
   },
   "file_extension": ".py",
   "mimetype": "text/x-python",
   "name": "python",
   "nbconvert_exporter": "python",
   "pygments_lexer": "ipython3",
   "version": "3.7.3"
  }
 },
 "nbformat": 4,
 "nbformat_minor": 2
}
