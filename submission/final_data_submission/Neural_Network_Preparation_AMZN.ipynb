{
 "cells": [
  {
   "cell_type": "code",
   "execution_count": 8,
   "metadata": {},
   "outputs": [],
   "source": [
    "import pandas as pd\n",
    "import numpy as np \n",
    "from sklearn.model_selection import train_test_split\n",
    "from sklearn.preprocessing import MinMaxScaler\n",
    "import csv\n",
    "from pandas.tseries.offsets import MonthEnd\n",
    "from datetime import datetime, timedelta, date\n",
    "import requests\n",
    "import json \n",
    "import ta"
   ]
  },
  {
   "cell_type": "code",
   "execution_count": 9,
   "metadata": {},
   "outputs": [],
   "source": [
    "#data with feature engineering\n",
    "fields = ['Date', 'Open','High','Low','Close','Volume','RSI','MACD','Ichimoku_Span_A','Ichimoku_Span_B','ATR',\n",
    "         'BB_High_Indicator','BB_Low_Indicator']\n",
    "AMZN_df = pd.read_csv(r\"/Users/fahad/project_repo/data/interim/AMZN.csv\", usecols=fields)\n"
   ]
  },
  {
   "cell_type": "code",
   "execution_count": 3,
   "metadata": {},
   "outputs": [],
   "source": [
    "\n",
    "AMZN_98_train = pd.read_csv(\"/Users/fahad/project_repo/data/final/AMZN/1998_AMZN_train.csv\", index_col=1)\n",
    "\n",
    "AMZN_98_test = pd.read_csv(\"/Users/fahad/project_repo/data/final/AMZN/1998_AMZN_test.csv\", index_col=1)\n",
    "\n",
    "AMZN_02_train = pd.read_csv(\"/Users/fahad/project_repo/data/final/AMZN/2002_AMZN_train.csv\", index_col=1)\n",
    "\n",
    "AMZN_02_test = pd.read_csv(\"/Users/fahad/project_repo/data/final/AMZN/2002_AMZN_test.csv\", index_col=1)\n",
    "\n",
    "AMZN_06_train = pd.read_csv(\"/Users/fahad/project_repo/data/final/AMZN/2006_AMZN_train.csv\", index_col=1)\n",
    "\n",
    "AMZN_06_test = pd.read_csv(\"/Users/fahad/project_repo/data/final/AMZN/2006_AMZN_test.csv\", index_col=1)\n",
    "\n",
    "AMZN_10_train = pd.read_csv(\"/Users/fahad/project_repo/data/final/AMZN/2010_AMZN_train.csv\", index_col=1)\n",
    "\n",
    "AMZN_10_test = pd.read_csv(\"/Users/fahad/project_repo/data/final/AMZN/2010_AMZN_test.csv\", index_col=1)\n",
    "\n",
    "AMZN_14_train = pd.read_csv(\"/Users/fahad/project_repo/data/final/AMZN/2014_AMZN_train.csv\", index_col=1)\n",
    "\n",
    "AMZN_14_test = pd.read_csv(\"/Users/fahad/project_repo/data/final/AMZN/2014_AMZN_test.csv\", index_col=1)\n",
    "\n",
    "\n"
   ]
  },
  {
   "cell_type": "code",
   "execution_count": 4,
   "metadata": {},
   "outputs": [
    {
     "data": {
      "text/html": [
       "<div>\n",
       "<style scoped>\n",
       "    .dataframe tbody tr th:only-of-type {\n",
       "        vertical-align: middle;\n",
       "    }\n",
       "\n",
       "    .dataframe tbody tr th {\n",
       "        vertical-align: top;\n",
       "    }\n",
       "\n",
       "    .dataframe thead th {\n",
       "        text-align: right;\n",
       "    }\n",
       "</style>\n",
       "<table border=\"1\" class=\"dataframe\">\n",
       "  <thead>\n",
       "    <tr style=\"text-align: right;\">\n",
       "      <th></th>\n",
       "      <th>Unnamed: 0</th>\n",
       "      <th>Open</th>\n",
       "      <th>High</th>\n",
       "      <th>Low</th>\n",
       "      <th>Close</th>\n",
       "      <th>Volume</th>\n",
       "      <th>Date.1</th>\n",
       "    </tr>\n",
       "    <tr>\n",
       "      <th>Date</th>\n",
       "      <th></th>\n",
       "      <th></th>\n",
       "      <th></th>\n",
       "      <th></th>\n",
       "      <th></th>\n",
       "      <th></th>\n",
       "      <th></th>\n",
       "    </tr>\n",
       "  </thead>\n",
       "  <tbody>\n",
       "    <tr>\n",
       "      <th>2010-01-29</th>\n",
       "      <td>0</td>\n",
       "      <td>136.25</td>\n",
       "      <td>136.61</td>\n",
       "      <td>118.12</td>\n",
       "      <td>125.41</td>\n",
       "      <td>230861000</td>\n",
       "      <td>2010-01-29</td>\n",
       "    </tr>\n",
       "  </tbody>\n",
       "</table>\n",
       "</div>"
      ],
      "text/plain": [
       "            Unnamed: 0    Open    High     Low   Close     Volume      Date.1\n",
       "Date                                                                         \n",
       "2010-01-29           0  136.25  136.61  118.12  125.41  230861000  2010-01-29"
      ]
     },
     "execution_count": 4,
     "metadata": {},
     "output_type": "execute_result"
    }
   ],
   "source": [
    "AMZN_10_train.head(1)"
   ]
  },
  {
   "cell_type": "code",
   "execution_count": 5,
   "metadata": {},
   "outputs": [
    {
     "data": {
      "text/html": [
       "<div>\n",
       "<style scoped>\n",
       "    .dataframe tbody tr th:only-of-type {\n",
       "        vertical-align: middle;\n",
       "    }\n",
       "\n",
       "    .dataframe tbody tr th {\n",
       "        vertical-align: top;\n",
       "    }\n",
       "\n",
       "    .dataframe thead th {\n",
       "        text-align: right;\n",
       "    }\n",
       "</style>\n",
       "<table border=\"1\" class=\"dataframe\">\n",
       "  <thead>\n",
       "    <tr style=\"text-align: right;\">\n",
       "      <th></th>\n",
       "      <th>Unnamed: 0</th>\n",
       "      <th>Open</th>\n",
       "      <th>High</th>\n",
       "      <th>Low</th>\n",
       "      <th>Close</th>\n",
       "      <th>Volume</th>\n",
       "      <th>Date.1</th>\n",
       "    </tr>\n",
       "    <tr>\n",
       "      <th>Date</th>\n",
       "      <th></th>\n",
       "      <th></th>\n",
       "      <th></th>\n",
       "      <th></th>\n",
       "      <th></th>\n",
       "      <th></th>\n",
       "      <th></th>\n",
       "    </tr>\n",
       "  </thead>\n",
       "  <tbody>\n",
       "    <tr>\n",
       "      <th>2014-06-30</th>\n",
       "      <td>53</td>\n",
       "      <td>312.59</td>\n",
       "      <td>340.7199</td>\n",
       "      <td>303.84</td>\n",
       "      <td>324.78</td>\n",
       "      <td>76493200</td>\n",
       "      <td>2014-06-30</td>\n",
       "    </tr>\n",
       "  </tbody>\n",
       "</table>\n",
       "</div>"
      ],
      "text/plain": [
       "            Unnamed: 0    Open      High     Low   Close    Volume      Date.1\n",
       "Date                                                                          \n",
       "2014-06-30          53  312.59  340.7199  303.84  324.78  76493200  2014-06-30"
      ]
     },
     "execution_count": 5,
     "metadata": {},
     "output_type": "execute_result"
    }
   ],
   "source": [
    "AMZN_10_test.head(1)"
   ]
  },
  {
   "cell_type": "code",
   "execution_count": 6,
   "metadata": {},
   "outputs": [
    {
     "data": {
      "text/html": [
       "<div>\n",
       "<style scoped>\n",
       "    .dataframe tbody tr th:only-of-type {\n",
       "        vertical-align: middle;\n",
       "    }\n",
       "\n",
       "    .dataframe tbody tr th {\n",
       "        vertical-align: top;\n",
       "    }\n",
       "\n",
       "    .dataframe thead th {\n",
       "        text-align: right;\n",
       "    }\n",
       "</style>\n",
       "<table border=\"1\" class=\"dataframe\">\n",
       "  <thead>\n",
       "    <tr style=\"text-align: right;\">\n",
       "      <th></th>\n",
       "      <th>Unnamed: 0</th>\n",
       "      <th>Open</th>\n",
       "      <th>High</th>\n",
       "      <th>Low</th>\n",
       "      <th>Close</th>\n",
       "      <th>Volume</th>\n",
       "      <th>Date.1</th>\n",
       "    </tr>\n",
       "    <tr>\n",
       "      <th>Date</th>\n",
       "      <th></th>\n",
       "      <th></th>\n",
       "      <th></th>\n",
       "      <th></th>\n",
       "      <th></th>\n",
       "      <th></th>\n",
       "      <th></th>\n",
       "    </tr>\n",
       "  </thead>\n",
       "  <tbody>\n",
       "    <tr>\n",
       "      <th>2010-01-29</th>\n",
       "      <td>0</td>\n",
       "      <td>136.25</td>\n",
       "      <td>136.61</td>\n",
       "      <td>118.12</td>\n",
       "      <td>125.41</td>\n",
       "      <td>230861000</td>\n",
       "      <td>2010-01-29</td>\n",
       "    </tr>\n",
       "  </tbody>\n",
       "</table>\n",
       "</div>"
      ],
      "text/plain": [
       "            Unnamed: 0    Open    High     Low   Close     Volume      Date.1\n",
       "Date                                                                         \n",
       "2010-01-29           0  136.25  136.61  118.12  125.41  230861000  2010-01-29"
      ]
     },
     "execution_count": 6,
     "metadata": {},
     "output_type": "execute_result"
    }
   ],
   "source": [
    "AMZN_14_train.head(1)"
   ]
  },
  {
   "cell_type": "code",
   "execution_count": 7,
   "metadata": {},
   "outputs": [
    {
     "data": {
      "text/html": [
       "<div>\n",
       "<style scoped>\n",
       "    .dataframe tbody tr th:only-of-type {\n",
       "        vertical-align: middle;\n",
       "    }\n",
       "\n",
       "    .dataframe tbody tr th {\n",
       "        vertical-align: top;\n",
       "    }\n",
       "\n",
       "    .dataframe thead th {\n",
       "        text-align: right;\n",
       "    }\n",
       "</style>\n",
       "<table border=\"1\" class=\"dataframe\">\n",
       "  <thead>\n",
       "    <tr style=\"text-align: right;\">\n",
       "      <th></th>\n",
       "      <th>Unnamed: 0</th>\n",
       "      <th>Open</th>\n",
       "      <th>High</th>\n",
       "      <th>Low</th>\n",
       "      <th>Close</th>\n",
       "      <th>Volume</th>\n",
       "      <th>Date.1</th>\n",
       "    </tr>\n",
       "    <tr>\n",
       "      <th>Date</th>\n",
       "      <th></th>\n",
       "      <th></th>\n",
       "      <th></th>\n",
       "      <th></th>\n",
       "      <th></th>\n",
       "      <th></th>\n",
       "      <th></th>\n",
       "    </tr>\n",
       "  </thead>\n",
       "  <tbody>\n",
       "    <tr>\n",
       "      <th>2014-06-30</th>\n",
       "      <td>53</td>\n",
       "      <td>312.59</td>\n",
       "      <td>340.7199</td>\n",
       "      <td>303.84</td>\n",
       "      <td>324.78</td>\n",
       "      <td>76493200</td>\n",
       "      <td>2014-06-30</td>\n",
       "    </tr>\n",
       "  </tbody>\n",
       "</table>\n",
       "</div>"
      ],
      "text/plain": [
       "            Unnamed: 0    Open      High     Low   Close    Volume      Date.1\n",
       "Date                                                                          \n",
       "2014-06-30          53  312.59  340.7199  303.84  324.78  76493200  2014-06-30"
      ]
     },
     "execution_count": 7,
     "metadata": {},
     "output_type": "execute_result"
    }
   ],
   "source": [
    "AMZN_14_test.head(1)"
   ]
  },
  {
   "cell_type": "code",
   "execution_count": 21,
   "metadata": {},
   "outputs": [],
   "source": [
    "#ADD LABELS TO THE TRAINING AND TEST DATAFRAMES AND RETURN DICTIONARIES WITH DATE:LABEL FORMAT\n",
    "AMZN_98_train_labels = labelling(AMZN_98_train)\n",
    "\n",
    "AMZN_98_test_labels  = labelling(AMZN_98_test)\n",
    "\n",
    "AMZN_02_train_labels = labelling(AMZN_02_train)\n",
    "\n",
    "AMZN_02_test_labels  = labelling(AMZN_02_test)\n",
    "\n",
    "AMZN_06_train_labels = labelling(AMZN_06_train)\n",
    "\n",
    "AMZN_06_test_labels  = labelling(AMZN_06_test)\n",
    "\n",
    "AMZN_10_train_labels = labelling(AMZN_10_train)\n",
    "\n",
    "AMZN_10_test_labels  = labelling(AMZN_10_test)\n",
    "\n",
    "AMZN_14_train_labels = labelling(AMZN_14_train)\n",
    "\n",
    "AMZN_14_test_labels  = labelling(AMZN_14_test)\n",
    "\n"
   ]
  },
  {
   "cell_type": "code",
   "execution_count": 22,
   "metadata": {},
   "outputs": [],
   "source": [
    "\n",
    "#GET 30 DAY PERIODS FOR EACH MONTH AND CREATE DICTIONARY FOR 30DAYS PRIOR TO EACH DATE \n",
    "AMZN_98_train_flattened= get_ndays_monthly_flattened(AMZN_98_train,AMZN_df,30)\n",
    "\n",
    "AMZN_98_test_flattened= get_ndays_monthly_flattened(AMZN_98_test,AMZN_df,30)\n",
    "\n",
    "AMZN_02_train_flattened = get_ndays_monthly_flattened(AMZN_02_train,AMZN_df,30)\n",
    "\n",
    "AMZN_02_test_flattened = get_ndays_monthly_flattened(AMZN_02_test,AMZN_df,30)\n",
    "\n",
    "AMZN_06_train_flattened = get_ndays_monthly_flattened(AMZN_06_train,AMZN_df,30)\n",
    "\n",
    "AMZN_06_test_flattened = get_ndays_monthly_flattened(AMZN_06_test,AMZN_df,30)\n",
    "\n",
    "AMZN_10_train_flattened = get_ndays_monthly_flattened(AMZN_10_train,AMZN_df,30)\n",
    "\n",
    "AMZN_10_test_flattened = get_ndays_monthly_flattened(AMZN_10_test,AMZN_df,30)\n",
    "\n",
    "AMZN_14_train_flattened = get_ndays_monthly_flattened(AMZN_14_train,AMZN_df,30)\n",
    "\n",
    "AMZN_14_test_flattened = get_ndays_monthly_flattened(AMZN_14_test,AMZN_df,30)\n",
    "\n",
    "\n",
    "\n",
    "\n",
    "\n",
    "\n"
   ]
  },
  {
   "cell_type": "code",
   "execution_count": 23,
   "metadata": {},
   "outputs": [],
   "source": [
    "\n",
    "#assign labels to a dataframe object\n",
    "AMZN_98_train_labels_df = pd.Series(AMZN_98_train_labels).to_frame(\"Label\")\n",
    "\n",
    "AMZN_98_test_labels_df  =  pd.Series(AMZN_98_test_labels).to_frame(\"Label\")\n",
    "\n",
    "AMZN_02_train_labels_df =  pd.Series(AMZN_02_train_labels).to_frame(\"Label\")\n",
    "\n",
    "AMZN_02_test_labels_df =  pd.Series(AMZN_02_test_labels).to_frame(\"Label\")\n",
    "\n",
    "AMZN_06_train_labels_df =  pd.Series(AMZN_06_train_labels).to_frame(\"Label\")\n",
    "\n",
    "AMZN_06_test_labels_df =  pd.Series(AMZN_06_test_labels).to_frame(\"Label\")\n",
    "\n",
    "AMZN_10_train_labels_df =  pd.Series(AMZN_10_train_labels).to_frame(\"Label\")\n",
    "\n",
    "AMZN_10_test_labels_df =  pd.Series(AMZN_10_test_labels).to_frame(\"Label\")\n",
    "\n",
    "AMZN_14_train_labels_df =  pd.Series(AMZN_14_train_labels).to_frame(\"Label\")\n",
    "\n",
    "AMZN_14_test_labels_df =  pd.Series(AMZN_14_test_labels).to_frame(\"Label\")\n",
    "\n",
    "\n",
    "\n"
   ]
  },
  {
   "cell_type": "code",
   "execution_count": 24,
   "metadata": {},
   "outputs": [],
   "source": [
    "\n",
    "#CREATE DATAFRAME FROM FLATTENED DICTIONARY OF ARRAYS FOR TRAINING AND TEST DATA\n",
    "AMZN_98_train_flat_df = pd.DataFrame.from_dict(AMZN_98_train_flattened).T\n",
    "\n",
    "AMZN_98_test_flat_df = pd.DataFrame.from_dict(AMZN_98_test_flattened).T\n",
    "\n",
    "AMZN_02_train_flat_df = pd.DataFrame.from_dict(AMZN_02_train_flattened).T\n",
    "\n",
    "AMZN_02_test_flat_df = pd.DataFrame.from_dict(AMZN_02_test_flattened).T\n",
    "\n",
    "AMZN_06_train_flat_df = pd.DataFrame.from_dict(AMZN_06_train_flattened).T\n",
    "\n",
    "AMZN_06_test_flat_df = pd.DataFrame.from_dict(AMZN_06_test_flattened).T\n",
    "\n",
    "AMZN_10_train_flat_df = pd.DataFrame.from_dict(AMZN_10_train_flattened).T\n",
    "\n",
    "AMZN_10_test_flat_df = pd.DataFrame.from_dict(AMZN_10_test_flattened).T\n",
    "\n",
    "AMZN_14_train_flat_df = pd.DataFrame.from_dict(AMZN_14_train_flattened).T\n",
    "\n",
    "AMZN_14_test_flat_df = pd.DataFrame.from_dict(AMZN_14_test_flattened).T\n",
    "\n",
    "\n"
   ]
  },
  {
   "cell_type": "code",
   "execution_count": 25,
   "metadata": {},
   "outputs": [],
   "source": [
    "\n",
    "#JOIN THE LABEL DATAFRAME AND THE FLATTENED DATAFRAME ON THE INDEX WHICH IS THE DATE\n",
    "AMZN_98_train_flat_df = AMZN_98_train_flat_df.merge(AMZN_98_train_labels_df, left_index=True, right_index=True)\n",
    "\n",
    "AMZN_98_test_flat_df  = AMZN_98_test_flat_df.merge(AMZN_98_test_labels_df, left_index=True, right_index=True)\n",
    "\n",
    "AMZN_02_train_flat_df = AMZN_02_train_flat_df.merge(AMZN_02_train_labels_df, left_index=True, right_index=True)\n",
    "\n",
    "AMZN_02_test_flat_df = AMZN_02_test_flat_df.merge(AMZN_02_test_labels_df, left_index=True, right_index=True)\n",
    "\n",
    "AMZN_06_train_flat_df = AMZN_06_train_flat_df.merge(AMZN_06_train_labels_df, left_index=True, right_index=True)\n",
    "\n",
    "AMZN_06_test_flat_df =AMZN_06_test_flat_df.merge(AMZN_06_test_labels_df, left_index=True, right_index=True)\n",
    "\n",
    "AMZN_10_train_flat_df =AMZN_10_train_flat_df.merge(AMZN_10_train_labels_df, left_index=True, right_index=True)\n",
    "\n",
    "AMZN_10_test_flat_df =AMZN_10_test_flat_df.merge(AMZN_10_test_labels_df, left_index=True, right_index=True)\n",
    "\n",
    "AMZN_14_train_flat_df =AMZN_14_train_flat_df.merge(AMZN_14_train_labels_df, left_index=True, right_index=True)\n",
    "\n",
    "AMZN_14_test_flat_df =AMZN_14_test_flat_df.merge(AMZN_14_test_labels_df, left_index=True, right_index=True)\n",
    "\n"
   ]
  },
  {
   "cell_type": "code",
   "execution_count": 26,
   "metadata": {},
   "outputs": [],
   "source": [
    "\n",
    "#export dataframes which are now ready to be used by the model \n",
    "AMZN_list_of_names = ['AMZN_98_train_flat_df', 'AMZN_98_test_flat_df', 'AMZN_02_train_flat_df', 'AMZN_02_test_flat_df'\n",
    "                     ,'AMZN_06_train_flat_df','AMZN_06_test_flat_df','AMZN_10_train_flat_df','AMZN_10_test_flat_df',\n",
    "                     'AMZN_14_train_flat_df','AMZN_14_test_flat_df']\n",
    "\n",
    "AMZN_list = [AMZN_98_train_flat_df, AMZN_98_test_flat_df, AMZN_02_train_flat_df, AMZN_02_test_flat_df,\n",
    "            AMZN_06_train_flat_df, AMZN_06_test_flat_df, AMZN_10_train_flat_df, AMZN_10_test_flat_df,\n",
    "            AMZN_14_train_flat_df, AMZN_14_test_flat_df]\n",
    "\n",
    "for i in range(len(AMZN_list)):\n",
    "    \n",
    "    str_name = AMZN_list_of_names[i]\n",
    "    \n",
    "    export_AMZN = AMZN_list[i].to_csv(\"/Users/fahad/project_repo/data/final/AMZN/{}.csv\".format(str_name))\n"
   ]
  },
  {
   "cell_type": "code",
   "execution_count": null,
   "metadata": {},
   "outputs": [],
   "source": []
  },
  {
   "cell_type": "code",
   "execution_count": null,
   "metadata": {},
   "outputs": [],
   "source": []
  },
  {
   "cell_type": "code",
   "execution_count": 10,
   "metadata": {},
   "outputs": [],
   "source": [
    "AMZN_14_train = pd.read_csv(\"/Users/fahad/project_repo/data/final/AMZN/2014_AMZN_train.csv\", index_col=1)\n",
    "\n",
    "AMZN_14_test = pd.read_csv(\"/Users/fahad/project_repo/data/final/AMZN/2014_AMZN_test.csv\", index_col=1)\n",
    "\n"
   ]
  },
  {
   "cell_type": "code",
   "execution_count": 14,
   "metadata": {},
   "outputs": [],
   "source": [
    "AMZN_14_train_labels = labelling(AMZN_14_train)\n",
    "\n",
    "AMZN_14_test_labels  = labelling(AMZN_14_test)\n",
    "\n"
   ]
  },
  {
   "cell_type": "code",
   "execution_count": 15,
   "metadata": {},
   "outputs": [],
   "source": [
    "AMZN_14_train_flattened = get_ndays_monthly_flattened(AMZN_14_train,AMZN_df,30)\n",
    "\n",
    "AMZN_14_test_flattened = get_ndays_monthly_flattened(AMZN_14_test,AMZN_df,30)\n",
    "\n",
    "\n"
   ]
  },
  {
   "cell_type": "code",
   "execution_count": 16,
   "metadata": {},
   "outputs": [],
   "source": [
    "AMZN_14_train_labels_df =  pd.Series(AMZN_14_train_labels).to_frame(\"Label\")\n",
    "\n",
    "AMZN_14_test_labels_df =  pd.Series(AMZN_14_test_labels).to_frame(\"Label\")\n",
    "\n"
   ]
  },
  {
   "cell_type": "code",
   "execution_count": 17,
   "metadata": {},
   "outputs": [],
   "source": [
    "AMZN_14_train_flat_df = pd.DataFrame.from_dict(AMZN_14_train_flattened).T\n",
    "\n",
    "AMZN_14_test_flat_df = pd.DataFrame.from_dict(AMZN_14_test_flattened).T"
   ]
  },
  {
   "cell_type": "code",
   "execution_count": 18,
   "metadata": {},
   "outputs": [],
   "source": [
    "AMZN_14_train_flat_df =AMZN_14_train_flat_df.merge(AMZN_14_train_labels_df, left_index=True, right_index=True)\n",
    "\n",
    "AMZN_14_test_flat_df =AMZN_14_test_flat_df.merge(AMZN_14_test_labels_df, left_index=True, right_index=True)\n",
    "\n"
   ]
  },
  {
   "cell_type": "code",
   "execution_count": 19,
   "metadata": {},
   "outputs": [],
   "source": [
    "AMZN_14_train_flat_df.to_csv(\"/Users/fahad/project_repo/data/final/AMZN/AMZN_14_train_flat_df.csv\")\n",
    "AMZN_14_test_flat_df.to_csv(\"/Users/fahad/project_repo/data/final/AMZN/AMZN_14_test_flat_df.csv\")"
   ]
  },
  {
   "cell_type": "code",
   "execution_count": null,
   "metadata": {},
   "outputs": [],
   "source": []
  },
  {
   "cell_type": "code",
   "execution_count": null,
   "metadata": {},
   "outputs": [],
   "source": []
  },
  {
   "cell_type": "code",
   "execution_count": null,
   "metadata": {},
   "outputs": [],
   "source": []
  },
  {
   "cell_type": "code",
   "execution_count": null,
   "metadata": {},
   "outputs": [],
   "source": []
  },
  {
   "cell_type": "code",
   "execution_count": null,
   "metadata": {},
   "outputs": [],
   "source": []
  },
  {
   "cell_type": "code",
   "execution_count": null,
   "metadata": {},
   "outputs": [],
   "source": []
  },
  {
   "cell_type": "code",
   "execution_count": null,
   "metadata": {},
   "outputs": [],
   "source": []
  },
  {
   "cell_type": "code",
   "execution_count": 12,
   "metadata": {},
   "outputs": [],
   "source": [
    "def labelling(dataframe):\n",
    "    \"\"\"This generates labels for the dataframes we wish to predict price.\n",
    "    A label of 1 suggests an increase in price between months while a label of 0 indicates\n",
    "    a decrease in price. If the current price is greater than the previous price then a\"\"\"\n",
    "    empty_dict = dict()\n",
    "    prev_close =0\n",
    "    counter = 0\n",
    "    for index,cols in dataframe.iterrows():\n",
    "        counter +=1\n",
    "        current_close = cols['Close']\n",
    "        if float(prev_close) <= float(current_close):\n",
    "            #signals an increase in price between last month and next month\n",
    "            empty_dict[index] = 1\n",
    "        elif float(prev_close) >= float(current_close):\n",
    "            empty_dict[index]=0\n",
    "\n",
    "        #reassign prev close to the current close     \n",
    "        prev_close = current_close\n",
    "    \n",
    "    return empty_dict"
   ]
  },
  {
   "cell_type": "code",
   "execution_count": 13,
   "metadata": {},
   "outputs": [],
   "source": [
    "def get_ndays_monthly_flattened(dataframe_period_end,dataframe_subperiod,n):\n",
    "    \"\"\"returns a dictionary which contains key value pair of the month-end date as key and\n",
    "    value is the proceeding n days. Returns it as a dictionary of dataframes.\n",
    "    dataframe period end refers to the dataframe which will act as the period end i.e monthly end date\n",
    "    sub_period dataframe refers to the dataframe with the preceeding n days, i.e daily\"\"\"\n",
    "    empty_dict = dict()\n",
    "    count = 0\n",
    "    for end in dataframe_period_end.index:\n",
    "#         print (\"month end/:%s\" % end)\n",
    "        \n",
    "        month_key = dataframe_period_end.index[count+1]\n",
    "        \n",
    "#         print (\"month key:%s\" % month_key)\n",
    "        \n",
    "        last_index = dataframe_period_end.index[-1]\n",
    "        \n",
    "#         print (\"last index:%s \" % last_index)\n",
    "        \n",
    "        if (month_key != last_index):\n",
    "            temp_df = dataframe_subperiod.loc[dataframe_subperiod['Date']<end].head(n)\n",
    "#             print (\"\\n\")\n",
    "#             print (temp_df.head(5))\n",
    "            temp_df = temp_df.drop(['Date'], axis=1)\n",
    "            \n",
    "            empty_dict[month_key]= temp_df.values.flatten()\n",
    "            count +=1\n",
    "        else:\n",
    "            pass\n",
    "       \n",
    "    return empty_dict\n",
    "    "
   ]
  },
  {
   "cell_type": "code",
   "execution_count": null,
   "metadata": {},
   "outputs": [],
   "source": []
  }
 ],
 "metadata": {
  "kernelspec": {
   "display_name": "Python 3",
   "language": "python",
   "name": "python3"
  },
  "language_info": {
   "codemirror_mode": {
    "name": "ipython",
    "version": 3
   },
   "file_extension": ".py",
   "mimetype": "text/x-python",
   "name": "python",
   "nbconvert_exporter": "python",
   "pygments_lexer": "ipython3",
   "version": "3.7.3"
  }
 },
 "nbformat": 4,
 "nbformat_minor": 2
}
