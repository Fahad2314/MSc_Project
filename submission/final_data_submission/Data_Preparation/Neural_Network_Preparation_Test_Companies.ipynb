{
 "cells": [
  {
   "cell_type": "code",
   "execution_count": 1,
   "metadata": {},
   "outputs": [],
   "source": [
    "import pandas as pd\n",
    "import numpy as np \n",
    "from sklearn.model_selection import train_test_split\n",
    "from sklearn.preprocessing import MinMaxScaler\n",
    "import csv\n",
    "from pandas.tseries.offsets import MonthEnd\n",
    "from datetime import datetime, timedelta, date\n",
    "import requests\n",
    "import json \n",
    "import ta\n"
   ]
  },
  {
   "cell_type": "code",
   "execution_count": 2,
   "metadata": {},
   "outputs": [],
   "source": [
    "FB_df =pd.read_csv(\"/Users/fahad/project_repo/data/final/FB/FB_normalised.csv\",index_col=0)\n",
    "PFE_df=pd.read_csv(\"/Users/fahad/project_repo/data/final/FB/FB_normalised.csv\", index_col=0)\n",
    "MAR_df=pd.read_csv(\"/Users/fahad/project_repo/data/final/FB/FB_normalised.csv\", index_col=0)\n",
    "GOOG_df=pd.read_csv(\"/Users/fahad/project_repo/data/final/FB/FB_normalised.csv\", index_col=0)\n",
    "NFLX_df=pd.read_csv(\"/Users/fahad/project_repo/data/final/FB/FB_normalised.csv\", index_col=0)\n"
   ]
  },
  {
   "cell_type": "code",
   "execution_count": null,
   "metadata": {},
   "outputs": [],
   "source": [
    "#dict for the month endings which we will create a dataframe with the close prices from \n",
    "#apikey=539COEUG1C1IYXMF\n",
    "MSFT = requests.get(\"https://www.alphavantage.co/query?function=TIME_SERIES_MONTHLY&symbol=MSFT&outputsize=full&apikey=539COEUG1C1IYXMF\")\n",
    "MSFT = MSFT.json() \n",
    "AMZN = requests.get(\"https://www.alphavantage.co/query?function=TIME_SERIES_MONTHLY&symbol=AMZN&outputsize=full&apikey=539COEUG1C1IYXMF\")\n",
    "AMZN = AMZN.json()\n",
    "AAPL = requests.get(\"https://www.alphavantage.co/query?function=TIME_SERIES_MONTHLY&symbol=AAPL&outputsize=full&apikey=539COEUG1C1IYXMF\")\n",
    "AAPL = AAPL.json()"
   ]
  },
  {
   "cell_type": "code",
   "execution_count": null,
   "metadata": {},
   "outputs": [],
   "source": []
  }
 ],
 "metadata": {
  "kernelspec": {
   "display_name": "Python 3",
   "language": "python",
   "name": "python3"
  },
  "language_info": {
   "codemirror_mode": {
    "name": "ipython",
    "version": 3
   },
   "file_extension": ".py",
   "mimetype": "text/x-python",
   "name": "python",
   "nbconvert_exporter": "python",
   "pygments_lexer": "ipython3",
   "version": "3.7.3"
  }
 },
 "nbformat": 4,
 "nbformat_minor": 2
}
