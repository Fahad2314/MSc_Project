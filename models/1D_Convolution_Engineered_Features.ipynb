{
 "cells": [
  {
   "cell_type": "code",
   "execution_count": 1,
   "metadata": {},
   "outputs": [
    {
     "name": "stderr",
     "output_type": "stream",
     "text": [
      "Using TensorFlow backend.\n"
     ]
    }
   ],
   "source": [
    "import pandas as pd\n",
    "import numpy as np \n",
    "from sklearn.model_selection import train_test_split\n",
    "import csv\n",
    "from pandas.tseries.offsets import MonthEnd\n",
    "from datetime import datetime, timedelta, date\n",
    "import requests\n",
    "import json \n",
    "import seaborn as sns\n",
    "import matplotlib.pyplot as plt\n",
    "import itertools\n",
    "from sklearn.utils.multiclass import unique_labels\n",
    "\n",
    "from scipy import stats\n",
    "from IPython.display import display, HTML\n",
    "\n",
    "from sklearn import metrics\n",
    "from sklearn.metrics import classification_report\n",
    "from sklearn import preprocessing\n",
    "from sklearn.metrics import confusion_matrix\n",
    "from keras.callbacks import EarlyStopping\n",
    "from keras.callbacks import ModelCheckpoint\n",
    "from keras.models import load_model\n",
    "\n",
    "import keras\n",
    "from keras.models import Sequential\n",
    "from keras.layers import Dense, Dropout, Flatten, Reshape\n",
    "from keras.layers import Convolution1D, MaxPooling1D\n",
    "from keras.utils import np_utils\n",
    "import seaborn as sns\n",
    "\n",
    "from sklearn.metrics import accuracy_score\n",
    "from sklearn.metrics import precision_score\n",
    "from sklearn.metrics import recall_score\n",
    "from sklearn.metrics import f1_score\n",
    "from sklearn.metrics import cohen_kappa_score\n",
    "from sklearn.metrics import roc_auc_score"
   ]
  },
  {
   "cell_type": "code",
   "execution_count": 2,
   "metadata": {},
   "outputs": [],
   "source": [
    "#### read in the flattened dataframes with the labels\n",
    "MSFT_df = pd.read_csv(\"/Users/fahad/project_repo/data/external/MSFT_flat.csv\", index_col=0)\n",
    "AAPL_df = pd.read_csv(\"/Users/fahad/project_repo/data/external/AAPL_flat.csv\",index_col=0)\n",
    "AMZN_df = pd.read_csv(\"/Users/fahad/project_repo/data/external/AMZN_flat.csv\",index_col=0)"
   ]
  },
  {
   "cell_type": "code",
   "execution_count": 3,
   "metadata": {},
   "outputs": [],
   "source": [
    "\n",
    "#vertically stack the MSFT and AAPL dataframes on top of eachother\n",
    "df = pd.concat([MSFT_df, AAPL_df], axis=0)\n",
    "#vertically stack the MSFT&AAPL df and the AMZN dataframe ontop of eachother\n",
    "df = pd.concat([df,AMZN_df],axis = 0)\n",
    "#set index to date\n",
    "#df.set_index(\"Date\")\n",
    "\n",
    "y = df.Label # define the target variable (dependent variable) as y\n",
    "\n",
    "df = df.drop(['Label'], axis =1)\n"
   ]
  },
  {
   "cell_type": "code",
   "execution_count": 4,
   "metadata": {},
   "outputs": [
    {
     "name": "stdout",
     "output_type": "stream",
     "text": [
      "360\n",
      "537\n"
     ]
    },
    {
     "data": {
      "text/html": [
       "<div>\n",
       "<style scoped>\n",
       "    .dataframe tbody tr th:only-of-type {\n",
       "        vertical-align: middle;\n",
       "    }\n",
       "\n",
       "    .dataframe tbody tr th {\n",
       "        vertical-align: top;\n",
       "    }\n",
       "\n",
       "    .dataframe thead th {\n",
       "        text-align: right;\n",
       "    }\n",
       "</style>\n",
       "<table border=\"1\" class=\"dataframe\">\n",
       "  <thead>\n",
       "    <tr style=\"text-align: right;\">\n",
       "      <th></th>\n",
       "      <th>0</th>\n",
       "      <th>1</th>\n",
       "      <th>2</th>\n",
       "      <th>3</th>\n",
       "      <th>4</th>\n",
       "      <th>5</th>\n",
       "      <th>6</th>\n",
       "      <th>7</th>\n",
       "      <th>8</th>\n",
       "      <th>9</th>\n",
       "      <th>...</th>\n",
       "      <th>350</th>\n",
       "      <th>351</th>\n",
       "      <th>352</th>\n",
       "      <th>353</th>\n",
       "      <th>354</th>\n",
       "      <th>355</th>\n",
       "      <th>356</th>\n",
       "      <th>357</th>\n",
       "      <th>358</th>\n",
       "      <th>359</th>\n",
       "    </tr>\n",
       "  </thead>\n",
       "  <tbody>\n",
       "    <tr>\n",
       "      <th>2019-02-28</th>\n",
       "      <td>0.54611</td>\n",
       "      <td>0.550862</td>\n",
       "      <td>0.556067</td>\n",
       "      <td>0.553614</td>\n",
       "      <td>0.078309</td>\n",
       "      <td>0.512462</td>\n",
       "      <td>0.33726</td>\n",
       "      <td>0.664708</td>\n",
       "      <td>0.729387</td>\n",
       "      <td>0.180544</td>\n",
       "      <td>...</td>\n",
       "      <td>0.539781</td>\n",
       "      <td>0.532435</td>\n",
       "      <td>0.091048</td>\n",
       "      <td>0.566672</td>\n",
       "      <td>0.367196</td>\n",
       "      <td>0.610595</td>\n",
       "      <td>0.668383</td>\n",
       "      <td>0.354942</td>\n",
       "      <td>0.0</td>\n",
       "      <td>0.0</td>\n",
       "    </tr>\n",
       "  </tbody>\n",
       "</table>\n",
       "<p>1 rows × 360 columns</p>\n",
       "</div>"
      ],
      "text/plain": [
       "                  0         1         2         3         4         5  \\\n",
       "2019-02-28  0.54611  0.550862  0.556067  0.553614  0.078309  0.512462   \n",
       "\n",
       "                  6         7         8         9  ...       350       351  \\\n",
       "2019-02-28  0.33726  0.664708  0.729387  0.180544  ...  0.539781  0.532435   \n",
       "\n",
       "                 352       353       354       355       356       357  358  \\\n",
       "2019-02-28  0.091048  0.566672  0.367196  0.610595  0.668383  0.354942  0.0   \n",
       "\n",
       "            359  \n",
       "2019-02-28  0.0  \n",
       "\n",
       "[1 rows x 360 columns]"
      ]
     },
     "execution_count": 4,
     "metadata": {},
     "output_type": "execute_result"
    }
   ],
   "source": [
    "#define the target variable as y \n",
    "X_train, X_test, y_train, y_test = train_test_split(df, y, test_size=0.3)\n",
    "#print (X_train.head(5))\n",
    "print(X_train.shape[1])\n",
    "print(X_train.shape[0])\n",
    "X_train.head(1)"
   ]
  },
  {
   "cell_type": "markdown",
   "metadata": {},
   "source": [
    "# Model"
   ]
  },
  {
   "cell_type": "code",
   "execution_count": 5,
   "metadata": {},
   "outputs": [],
   "source": [
    "def make_timeseries_classifier(sample_num,window_size, filter_length, nb_input_series=1, nb_outputs=1, nb_filter=16):\n",
    "    \"\"\":Return: a Keras Model for predicting the next value in a timeseries given a fixed-size lookback window of previous values.\n",
    "    The model can handle multiple input timeseries (`nb_input_series`) and multiple prediction targets (`nb_outputs`).\n",
    "    :param int window_size: The number of previous timeseries values to use as input features.  Also called lag or lookback.\n",
    "    :param int nb_input_series: The number of input timeseries; 1 for a single timeseries.\n",
    "      The `X` input to ``fit()`` should be an array of shape ``(n_instances, window_size, nb_input_series)``; each instance is\n",
    "      a 2D array of shape ``(window_size, nb_input_series)``.  For example, for `window_size` = 3 and `nb_input_series` = 1 (a\n",
    "      single timeseries), one instance could be ``[[0], [1], [2]]``. See ``make_timeseries_instances()``.\n",
    "    :param int nb_outputs: The output dimension, often equal to the number of inputs.\n",
    "      For each input instance (array with shape ``(window_size, nb_input_series)``), the output is a vector of size `nb_outputs`,\n",
    "      usually the value(s) predicted to come after the last value in that input instance, i.e., the next value\n",
    "      in the sequence. The `y` input to ``fit()`` should be an array of shape ``(n_instances, nb_outputs)``.\n",
    "    :param int filter_length: the size (along the `window_size` dimension) of the sliding window that gets convolved with\n",
    "      each position along each instance. The difference between 1D and 2D convolution is that a 1D filter's \"height\" is fixed\n",
    "      to the number of input timeseries (its \"width\" being `filter_length`), and it can only slide along the window\n",
    "      dimension.  This is useful as generally the input timeseries have no spatial/ordinal relationship, so it's not\n",
    "      meaningful to look for patterns that are invariant with respect to subsets of the timeseries.\n",
    "    :param int nb_filter: The number of different filters to learn (roughly, input patterns to recognize).\n",
    "    \"\"\"\n",
    "    model = Sequential((\n",
    "        # The first conv layer learns `nb_filter` filters (aka kernels), each of size ``(filter_length, nb_input_series)``.\n",
    "        # Its output will have shape (None, window_size - filter_length + 1, nb_filter), i.e., for each position in\n",
    "        # the input timeseries, the activation of each filter at that position.\n",
    "        Convolution1D(nb_filter=nb_filter, filter_length=filter_length, activation='relu', input_shape=(window_size,nb_input_series)),\n",
    "        MaxPooling1D(),     # Downsample the output of convolution by 2X.\n",
    "        Convolution1D(nb_filter=nb_filter, filter_length=filter_length, activation='relu'),\n",
    "        MaxPooling1D(),\n",
    "        Flatten(),\n",
    "        Dense(nb_outputs, activation='sigmoid'),     # For binary classification, change the activation to 'sigmoid'\n",
    "    ))\n",
    "    model.compile(loss='binary_crossentropy', optimizer='adam', metrics=['accuracy'])\n",
    "    # To perform (binary) classification instead:\n",
    "    # model.compile(loss='binary_crossentropy', optimizer='adam', metrics=['binary_accuracy'])\n",
    "    \n",
    "    return model"
   ]
  },
  {
   "cell_type": "code",
   "execution_count": 6,
   "metadata": {},
   "outputs": [
    {
     "name": "stderr",
     "output_type": "stream",
     "text": [
      "/anaconda3/lib/python3.7/site-packages/ipykernel_launcher.py:24: UserWarning: Update your `Conv1D` call to the Keras 2 API: `Conv1D(activation=\"relu\", input_shape=(360, 1), filters=16, kernel_size=3)`\n",
      "WARNING: Logging before flag parsing goes to stderr.\n",
      "W0726 12:42:58.171397 4475438528 deprecation_wrapper.py:119] From /anaconda3/lib/python3.7/site-packages/keras/backend/tensorflow_backend.py:74: The name tf.get_default_graph is deprecated. Please use tf.compat.v1.get_default_graph instead.\n",
      "\n",
      "/anaconda3/lib/python3.7/site-packages/ipykernel_launcher.py:26: UserWarning: Update your `Conv1D` call to the Keras 2 API: `Conv1D(activation=\"relu\", filters=16, kernel_size=3)`\n",
      "W0726 12:42:58.188146 4475438528 deprecation_wrapper.py:119] From /anaconda3/lib/python3.7/site-packages/keras/backend/tensorflow_backend.py:517: The name tf.placeholder is deprecated. Please use tf.compat.v1.placeholder instead.\n",
      "\n",
      "W0726 12:42:58.191946 4475438528 deprecation_wrapper.py:119] From /anaconda3/lib/python3.7/site-packages/keras/backend/tensorflow_backend.py:4138: The name tf.random_uniform is deprecated. Please use tf.random.uniform instead.\n",
      "\n",
      "W0726 12:42:58.219141 4475438528 deprecation_wrapper.py:119] From /anaconda3/lib/python3.7/site-packages/keras/backend/tensorflow_backend.py:3976: The name tf.nn.max_pool is deprecated. Please use tf.nn.max_pool2d instead.\n",
      "\n",
      "W0726 12:42:58.279850 4475438528 deprecation_wrapper.py:119] From /anaconda3/lib/python3.7/site-packages/keras/optimizers.py:790: The name tf.train.Optimizer is deprecated. Please use tf.compat.v1.train.Optimizer instead.\n",
      "\n",
      "W0726 12:42:58.309019 4475438528 deprecation_wrapper.py:119] From /anaconda3/lib/python3.7/site-packages/keras/backend/tensorflow_backend.py:3376: The name tf.log is deprecated. Please use tf.math.log instead.\n",
      "\n",
      "W0726 12:42:58.313039 4475438528 deprecation.py:323] From /anaconda3/lib/python3.7/site-packages/tensorflow/python/ops/nn_impl.py:180: add_dispatch_support.<locals>.wrapper (from tensorflow.python.ops.array_ops) is deprecated and will be removed in a future version.\n",
      "Instructions for updating:\n",
      "Use tf.where in 2.0, which has the same broadcast rule as np.where\n"
     ]
    }
   ],
   "source": [
    "\n",
    "model_1 = make_timeseries_classifier(X_train.shape[0],X_train.shape[1],3)"
   ]
  },
  {
   "cell_type": "code",
   "execution_count": 7,
   "metadata": {},
   "outputs": [
    {
     "name": "stdout",
     "output_type": "stream",
     "text": [
      "_________________________________________________________________\n",
      "Layer (type)                 Output Shape              Param #   \n",
      "=================================================================\n",
      "conv1d_1 (Conv1D)            (None, 358, 16)           64        \n",
      "_________________________________________________________________\n",
      "max_pooling1d_1 (MaxPooling1 (None, 179, 16)           0         \n",
      "_________________________________________________________________\n",
      "conv1d_2 (Conv1D)            (None, 177, 16)           784       \n",
      "_________________________________________________________________\n",
      "max_pooling1d_2 (MaxPooling1 (None, 88, 16)            0         \n",
      "_________________________________________________________________\n",
      "flatten_1 (Flatten)          (None, 1408)              0         \n",
      "_________________________________________________________________\n",
      "dense_1 (Dense)              (None, 1)                 1409      \n",
      "=================================================================\n",
      "Total params: 2,257\n",
      "Trainable params: 2,257\n",
      "Non-trainable params: 0\n",
      "_________________________________________________________________\n"
     ]
    }
   ],
   "source": [
    "model_1.summary()"
   ]
  },
  {
   "cell_type": "markdown",
   "metadata": {},
   "source": [
    "# Callbacks"
   ]
  },
  {
   "cell_type": "code",
   "execution_count": 8,
   "metadata": {},
   "outputs": [],
   "source": [
    "es = EarlyStopping(monitor='val_acc', mode='max', verbose=0, patience=50)\n",
    "mc = ModelCheckpoint('1dconv_feature_engineered_model.h5', monitor='val_acc', mode='max', verbose=1, save_best_only=True)\n",
    "cb_list = [es,mc]"
   ]
  },
  {
   "cell_type": "code",
   "execution_count": 9,
   "metadata": {},
   "outputs": [
    {
     "name": "stderr",
     "output_type": "stream",
     "text": [
      "W0726 12:42:58.583952 4475438528 deprecation_wrapper.py:119] From /anaconda3/lib/python3.7/site-packages/keras/backend/tensorflow_backend.py:986: The name tf.assign_add is deprecated. Please use tf.compat.v1.assign_add instead.\n",
      "\n"
     ]
    },
    {
     "name": "stdout",
     "output_type": "stream",
     "text": [
      "Train on 483 samples, validate on 54 samples\n",
      "Epoch 1/100\n",
      "483/483 [==============================] - 1s 2ms/step - loss: 0.6861 - acc: 0.5631 - val_loss: 0.6481 - val_acc: 0.6481\n",
      "\n",
      "Epoch 00001: val_acc improved from -inf to 0.64815, saving model to 1dconv_feature_engineered_model.h5\n",
      "Epoch 2/100\n",
      "483/483 [==============================] - 1s 2ms/step - loss: 0.6333 - acc: 0.6708 - val_loss: 0.6259 - val_acc: 0.7037\n",
      "\n",
      "Epoch 00002: val_acc improved from 0.64815 to 0.70370, saving model to 1dconv_feature_engineered_model.h5\n",
      "Epoch 3/100\n",
      "483/483 [==============================] - 1s 1ms/step - loss: 0.5662 - acc: 0.7164 - val_loss: 0.6181 - val_acc: 0.6667\n",
      "\n",
      "Epoch 00003: val_acc did not improve from 0.70370\n",
      "Epoch 4/100\n",
      "483/483 [==============================] - 1s 1ms/step - loss: 0.5242 - acc: 0.7267 - val_loss: 0.5371 - val_acc: 0.7222\n",
      "\n",
      "Epoch 00004: val_acc improved from 0.70370 to 0.72222, saving model to 1dconv_feature_engineered_model.h5\n",
      "Epoch 5/100\n",
      "483/483 [==============================] - 1s 1ms/step - loss: 0.5092 - acc: 0.7412 - val_loss: 0.5286 - val_acc: 0.7407\n",
      "\n",
      "Epoch 00005: val_acc improved from 0.72222 to 0.74074, saving model to 1dconv_feature_engineered_model.h5\n",
      "Epoch 6/100\n",
      "483/483 [==============================] - 1s 1ms/step - loss: 0.4862 - acc: 0.7578 - val_loss: 0.4940 - val_acc: 0.7222\n",
      "\n",
      "Epoch 00006: val_acc did not improve from 0.74074\n",
      "Epoch 7/100\n",
      "483/483 [==============================] - 1s 1ms/step - loss: 0.4658 - acc: 0.7660 - val_loss: 0.5797 - val_acc: 0.7037\n",
      "\n",
      "Epoch 00007: val_acc did not improve from 0.74074\n",
      "Epoch 8/100\n",
      "483/483 [==============================] - 1s 2ms/step - loss: 0.4588 - acc: 0.7888 - val_loss: 0.6312 - val_acc: 0.7222\n",
      "\n",
      "Epoch 00008: val_acc did not improve from 0.74074\n",
      "Epoch 9/100\n",
      "483/483 [==============================] - 1s 2ms/step - loss: 0.4434 - acc: 0.7743 - val_loss: 0.4869 - val_acc: 0.7778\n",
      "\n",
      "Epoch 00009: val_acc improved from 0.74074 to 0.77778, saving model to 1dconv_feature_engineered_model.h5\n",
      "Epoch 10/100\n",
      "483/483 [==============================] - 1s 2ms/step - loss: 0.4380 - acc: 0.8012 - val_loss: 0.5103 - val_acc: 0.6852\n",
      "\n",
      "Epoch 00010: val_acc did not improve from 0.77778\n",
      "Epoch 11/100\n",
      "483/483 [==============================] - 1s 2ms/step - loss: 0.4184 - acc: 0.8012 - val_loss: 0.5259 - val_acc: 0.7222\n",
      "\n",
      "Epoch 00011: val_acc did not improve from 0.77778\n",
      "Epoch 12/100\n",
      "483/483 [==============================] - 1s 2ms/step - loss: 0.4190 - acc: 0.7950 - val_loss: 0.4994 - val_acc: 0.7593\n",
      "\n",
      "Epoch 00012: val_acc did not improve from 0.77778\n",
      "Epoch 13/100\n",
      "483/483 [==============================] - 1s 2ms/step - loss: 0.4018 - acc: 0.8095 - val_loss: 0.5246 - val_acc: 0.7593\n",
      "\n",
      "Epoch 00013: val_acc did not improve from 0.77778\n",
      "Epoch 14/100\n",
      "483/483 [==============================] - 1s 2ms/step - loss: 0.3971 - acc: 0.8116 - val_loss: 0.5050 - val_acc: 0.7407\n",
      "\n",
      "Epoch 00014: val_acc did not improve from 0.77778\n",
      "Epoch 15/100\n",
      "483/483 [==============================] - 1s 2ms/step - loss: 0.4050 - acc: 0.8033 - val_loss: 0.4612 - val_acc: 0.7407\n",
      "\n",
      "Epoch 00015: val_acc did not improve from 0.77778\n",
      "Epoch 16/100\n",
      "483/483 [==============================] - 1s 2ms/step - loss: 0.4029 - acc: 0.8075 - val_loss: 0.5108 - val_acc: 0.7778\n",
      "\n",
      "Epoch 00016: val_acc did not improve from 0.77778\n",
      "Epoch 17/100\n",
      "483/483 [==============================] - 1s 1ms/step - loss: 0.3759 - acc: 0.8282 - val_loss: 0.4955 - val_acc: 0.7407\n",
      "\n",
      "Epoch 00017: val_acc did not improve from 0.77778\n",
      "Epoch 18/100\n",
      "483/483 [==============================] - 1s 1ms/step - loss: 0.3916 - acc: 0.8261 - val_loss: 0.5351 - val_acc: 0.7037\n",
      "\n",
      "Epoch 00018: val_acc did not improve from 0.77778\n",
      "Epoch 19/100\n",
      "483/483 [==============================] - 1s 1ms/step - loss: 0.3637 - acc: 0.8157 - val_loss: 0.5141 - val_acc: 0.7778\n",
      "\n",
      "Epoch 00019: val_acc did not improve from 0.77778\n",
      "Epoch 20/100\n",
      "483/483 [==============================] - 1s 2ms/step - loss: 0.3710 - acc: 0.8199 - val_loss: 0.5933 - val_acc: 0.7778\n",
      "\n",
      "Epoch 00020: val_acc did not improve from 0.77778\n",
      "Epoch 21/100\n",
      "483/483 [==============================] - 1s 2ms/step - loss: 0.3599 - acc: 0.8323 - val_loss: 0.5955 - val_acc: 0.7778\n",
      "\n",
      "Epoch 00021: val_acc did not improve from 0.77778\n",
      "Epoch 22/100\n",
      "483/483 [==============================] - 1s 1ms/step - loss: 0.3558 - acc: 0.8261 - val_loss: 0.8083 - val_acc: 0.7222\n",
      "\n",
      "Epoch 00022: val_acc did not improve from 0.77778\n",
      "Epoch 23/100\n",
      "483/483 [==============================] - 1s 1ms/step - loss: 0.3523 - acc: 0.8406 - val_loss: 0.6515 - val_acc: 0.7963\n",
      "\n",
      "Epoch 00023: val_acc improved from 0.77778 to 0.79630, saving model to 1dconv_feature_engineered_model.h5\n",
      "Epoch 24/100\n",
      "483/483 [==============================] - 1s 1ms/step - loss: 0.3445 - acc: 0.8406 - val_loss: 0.6058 - val_acc: 0.7963\n",
      "\n",
      "Epoch 00024: val_acc did not improve from 0.79630\n",
      "Epoch 25/100\n",
      "483/483 [==============================] - 1s 1ms/step - loss: 0.3388 - acc: 0.8385 - val_loss: 0.5606 - val_acc: 0.7778\n",
      "\n",
      "Epoch 00025: val_acc did not improve from 0.79630\n",
      "Epoch 26/100\n",
      "483/483 [==============================] - 1s 1ms/step - loss: 0.3384 - acc: 0.8364 - val_loss: 0.5270 - val_acc: 0.7593\n",
      "\n",
      "Epoch 00026: val_acc did not improve from 0.79630\n",
      "Epoch 27/100\n",
      "483/483 [==============================] - 1s 1ms/step - loss: 0.3277 - acc: 0.8509 - val_loss: 0.7839 - val_acc: 0.7407\n",
      "\n",
      "Epoch 00027: val_acc did not improve from 0.79630\n",
      "Epoch 28/100\n",
      "483/483 [==============================] - 1s 1ms/step - loss: 0.3250 - acc: 0.8447 - val_loss: 0.5881 - val_acc: 0.7963\n",
      "\n",
      "Epoch 00028: val_acc did not improve from 0.79630\n",
      "Epoch 29/100\n",
      "483/483 [==============================] - 1s 1ms/step - loss: 0.3086 - acc: 0.8634 - val_loss: 0.6071 - val_acc: 0.7407\n",
      "\n",
      "Epoch 00029: val_acc did not improve from 0.79630\n",
      "Epoch 30/100\n",
      "483/483 [==============================] - 1s 1ms/step - loss: 0.3299 - acc: 0.8427 - val_loss: 0.6511 - val_acc: 0.7963\n",
      "\n",
      "Epoch 00030: val_acc did not improve from 0.79630\n",
      "Epoch 31/100\n",
      "483/483 [==============================] - 1s 1ms/step - loss: 0.3170 - acc: 0.8427 - val_loss: 0.8034 - val_acc: 0.7778\n",
      "\n",
      "Epoch 00031: val_acc did not improve from 0.79630\n",
      "Epoch 32/100\n",
      "483/483 [==============================] - 1s 1ms/step - loss: 0.3118 - acc: 0.8613 - val_loss: 0.8346 - val_acc: 0.7778\n",
      "\n",
      "Epoch 00032: val_acc did not improve from 0.79630\n",
      "Epoch 33/100\n",
      "483/483 [==============================] - 1s 1ms/step - loss: 0.3070 - acc: 0.8509 - val_loss: 0.5836 - val_acc: 0.7407\n",
      "\n",
      "Epoch 00033: val_acc did not improve from 0.79630\n",
      "Epoch 34/100\n",
      "483/483 [==============================] - 1s 1ms/step - loss: 0.3085 - acc: 0.8675 - val_loss: 0.5710 - val_acc: 0.7407\n",
      "\n",
      "Epoch 00034: val_acc did not improve from 0.79630\n",
      "Epoch 35/100\n",
      "483/483 [==============================] - 1s 1ms/step - loss: 0.3003 - acc: 0.8530 - val_loss: 0.6688 - val_acc: 0.7963\n",
      "\n",
      "Epoch 00035: val_acc did not improve from 0.79630\n",
      "Epoch 36/100\n",
      "483/483 [==============================] - 1s 1ms/step - loss: 0.2960 - acc: 0.8613 - val_loss: 0.6169 - val_acc: 0.7593\n",
      "\n",
      "Epoch 00036: val_acc did not improve from 0.79630\n",
      "Epoch 37/100\n",
      "483/483 [==============================] - 1s 1ms/step - loss: 0.2950 - acc: 0.8716 - val_loss: 0.6597 - val_acc: 0.7963\n",
      "\n",
      "Epoch 00037: val_acc did not improve from 0.79630\n",
      "Epoch 38/100\n",
      "483/483 [==============================] - 1s 1ms/step - loss: 0.2762 - acc: 0.8841 - val_loss: 0.6554 - val_acc: 0.7963\n",
      "\n",
      "Epoch 00038: val_acc did not improve from 0.79630\n",
      "Epoch 39/100\n",
      "483/483 [==============================] - 1s 1ms/step - loss: 0.2949 - acc: 0.8592 - val_loss: 0.7213 - val_acc: 0.7778\n",
      "\n",
      "Epoch 00039: val_acc did not improve from 0.79630\n",
      "Epoch 40/100\n",
      "483/483 [==============================] - 1s 1ms/step - loss: 0.2808 - acc: 0.8654 - val_loss: 0.8467 - val_acc: 0.7778\n",
      "\n",
      "Epoch 00040: val_acc did not improve from 0.79630\n",
      "Epoch 41/100\n",
      "483/483 [==============================] - 1s 1ms/step - loss: 0.2680 - acc: 0.8820 - val_loss: 0.6759 - val_acc: 0.7593\n",
      "\n",
      "Epoch 00041: val_acc did not improve from 0.79630\n",
      "Epoch 42/100\n",
      "483/483 [==============================] - 1s 1ms/step - loss: 0.2622 - acc: 0.8716 - val_loss: 1.1079 - val_acc: 0.7037\n",
      "\n",
      "Epoch 00042: val_acc did not improve from 0.79630\n",
      "Epoch 43/100\n"
     ]
    },
    {
     "name": "stdout",
     "output_type": "stream",
     "text": [
      "483/483 [==============================] - 1s 1ms/step - loss: 0.2807 - acc: 0.8758 - val_loss: 0.6430 - val_acc: 0.7222\n",
      "\n",
      "Epoch 00043: val_acc did not improve from 0.79630\n",
      "Epoch 44/100\n",
      "483/483 [==============================] - 1s 1ms/step - loss: 0.2851 - acc: 0.8675 - val_loss: 0.9091 - val_acc: 0.7963\n",
      "\n",
      "Epoch 00044: val_acc did not improve from 0.79630\n",
      "Epoch 45/100\n",
      "483/483 [==============================] - 1s 1ms/step - loss: 0.2597 - acc: 0.8923 - val_loss: 0.7808 - val_acc: 0.7778\n",
      "\n",
      "Epoch 00045: val_acc did not improve from 0.79630\n",
      "Epoch 46/100\n",
      "483/483 [==============================] - 1s 1ms/step - loss: 0.2544 - acc: 0.8758 - val_loss: 0.8646 - val_acc: 0.7963\n",
      "\n",
      "Epoch 00046: val_acc did not improve from 0.79630\n",
      "Epoch 47/100\n",
      "483/483 [==============================] - 1s 1ms/step - loss: 0.2602 - acc: 0.8882 - val_loss: 1.1660 - val_acc: 0.7593\n",
      "\n",
      "Epoch 00047: val_acc did not improve from 0.79630\n",
      "Epoch 48/100\n",
      "483/483 [==============================] - 1s 1ms/step - loss: 0.2441 - acc: 0.8841 - val_loss: 0.9884 - val_acc: 0.7963\n",
      "\n",
      "Epoch 00048: val_acc did not improve from 0.79630\n",
      "Epoch 49/100\n",
      "483/483 [==============================] - 1s 1ms/step - loss: 0.2521 - acc: 0.8820 - val_loss: 0.8556 - val_acc: 0.7963\n",
      "\n",
      "Epoch 00049: val_acc did not improve from 0.79630\n",
      "Epoch 50/100\n",
      "483/483 [==============================] - 1s 1ms/step - loss: 0.2415 - acc: 0.9048 - val_loss: 0.7773 - val_acc: 0.6667\n",
      "\n",
      "Epoch 00050: val_acc did not improve from 0.79630\n",
      "Epoch 51/100\n",
      "483/483 [==============================] - 1s 1ms/step - loss: 0.2332 - acc: 0.8903 - val_loss: 0.7720 - val_acc: 0.7963\n",
      "\n",
      "Epoch 00051: val_acc did not improve from 0.79630\n",
      "Epoch 52/100\n",
      "483/483 [==============================] - 1s 1ms/step - loss: 0.2422 - acc: 0.9027 - val_loss: 0.7057 - val_acc: 0.7778\n",
      "\n",
      "Epoch 00052: val_acc did not improve from 0.79630\n",
      "Epoch 53/100\n",
      "483/483 [==============================] - 1s 1ms/step - loss: 0.2309 - acc: 0.9048 - val_loss: 0.8926 - val_acc: 0.7963\n",
      "\n",
      "Epoch 00053: val_acc did not improve from 0.79630\n",
      "Epoch 54/100\n",
      "483/483 [==============================] - 1s 1ms/step - loss: 0.2191 - acc: 0.9089 - val_loss: 0.8174 - val_acc: 0.7778\n",
      "\n",
      "Epoch 00054: val_acc did not improve from 0.79630\n",
      "Epoch 55/100\n",
      "483/483 [==============================] - 1s 2ms/step - loss: 0.2224 - acc: 0.9089 - val_loss: 0.8302 - val_acc: 0.7963\n",
      "\n",
      "Epoch 00055: val_acc did not improve from 0.79630\n",
      "Epoch 56/100\n",
      "483/483 [==============================] - 1s 2ms/step - loss: 0.2201 - acc: 0.9027 - val_loss: 0.9910 - val_acc: 0.7963\n",
      "\n",
      "Epoch 00056: val_acc did not improve from 0.79630\n",
      "Epoch 57/100\n",
      "483/483 [==============================] - 1s 1ms/step - loss: 0.2378 - acc: 0.8986 - val_loss: 0.8356 - val_acc: 0.7963\n",
      "\n",
      "Epoch 00057: val_acc did not improve from 0.79630\n",
      "Epoch 58/100\n",
      "483/483 [==============================] - 1s 1ms/step - loss: 0.2110 - acc: 0.9048 - val_loss: 0.9287 - val_acc: 0.7593\n",
      "\n",
      "Epoch 00058: val_acc did not improve from 0.79630\n",
      "Epoch 59/100\n",
      "483/483 [==============================] - 1s 1ms/step - loss: 0.2198 - acc: 0.9089 - val_loss: 0.8675 - val_acc: 0.7593\n",
      "\n",
      "Epoch 00059: val_acc did not improve from 0.79630\n",
      "Epoch 60/100\n",
      "483/483 [==============================] - 1s 2ms/step - loss: 0.1962 - acc: 0.9151 - val_loss: 0.9063 - val_acc: 0.7593\n",
      "\n",
      "Epoch 00060: val_acc did not improve from 0.79630\n",
      "Epoch 61/100\n",
      "483/483 [==============================] - 1s 2ms/step - loss: 0.2011 - acc: 0.9089 - val_loss: 0.8967 - val_acc: 0.7963\n",
      "\n",
      "Epoch 00061: val_acc did not improve from 0.79630\n",
      "Epoch 62/100\n",
      "483/483 [==============================] - 1s 1ms/step - loss: 0.2041 - acc: 0.9110 - val_loss: 0.9688 - val_acc: 0.7407\n",
      "\n",
      "Epoch 00062: val_acc did not improve from 0.79630\n",
      "Epoch 63/100\n",
      "483/483 [==============================] - 1s 1ms/step - loss: 0.1958 - acc: 0.9234 - val_loss: 0.9497 - val_acc: 0.7593\n",
      "\n",
      "Epoch 00063: val_acc did not improve from 0.79630\n",
      "Epoch 64/100\n",
      "483/483 [==============================] - 1s 1ms/step - loss: 0.1886 - acc: 0.9068 - val_loss: 0.9985 - val_acc: 0.7778\n",
      "\n",
      "Epoch 00064: val_acc did not improve from 0.79630\n",
      "Epoch 65/100\n",
      "483/483 [==============================] - 1s 1ms/step - loss: 0.1929 - acc: 0.9193 - val_loss: 0.9192 - val_acc: 0.7593\n",
      "\n",
      "Epoch 00065: val_acc did not improve from 0.79630\n",
      "Epoch 66/100\n",
      "483/483 [==============================] - 1s 1ms/step - loss: 0.1918 - acc: 0.9358 - val_loss: 0.8742 - val_acc: 0.7778\n",
      "\n",
      "Epoch 00066: val_acc did not improve from 0.79630\n",
      "Epoch 67/100\n",
      "483/483 [==============================] - 1s 1ms/step - loss: 0.1656 - acc: 0.9441 - val_loss: 1.3743 - val_acc: 0.7778\n",
      "\n",
      "Epoch 00067: val_acc did not improve from 0.79630\n",
      "Epoch 68/100\n",
      "483/483 [==============================] - 1s 2ms/step - loss: 0.1973 - acc: 0.9193 - val_loss: 1.1146 - val_acc: 0.7593\n",
      "\n",
      "Epoch 00068: val_acc did not improve from 0.79630\n",
      "Epoch 69/100\n",
      "483/483 [==============================] - 1s 2ms/step - loss: 0.1724 - acc: 0.9379 - val_loss: 1.5415 - val_acc: 0.7778\n",
      "\n",
      "Epoch 00069: val_acc did not improve from 0.79630\n",
      "Epoch 70/100\n",
      "483/483 [==============================] - 1s 2ms/step - loss: 0.1707 - acc: 0.9296 - val_loss: 1.0119 - val_acc: 0.7778\n",
      "\n",
      "Epoch 00070: val_acc did not improve from 0.79630\n",
      "Epoch 71/100\n",
      "483/483 [==============================] - 1s 1ms/step - loss: 0.1919 - acc: 0.9130 - val_loss: 1.6103 - val_acc: 0.7407\n",
      "\n",
      "Epoch 00071: val_acc did not improve from 0.79630\n",
      "Epoch 72/100\n",
      "483/483 [==============================] - 1s 2ms/step - loss: 0.1611 - acc: 0.9441 - val_loss: 1.1956 - val_acc: 0.7593\n",
      "\n",
      "Epoch 00072: val_acc did not improve from 0.79630\n",
      "Epoch 73/100\n",
      "483/483 [==============================] - 1s 2ms/step - loss: 0.1458 - acc: 0.9462 - val_loss: 1.1435 - val_acc: 0.7778\n",
      "\n",
      "Epoch 00073: val_acc did not improve from 0.79630\n"
     ]
    }
   ],
   "source": [
    "history=model_1.fit(np.array(X_train).reshape((*X_train.shape,1)),np.array(y_train).reshape((*y_train.shape,1)),\n",
    "            validation_split=0.10, epochs=100\n",
    "            ,batch_size=1, verbose=1, callbacks = cb_list)"
   ]
  },
  {
   "cell_type": "markdown",
   "metadata": {},
   "source": [
    "# Load Model"
   ]
  },
  {
   "cell_type": "code",
   "execution_count": 10,
   "metadata": {},
   "outputs": [],
   "source": [
    "saved_model = load_model('best_model_1d_conv_feature_engineering.h5')\n"
   ]
  },
  {
   "cell_type": "markdown",
   "metadata": {},
   "source": [
    "# Predict The Test Data"
   ]
  },
  {
   "cell_type": "code",
   "execution_count": 11,
   "metadata": {},
   "outputs": [
    {
     "name": "stdout",
     "output_type": "stream",
     "text": [
      "231/231 [==============================] - 0s 308us/step\n",
      "231/231 [==============================] - 0s 261us/step\n"
     ]
    }
   ],
   "source": [
    "#make the predictions using the the model we have created, note the input must be a np.array and a 3d tensor\n",
    "predictions = saved_model.predict_classes(np.array(X_test).reshape((*X_test.shape,1)),batch_size = X_test.shape[0], verbose=1)\n",
    "over_fit_predictions = model_1.predict_classes(np.array(X_test).reshape((*X_test.shape,1)),batch_size = X_test.shape[0], verbose=1)"
   ]
  },
  {
   "cell_type": "code",
   "execution_count": 12,
   "metadata": {},
   "outputs": [
    {
     "name": "stdout",
     "output_type": "stream",
     "text": [
      "saved model acc: 0.7445887445887446\n",
      "Precision: 0.893204\n",
      "Recall: 0.657143\n",
      "F1 score: 0.757202\n",
      "Cohens kappa: 0.500641\n",
      "ROC AUC: 0.768132\n"
     ]
    }
   ],
   "source": [
    "from sklearn.metrics import accuracy_score\n",
    "print (\"saved model acc: %s\" % accuracy_score(y_test, predictions))\n",
    "# accuracy: (tp + tn) / (p + n)\n",
    "\n",
    "# precision tp / (tp + fp)\n",
    "precision = precision_score(y_test, predictions)\n",
    "print('Precision: %f' % precision)\n",
    "# recall: tp / (tp + fn)\n",
    "recall = recall_score(y_test, predictions)\n",
    "print('Recall: %f' % recall)\n",
    "# f1: 2 tp / (2 tp + fp + fn)\n",
    "f1 = f1_score(y_test, predictions)\n",
    "print('F1 score: %f' % f1)\n",
    " \n",
    "# kappa\n",
    "kappa = cohen_kappa_score(y_test, predictions)\n",
    "print('Cohens kappa: %f' % kappa)\n",
    "# ROC AUC\n",
    "auc = roc_auc_score(y_test, predictions)\n",
    "print('ROC AUC: %f' % auc)"
   ]
  },
  {
   "cell_type": "markdown",
   "metadata": {},
   "source": [
    "# Overfitted model metrics"
   ]
  },
  {
   "cell_type": "code",
   "execution_count": 13,
   "metadata": {},
   "outputs": [
    {
     "name": "stdout",
     "output_type": "stream",
     "text": [
      "Overfitted model acc:0.7489177489177489 \n",
      "Precision: 0.810606\n",
      "Recall: 0.764286\n",
      "F1 score: 0.786765\n",
      "Cohens kappa: 0.482143\n",
      "ROC AUC: 0.744780\n"
     ]
    }
   ],
   "source": [
    "print (\"Overfitted model acc:%s \" % accuracy_score(y_test, over_fit_predictions))\n",
    "# accuracy: (tp + tn) / (p + n)\n",
    "\n",
    "# precision tp / (tp + fp)\n",
    "precision = precision_score(y_test, over_fit_predictions)\n",
    "print('Precision: %f' % precision)\n",
    "# recall: tp / (tp + fn)\n",
    "recall = recall_score(y_test, over_fit_predictions)\n",
    "print('Recall: %f' % recall)\n",
    "# f1: 2 tp / (2 tp + fp + fn)\n",
    "f1 = f1_score(y_test, over_fit_predictions)\n",
    "print('F1 score: %f' % f1)\n",
    " \n",
    "# kappa\n",
    "kappa = cohen_kappa_score(y_test, over_fit_predictions)\n",
    "print('Cohens kappa: %f' % kappa)\n",
    "# ROC AUC\n",
    "auc = roc_auc_score(y_test, over_fit_predictions)\n",
    "print('ROC AUC: %f' % auc)"
   ]
  },
  {
   "cell_type": "code",
   "execution_count": 14,
   "metadata": {},
   "outputs": [
    {
     "name": "stderr",
     "output_type": "stream",
     "text": [
      "/anaconda3/lib/python3.7/site-packages/matplotlib/font_manager.py:1241: UserWarning: findfont: Font family ['normal'] not found. Falling back to DejaVu Sans.\n",
      "  (prop.get_family(), self.defaultFamily[fontext]))\n"
     ]
    },
    {
     "data": {
      "image/png": "[encoded data removed]",
      "text/plain": [
       "<Figure size 1440x1440 with 1 Axes>"
      ]
     },
     "metadata": {
      "needs_background": "light"
     },
     "output_type": "display_data"
    }
   ],
   "source": [
    "#plot the accuracy of the training set  and the validation set of the model\n",
    "font = {'family' : 'normal',\n",
    "        'weight' : 'bold',\n",
    "        'size'   : 22}\n",
    "\n",
    "plt.rc('font', **font)\n",
    "axis_font = {'fontname':'Arial', 'size':'25'}\n",
    "\n",
    "plt.figure(figsize=[20,20])\n",
    "plt.plot(history.history['acc'])\n",
    "plt.plot(history.history['val_acc'])\n",
    "plt.ylabel('Accuracy', **axis_font)\n",
    "plt.xlabel('Epochs', **axis_font)\n",
    "\n",
    "plt.show()\n"
   ]
  },
  {
   "cell_type": "markdown",
   "metadata": {},
   "source": [
    "# Confusion Matrix"
   ]
  },
  {
   "cell_type": "code",
   "execution_count": 15,
   "metadata": {},
   "outputs": [],
   "source": [
    "%matplotlib inline\n",
    "\n",
    "def plot_confusion_matrix(cm, classes,\n",
    "                          normalize=False,\n",
    "                          title=\"Confusion Matrix\",\n",
    "                          cmap=plt.cm.Blues):\n",
    "    plt.imshow(cm, interpolation=\"nearest\", cmap=cmap)\n",
    "    plt.title(title)\n",
    "    tick_marks = np.arange(len(classes))\n",
    "    plt.xticks(tick_marks, classes, rotation=45)\n",
    "    plt.yticks(tick_marks, classes)\n",
    "    \n",
    "    if normalize:\n",
    "        cm = cm.astype(\"float\")/ cm.sum(axis=1)[:,np.newaxis]\n",
    "        print (\"Normalised confusion matrix\")\n",
    "    else:\n",
    "        print (\"Confusion matrix, without normalisation\")\n",
    "        \n",
    "    print (cm)\n",
    "    \n",
    "    thresh = cm.max()/2\n",
    "    for i,j in itertools.product(range(cm.shape[0]),range(cm.shape[1])):\n",
    "        plt.text(j, i, cm[i,j],\n",
    "        horizontalalignment = \"center\",\n",
    "        color=\"white\" if cm[i,j] > thresh else \"black\" )\n",
    "        \n",
    "    plt.tight_layout()\n",
    "    plt.ylabel(\"True Label\")\n",
    "    plt.xlabel(\"Predicted Label\")\n",
    "    \n",
    "    \n",
    "\n"
   ]
  },
  {
   "cell_type": "code",
   "execution_count": 16,
   "metadata": {},
   "outputs": [
    {
     "name": "stdout",
     "output_type": "stream",
     "text": [
      "Confusion matrix, without normalisation\n",
      "[[80 11]\n",
      " [48 92]]\n"
     ]
    },
    {
     "name": "stderr",
     "output_type": "stream",
     "text": [
      "/anaconda3/lib/python3.7/site-packages/matplotlib/font_manager.py:1241: UserWarning: findfont: Font family ['normal'] not found. Falling back to DejaVu Sans.\n",
      "  (prop.get_family(), self.defaultFamily[fontext]))\n",
      "/anaconda3/lib/python3.7/site-packages/matplotlib/font_manager.py:1241: UserWarning: findfont: Font family ['normal'] not found. Falling back to DejaVu Sans.\n",
      "  (prop.get_family(), self.defaultFamily[fontext]))\n",
      "/anaconda3/lib/python3.7/site-packages/matplotlib/font_manager.py:1241: UserWarning: findfont: Font family ['normal'] not found. Falling back to DejaVu Sans.\n",
      "  (prop.get_family(), self.defaultFamily[fontext]))\n"
     ]
    },
    {
     "data": {
      "image/png": "[encoded data removed]",
      "text/plain": [
       "<Figure size 432x288 with 1 Axes>"
      ]
     },
     "metadata": {
      "needs_background": "light"
     },
     "output_type": "display_data"
    }
   ],
   "source": [
    "cm = confusion_matrix(y_test, predictions)\n",
    "cm_labels = ['Sell', 'Buy']\n",
    "plot_confusion_matrix(cm, cm_labels, title=\"Confusion Matrix\")"
   ]
  },
  {
   "cell_type": "code",
   "execution_count": 17,
   "metadata": {},
   "outputs": [
    {
     "name": "stdout",
     "output_type": "stream",
     "text": [
      "Confusion matrix, without normalisation\n",
      "[[ 66  25]\n",
      " [ 33 107]]\n"
     ]
    },
    {
     "data": {
      "image/png": "[encoded data removed]",
      "text/plain": [
       "<Figure size 432x288 with 1 Axes>"
      ]
     },
     "metadata": {
      "needs_background": "light"
     },
     "output_type": "display_data"
    }
   ],
   "source": [
    "cm2 = confusion_matrix(y_test, over_fit_predictions)\n",
    "cm_labels = ['Sell', 'Buy']\n",
    "plot_confusion_matrix(cm2, cm_labels, title=\"Confusion Matrix\")"
   ]
  },
  {
   "cell_type": "code",
   "execution_count": null,
   "metadata": {},
   "outputs": [],
   "source": []
  }
 ],
 "metadata": {
  "kernelspec": {
   "display_name": "Python 3",
   "language": "python",
   "name": "python3"
  },
  "language_info": {
   "codemirror_mode": {
    "name": "ipython",
    "version": 3
   },
   "file_extension": ".py",
   "mimetype": "text/x-python",
   "name": "python",
   "nbconvert_exporter": "python",
   "pygments_lexer": "ipython3",
   "version": "3.7.3"
  }
 },
 "nbformat": 4,
 "nbformat_minor": 2
}
