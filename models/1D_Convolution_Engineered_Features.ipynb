{
 "cells": [
  {
   "cell_type": "code",
   "execution_count": 1,
   "metadata": {},
   "outputs": [
    {
     "name": "stderr",
     "output_type": "stream",
     "text": [
      "Using TensorFlow backend.\n"
     ]
    }
   ],
   "source": [
    "import pandas as pd\n",
    "import numpy as np \n",
    "from sklearn.model_selection import train_test_split\n",
    "import csv\n",
    "from pandas.tseries.offsets import MonthEnd\n",
    "from datetime import datetime, timedelta, date\n",
    "import requests\n",
    "import json \n",
    "import seaborn as sns\n",
    "import matplotlib.pyplot as plt\n",
    "import itertools\n",
    "from sklearn.utils.multiclass import unique_labels\n",
    "\n",
    "from scipy import stats\n",
    "from IPython.display import display, HTML\n",
    "\n",
    "from sklearn import metrics\n",
    "from sklearn.metrics import classification_report\n",
    "from sklearn import preprocessing\n",
    "from sklearn.metrics import confusion_matrix\n",
    "from keras.callbacks import EarlyStopping\n",
    "from keras.callbacks import ModelCheckpoint\n",
    "from keras.models import load_model\n",
    "\n",
    "import keras\n",
    "from keras.models import Sequential\n",
    "from keras.layers import Dense, Dropout, Flatten, Reshape\n",
    "from keras.layers import Convolution1D, MaxPooling1D\n",
    "from keras.utils import np_utils\n",
    "import seaborn as sns\n",
    "\n",
    "from sklearn.metrics import accuracy_score\n",
    "from sklearn.metrics import precision_score\n",
    "from sklearn.metrics import recall_score\n",
    "from sklearn.metrics import f1_score\n",
    "from sklearn.metrics import cohen_kappa_score\n",
    "from sklearn.metrics import roc_auc_score"
   ]
  },
  {
   "cell_type": "code",
   "execution_count": 2,
   "metadata": {},
   "outputs": [],
   "source": [
    "#### read in the flattened dataframes with the labels\n",
    "MSFT_df = pd.read_csv(\"/Users/fahad/project_repo/data/external/MSFT_flat.csv\", index_col=0)\n",
    "AAPL_df = pd.read_csv(\"/Users/fahad/project_repo/data/external/AAPL_flat.csv\",index_col=0)\n",
    "AMZN_df = pd.read_csv(\"/Users/fahad/project_repo/data/external/AMZN_flat.csv\",index_col=0)"
   ]
  },
  {
   "cell_type": "code",
   "execution_count": 3,
   "metadata": {},
   "outputs": [],
   "source": [
    "\n",
    "#vertically stack the MSFT and AAPL dataframes on top of eachother\n",
    "df = pd.concat([MSFT_df, AAPL_df], axis=0)\n",
    "#vertically stack the MSFT&AAPL df and the AMZN dataframe ontop of eachother\n",
    "df = pd.concat([df,AMZN_df],axis = 0)\n",
    "#set index to date\n",
    "#df.set_index(\"Date\")\n",
    "\n",
    "y = df.Label # define the target variable (dependent variable) as y\n",
    "\n",
    "df = df.drop(['Label'], axis =1)\n"
   ]
  },
  {
   "cell_type": "code",
   "execution_count": 4,
   "metadata": {},
   "outputs": [
    {
     "name": "stdout",
     "output_type": "stream",
     "text": [
      "360\n",
      "537\n"
     ]
    },
    {
     "data": {
      "text/html": [
       "<div>\n",
       "<style scoped>\n",
       "    .dataframe tbody tr th:only-of-type {\n",
       "        vertical-align: middle;\n",
       "    }\n",
       "\n",
       "    .dataframe tbody tr th {\n",
       "        vertical-align: top;\n",
       "    }\n",
       "\n",
       "    .dataframe thead th {\n",
       "        text-align: right;\n",
       "    }\n",
       "</style>\n",
       "<table border=\"1\" class=\"dataframe\">\n",
       "  <thead>\n",
       "    <tr style=\"text-align: right;\">\n",
       "      <th></th>\n",
       "      <th>0</th>\n",
       "      <th>1</th>\n",
       "      <th>2</th>\n",
       "      <th>3</th>\n",
       "      <th>4</th>\n",
       "      <th>5</th>\n",
       "      <th>6</th>\n",
       "      <th>7</th>\n",
       "      <th>8</th>\n",
       "      <th>9</th>\n",
       "      <th>...</th>\n",
       "      <th>350</th>\n",
       "      <th>351</th>\n",
       "      <th>352</th>\n",
       "      <th>353</th>\n",
       "      <th>354</th>\n",
       "      <th>355</th>\n",
       "      <th>356</th>\n",
       "      <th>357</th>\n",
       "      <th>358</th>\n",
       "      <th>359</th>\n",
       "    </tr>\n",
       "  </thead>\n",
       "  <tbody>\n",
       "    <tr>\n",
       "      <th>2012-09-28</th>\n",
       "      <td>0.11863</td>\n",
       "      <td>0.119302</td>\n",
       "      <td>0.119423</td>\n",
       "      <td>0.118144</td>\n",
       "      <td>0.034009</td>\n",
       "      <td>0.350887</td>\n",
       "      <td>0.440622</td>\n",
       "      <td>0.118797</td>\n",
       "      <td>0.116307</td>\n",
       "      <td>0.052532</td>\n",
       "      <td>...</td>\n",
       "      <td>0.109482</td>\n",
       "      <td>0.109327</td>\n",
       "      <td>0.039022</td>\n",
       "      <td>0.514377</td>\n",
       "      <td>0.472689</td>\n",
       "      <td>0.122405</td>\n",
       "      <td>0.11774</td>\n",
       "      <td>0.056373</td>\n",
       "      <td>0.0</td>\n",
       "      <td>0.0</td>\n",
       "    </tr>\n",
       "  </tbody>\n",
       "</table>\n",
       "<p>1 rows × 360 columns</p>\n",
       "</div>"
      ],
      "text/plain": [
       "                  0         1         2         3         4         5  \\\n",
       "2012-09-28  0.11863  0.119302  0.119423  0.118144  0.034009  0.350887   \n",
       "\n",
       "                   6         7         8         9  ...       350       351  \\\n",
       "2012-09-28  0.440622  0.118797  0.116307  0.052532  ...  0.109482  0.109327   \n",
       "\n",
       "                 352       353       354       355      356       357  358  \\\n",
       "2012-09-28  0.039022  0.514377  0.472689  0.122405  0.11774  0.056373  0.0   \n",
       "\n",
       "            359  \n",
       "2012-09-28  0.0  \n",
       "\n",
       "[1 rows x 360 columns]"
      ]
     },
     "execution_count": 4,
     "metadata": {},
     "output_type": "execute_result"
    }
   ],
   "source": [
    "#define the target variable as y \n",
    "X_train, X_test, y_train, y_test = train_test_split(df, y, test_size=0.3)\n",
    "#print (X_train.head(5))\n",
    "print(X_train.shape[1])\n",
    "print(X_train.shape[0])\n",
    "X_train.head(1)"
   ]
  },
  {
   "cell_type": "markdown",
   "metadata": {},
   "source": [
    "# Model"
   ]
  },
  {
   "cell_type": "code",
   "execution_count": 5,
   "metadata": {},
   "outputs": [],
   "source": [
    "def make_timeseries_classifier(sample_num,window_size, filter_length, nb_input_series=1, nb_outputs=1, nb_filter=16):\n",
    "    \"\"\":Return: a Keras Model for predicting the next value in a timeseries given a fixed-size lookback window of previous values.\n",
    "    The model can handle multiple input timeseries (`nb_input_series`) and multiple prediction targets (`nb_outputs`).\n",
    "    :param int window_size: The number of previous timeseries values to use as input features.  Also called lag or lookback.\n",
    "    :param int nb_input_series: The number of input timeseries; 1 for a single timeseries.\n",
    "      The `X` input to ``fit()`` should be an array of shape ``(n_instances, window_size, nb_input_series)``; each instance is\n",
    "      a 2D array of shape ``(window_size, nb_input_series)``.  For example, for `window_size` = 3 and `nb_input_series` = 1 (a\n",
    "      single timeseries), one instance could be ``[[0], [1], [2]]``. See ``make_timeseries_instances()``.\n",
    "    :param int nb_outputs: The output dimension, often equal to the number of inputs.\n",
    "      For each input instance (array with shape ``(window_size, nb_input_series)``), the output is a vector of size `nb_outputs`,\n",
    "      usually the value(s) predicted to come after the last value in that input instance, i.e., the next value\n",
    "      in the sequence. The `y` input to ``fit()`` should be an array of shape ``(n_instances, nb_outputs)``.\n",
    "    :param int filter_length: the size (along the `window_size` dimension) of the sliding window that gets convolved with\n",
    "      each position along each instance. The difference between 1D and 2D convolution is that a 1D filter's \"height\" is fixed\n",
    "      to the number of input timeseries (its \"width\" being `filter_length`), and it can only slide along the window\n",
    "      dimension.  This is useful as generally the input timeseries have no spatial/ordinal relationship, so it's not\n",
    "      meaningful to look for patterns that are invariant with respect to subsets of the timeseries.\n",
    "    :param int nb_filter: The number of different filters to learn (roughly, input patterns to recognize).\n",
    "    \"\"\"\n",
    "    model = Sequential((\n",
    "        # The first conv layer learns `nb_filter` filters (aka kernels), each of size ``(filter_length, nb_input_series)``.\n",
    "        # Its output will have shape (None, window_size - filter_length + 1, nb_filter), i.e., for each position in\n",
    "        # the input timeseries, the activation of each filter at that position.\n",
    "        Convolution1D(nb_filter=nb_filter, filter_length=filter_length, activation='relu', input_shape=(window_size,nb_input_series)),\n",
    "        MaxPooling1D(),     # Downsample the output of convolution by 2X.\n",
    "        Convolution1D(nb_filter=nb_filter, filter_length=filter_length, activation='relu'),\n",
    "        MaxPooling1D(),\n",
    "        Flatten(),\n",
    "        Dense(nb_outputs, activation='sigmoid'),     # For binary classification, change the activation to 'sigmoid'\n",
    "    ))\n",
    "    model.compile(loss='binary_crossentropy', optimizer='adam', metrics=['accuracy'])\n",
    "    # To perform (binary) classification instead:\n",
    "    # model.compile(loss='binary_crossentropy', optimizer='adam', metrics=['binary_accuracy'])\n",
    "    \n",
    "    return model"
   ]
  },
  {
   "cell_type": "code",
   "execution_count": 6,
   "metadata": {},
   "outputs": [
    {
     "name": "stderr",
     "output_type": "stream",
     "text": [
      "/Users/fahad/anaconda3/lib/python3.7/site-packages/ipykernel_launcher.py:24: UserWarning: Update your `Conv1D` call to the Keras 2 API: `Conv1D(activation=\"relu\", input_shape=(360, 1), filters=16, kernel_size=3)`\n",
      "WARNING: Logging before flag parsing goes to stderr.\n",
      "W0808 07:58:11.808921 4652647872 deprecation_wrapper.py:119] From /Users/fahad/anaconda3/lib/python3.7/site-packages/keras/backend/tensorflow_backend.py:74: The name tf.get_default_graph is deprecated. Please use tf.compat.v1.get_default_graph instead.\n",
      "\n",
      "/Users/fahad/anaconda3/lib/python3.7/site-packages/ipykernel_launcher.py:26: UserWarning: Update your `Conv1D` call to the Keras 2 API: `Conv1D(activation=\"relu\", filters=16, kernel_size=3)`\n",
      "W0808 07:58:11.851600 4652647872 deprecation_wrapper.py:119] From /Users/fahad/anaconda3/lib/python3.7/site-packages/keras/backend/tensorflow_backend.py:517: The name tf.placeholder is deprecated. Please use tf.compat.v1.placeholder instead.\n",
      "\n",
      "W0808 07:58:11.874124 4652647872 deprecation_wrapper.py:119] From /Users/fahad/anaconda3/lib/python3.7/site-packages/keras/backend/tensorflow_backend.py:4138: The name tf.random_uniform is deprecated. Please use tf.random.uniform instead.\n",
      "\n",
      "W0808 07:58:11.902902 4652647872 deprecation_wrapper.py:119] From /Users/fahad/anaconda3/lib/python3.7/site-packages/keras/backend/tensorflow_backend.py:3976: The name tf.nn.max_pool is deprecated. Please use tf.nn.max_pool2d instead.\n",
      "\n",
      "W0808 07:58:11.940084 4652647872 deprecation_wrapper.py:119] From /Users/fahad/anaconda3/lib/python3.7/site-packages/keras/optimizers.py:790: The name tf.train.Optimizer is deprecated. Please use tf.compat.v1.train.Optimizer instead.\n",
      "\n",
      "W0808 07:58:11.957633 4652647872 deprecation_wrapper.py:119] From /Users/fahad/anaconda3/lib/python3.7/site-packages/keras/backend/tensorflow_backend.py:3376: The name tf.log is deprecated. Please use tf.math.log instead.\n",
      "\n",
      "W0808 07:58:11.961940 4652647872 deprecation.py:323] From /Users/fahad/anaconda3/lib/python3.7/site-packages/tensorflow/python/ops/nn_impl.py:180: add_dispatch_support.<locals>.wrapper (from tensorflow.python.ops.array_ops) is deprecated and will be removed in a future version.\n",
      "Instructions for updating:\n",
      "Use tf.where in 2.0, which has the same broadcast rule as np.where\n"
     ]
    }
   ],
   "source": [
    "\n",
    "model_1 = make_timeseries_classifier(X_train.shape[0],X_train.shape[1],3)"
   ]
  },
  {
   "cell_type": "code",
   "execution_count": 7,
   "metadata": {},
   "outputs": [
    {
     "name": "stdout",
     "output_type": "stream",
     "text": [
      "_________________________________________________________________\n",
      "Layer (type)                 Output Shape              Param #   \n",
      "=================================================================\n",
      "conv1d_1 (Conv1D)            (None, 358, 16)           64        \n",
      "_________________________________________________________________\n",
      "max_pooling1d_1 (MaxPooling1 (None, 179, 16)           0         \n",
      "_________________________________________________________________\n",
      "conv1d_2 (Conv1D)            (None, 177, 16)           784       \n",
      "_________________________________________________________________\n",
      "max_pooling1d_2 (MaxPooling1 (None, 88, 16)            0         \n",
      "_________________________________________________________________\n",
      "flatten_1 (Flatten)          (None, 1408)              0         \n",
      "_________________________________________________________________\n",
      "dense_1 (Dense)              (None, 1)                 1409      \n",
      "=================================================================\n",
      "Total params: 2,257\n",
      "Trainable params: 2,257\n",
      "Non-trainable params: 0\n",
      "_________________________________________________________________\n"
     ]
    }
   ],
   "source": [
    "model_1.summary()"
   ]
  },
  {
   "cell_type": "markdown",
   "metadata": {},
   "source": [
    "# Callbacks"
   ]
  },
  {
   "cell_type": "code",
   "execution_count": 8,
   "metadata": {},
   "outputs": [],
   "source": [
    "es = EarlyStopping(monitor='val_acc', mode='max', verbose=0, patience=50)\n",
    "mc = ModelCheckpoint('1dconv_feature_engineered_model.h5', monitor='val_acc', mode='max', verbose=1, save_best_only=True)\n",
    "cb_list = [es,mc]"
   ]
  },
  {
   "cell_type": "code",
   "execution_count": 9,
   "metadata": {},
   "outputs": [
    {
     "name": "stderr",
     "output_type": "stream",
     "text": [
      "W0808 07:58:12.270424 4652647872 deprecation_wrapper.py:119] From /Users/fahad/anaconda3/lib/python3.7/site-packages/keras/backend/tensorflow_backend.py:986: The name tf.assign_add is deprecated. Please use tf.compat.v1.assign_add instead.\n",
      "\n"
     ]
    },
    {
     "name": "stdout",
     "output_type": "stream",
     "text": [
      "Train on 483 samples, validate on 54 samples\n",
      "Epoch 1/100\n",
      "483/483 [==============================] - 1s 3ms/step - loss: 0.6806 - acc: 0.5776 - val_loss: 0.6673 - val_acc: 0.6296\n",
      "\n",
      "Epoch 00001: val_acc improved from -inf to 0.62963, saving model to 1dconv_feature_engineered_model.h5\n",
      "Epoch 2/100\n",
      "483/483 [==============================] - 1s 2ms/step - loss: 0.6381 - acc: 0.6273 - val_loss: 0.6229 - val_acc: 0.6667\n",
      "\n",
      "Epoch 00002: val_acc improved from 0.62963 to 0.66667, saving model to 1dconv_feature_engineered_model.h5\n",
      "Epoch 3/100\n",
      "483/483 [==============================] - 1s 2ms/step - loss: 0.5827 - acc: 0.6812 - val_loss: 0.6225 - val_acc: 0.6667\n",
      "\n",
      "Epoch 00003: val_acc did not improve from 0.66667\n",
      "Epoch 4/100\n",
      "483/483 [==============================] - 1s 2ms/step - loss: 0.5439 - acc: 0.7267 - val_loss: 0.6276 - val_acc: 0.6296\n",
      "\n",
      "Epoch 00004: val_acc did not improve from 0.66667\n",
      "Epoch 5/100\n",
      "483/483 [==============================] - 1s 2ms/step - loss: 0.5096 - acc: 0.7391 - val_loss: 0.6095 - val_acc: 0.6481\n",
      "\n",
      "Epoch 00005: val_acc did not improve from 0.66667\n",
      "Epoch 6/100\n",
      "483/483 [==============================] - 1s 1ms/step - loss: 0.4834 - acc: 0.7453 - val_loss: 0.6692 - val_acc: 0.6667\n",
      "\n",
      "Epoch 00006: val_acc did not improve from 0.66667\n",
      "Epoch 7/100\n",
      "483/483 [==============================] - 1s 1ms/step - loss: 0.4581 - acc: 0.7640 - val_loss: 0.7120 - val_acc: 0.6481\n",
      "\n",
      "Epoch 00007: val_acc did not improve from 0.66667\n",
      "Epoch 8/100\n",
      "483/483 [==============================] - 1s 2ms/step - loss: 0.4487 - acc: 0.7578 - val_loss: 0.7315 - val_acc: 0.6481\n",
      "\n",
      "Epoch 00008: val_acc did not improve from 0.66667\n",
      "Epoch 9/100\n",
      "483/483 [==============================] - 1s 2ms/step - loss: 0.4336 - acc: 0.7619 - val_loss: 0.7622 - val_acc: 0.6667\n",
      "\n",
      "Epoch 00009: val_acc did not improve from 0.66667\n",
      "Epoch 10/100\n",
      "483/483 [==============================] - 1s 1ms/step - loss: 0.4286 - acc: 0.7743 - val_loss: 0.8381 - val_acc: 0.6111\n",
      "\n",
      "Epoch 00010: val_acc did not improve from 0.66667\n",
      "Epoch 11/100\n",
      "483/483 [==============================] - 1s 1ms/step - loss: 0.4188 - acc: 0.7930 - val_loss: 0.7823 - val_acc: 0.6481\n",
      "\n",
      "Epoch 00011: val_acc did not improve from 0.66667\n",
      "Epoch 12/100\n",
      "483/483 [==============================] - 1s 1ms/step - loss: 0.4119 - acc: 0.7826 - val_loss: 0.7659 - val_acc: 0.6667\n",
      "\n",
      "Epoch 00012: val_acc did not improve from 0.66667\n",
      "Epoch 13/100\n",
      "483/483 [==============================] - 1s 1ms/step - loss: 0.4001 - acc: 0.8054 - val_loss: 0.7637 - val_acc: 0.7037\n",
      "\n",
      "Epoch 00013: val_acc improved from 0.66667 to 0.70370, saving model to 1dconv_feature_engineered_model.h5\n",
      "Epoch 14/100\n",
      "483/483 [==============================] - 1s 1ms/step - loss: 0.3878 - acc: 0.8157 - val_loss: 0.7974 - val_acc: 0.6667\n",
      "\n",
      "Epoch 00014: val_acc did not improve from 0.70370\n",
      "Epoch 15/100\n",
      "483/483 [==============================] - 1s 1ms/step - loss: 0.3812 - acc: 0.8219 - val_loss: 0.7849 - val_acc: 0.7037\n",
      "\n",
      "Epoch 00015: val_acc did not improve from 0.70370\n",
      "Epoch 16/100\n",
      "483/483 [==============================] - 1s 1ms/step - loss: 0.3654 - acc: 0.8240 - val_loss: 0.8176 - val_acc: 0.7222\n",
      "\n",
      "Epoch 00016: val_acc improved from 0.70370 to 0.72222, saving model to 1dconv_feature_engineered_model.h5\n",
      "Epoch 17/100\n",
      "483/483 [==============================] - 1s 1ms/step - loss: 0.3627 - acc: 0.8199 - val_loss: 0.8483 - val_acc: 0.6667\n",
      "\n",
      "Epoch 00017: val_acc did not improve from 0.72222\n",
      "Epoch 18/100\n",
      "483/483 [==============================] - 1s 1ms/step - loss: 0.3614 - acc: 0.8302 - val_loss: 0.8672 - val_acc: 0.6296\n",
      "\n",
      "Epoch 00018: val_acc did not improve from 0.72222\n",
      "Epoch 19/100\n",
      "483/483 [==============================] - 1s 1ms/step - loss: 0.3534 - acc: 0.8282 - val_loss: 0.8488 - val_acc: 0.6852\n",
      "\n",
      "Epoch 00019: val_acc did not improve from 0.72222\n",
      "Epoch 20/100\n",
      "483/483 [==============================] - 1s 1ms/step - loss: 0.3406 - acc: 0.8385 - val_loss: 0.8255 - val_acc: 0.7037\n",
      "\n",
      "Epoch 00020: val_acc did not improve from 0.72222\n",
      "Epoch 21/100\n",
      "483/483 [==============================] - 1s 1ms/step - loss: 0.3525 - acc: 0.8447 - val_loss: 0.7939 - val_acc: 0.7222\n",
      "\n",
      "Epoch 00021: val_acc did not improve from 0.72222\n",
      "Epoch 22/100\n",
      "483/483 [==============================] - 1s 1ms/step - loss: 0.3383 - acc: 0.8364 - val_loss: 0.8718 - val_acc: 0.6481\n",
      "\n",
      "Epoch 00022: val_acc did not improve from 0.72222\n",
      "Epoch 23/100\n",
      "483/483 [==============================] - 1s 1ms/step - loss: 0.3371 - acc: 0.8447 - val_loss: 0.9320 - val_acc: 0.6481\n",
      "\n",
      "Epoch 00023: val_acc did not improve from 0.72222\n",
      "Epoch 24/100\n",
      "483/483 [==============================] - 1s 1ms/step - loss: 0.3261 - acc: 0.8427 - val_loss: 0.8622 - val_acc: 0.7222\n",
      "\n",
      "Epoch 00024: val_acc did not improve from 0.72222\n",
      "Epoch 25/100\n",
      "483/483 [==============================] - 1s 1ms/step - loss: 0.3350 - acc: 0.8427 - val_loss: 0.8874 - val_acc: 0.6667\n",
      "\n",
      "Epoch 00025: val_acc did not improve from 0.72222\n",
      "Epoch 26/100\n",
      "483/483 [==============================] - 1s 1ms/step - loss: 0.3205 - acc: 0.8385 - val_loss: 0.9219 - val_acc: 0.7037\n",
      "\n",
      "Epoch 00026: val_acc did not improve from 0.72222\n",
      "Epoch 27/100\n",
      "483/483 [==============================] - 1s 1ms/step - loss: 0.3045 - acc: 0.8675 - val_loss: 0.8212 - val_acc: 0.7222\n",
      "\n",
      "Epoch 00027: val_acc did not improve from 0.72222\n",
      "Epoch 28/100\n",
      "483/483 [==============================] - 1s 1ms/step - loss: 0.3212 - acc: 0.8634 - val_loss: 0.8592 - val_acc: 0.7407\n",
      "\n",
      "Epoch 00028: val_acc improved from 0.72222 to 0.74074, saving model to 1dconv_feature_engineered_model.h5\n",
      "Epoch 29/100\n",
      "483/483 [==============================] - 1s 1ms/step - loss: 0.3204 - acc: 0.8530 - val_loss: 0.8721 - val_acc: 0.6852\n",
      "\n",
      "Epoch 00029: val_acc did not improve from 0.74074\n",
      "Epoch 30/100\n",
      "483/483 [==============================] - 1s 1ms/step - loss: 0.3133 - acc: 0.8571 - val_loss: 0.9061 - val_acc: 0.6667\n",
      "\n",
      "Epoch 00030: val_acc did not improve from 0.74074\n",
      "Epoch 31/100\n",
      "483/483 [==============================] - 1s 2ms/step - loss: 0.3045 - acc: 0.8654 - val_loss: 0.8635 - val_acc: 0.7407\n",
      "\n",
      "Epoch 00031: val_acc did not improve from 0.74074\n",
      "Epoch 32/100\n",
      "483/483 [==============================] - 1s 2ms/step - loss: 0.3114 - acc: 0.8675 - val_loss: 0.8670 - val_acc: 0.7407\n",
      "\n",
      "Epoch 00032: val_acc did not improve from 0.74074\n",
      "Epoch 33/100\n",
      "483/483 [==============================] - 1s 1ms/step - loss: 0.2979 - acc: 0.8654 - val_loss: 0.9247 - val_acc: 0.6852\n",
      "\n",
      "Epoch 00033: val_acc did not improve from 0.74074\n",
      "Epoch 34/100\n",
      "483/483 [==============================] - 1s 1ms/step - loss: 0.2939 - acc: 0.8551 - val_loss: 0.8984 - val_acc: 0.6852\n",
      "\n",
      "Epoch 00034: val_acc did not improve from 0.74074\n",
      "Epoch 35/100\n",
      "483/483 [==============================] - 1s 2ms/step - loss: 0.2886 - acc: 0.8737 - val_loss: 1.0705 - val_acc: 0.6667\n",
      "\n",
      "Epoch 00035: val_acc did not improve from 0.74074\n",
      "Epoch 36/100\n",
      "483/483 [==============================] - 1s 1ms/step - loss: 0.2908 - acc: 0.8571 - val_loss: 1.0560 - val_acc: 0.6481\n",
      "\n",
      "Epoch 00036: val_acc did not improve from 0.74074\n",
      "Epoch 37/100\n",
      "483/483 [==============================] - 1s 2ms/step - loss: 0.2901 - acc: 0.8571 - val_loss: 0.9748 - val_acc: 0.6667\n",
      "\n",
      "Epoch 00037: val_acc did not improve from 0.74074\n",
      "Epoch 38/100\n",
      "483/483 [==============================] - 1s 2ms/step - loss: 0.2927 - acc: 0.8716 - val_loss: 0.8614 - val_acc: 0.7222\n",
      "\n",
      "Epoch 00038: val_acc did not improve from 0.74074\n",
      "Epoch 39/100\n",
      "483/483 [==============================] - 1s 1ms/step - loss: 0.2825 - acc: 0.8799 - val_loss: 0.8948 - val_acc: 0.7037\n",
      "\n",
      "Epoch 00039: val_acc did not improve from 0.74074\n",
      "Epoch 40/100\n",
      "483/483 [==============================] - 1s 2ms/step - loss: 0.2768 - acc: 0.8737 - val_loss: 0.8998 - val_acc: 0.7222\n",
      "\n",
      "Epoch 00040: val_acc did not improve from 0.74074\n",
      "Epoch 41/100\n",
      "483/483 [==============================] - 1s 2ms/step - loss: 0.2793 - acc: 0.8841 - val_loss: 1.0293 - val_acc: 0.6481\n",
      "\n",
      "Epoch 00041: val_acc did not improve from 0.74074\n",
      "Epoch 42/100\n",
      "483/483 [==============================] - 1s 2ms/step - loss: 0.2738 - acc: 0.8675 - val_loss: 0.9512 - val_acc: 0.7407\n",
      "\n",
      "Epoch 00042: val_acc did not improve from 0.74074\n",
      "Epoch 43/100\n",
      "483/483 [==============================] - 1s 2ms/step - loss: 0.2655 - acc: 0.8841 - val_loss: 0.9405 - val_acc: 0.7407\n"
     ]
    },
    {
     "name": "stdout",
     "output_type": "stream",
     "text": [
      "\n",
      "Epoch 00043: val_acc did not improve from 0.74074\n",
      "Epoch 44/100\n",
      "483/483 [==============================] - 1s 1ms/step - loss: 0.2643 - acc: 0.8923 - val_loss: 0.9773 - val_acc: 0.7037\n",
      "\n",
      "Epoch 00044: val_acc did not improve from 0.74074\n",
      "Epoch 45/100\n",
      "483/483 [==============================] - 1s 1ms/step - loss: 0.2591 - acc: 0.8903 - val_loss: 1.2023 - val_acc: 0.6667\n",
      "\n",
      "Epoch 00045: val_acc did not improve from 0.74074\n",
      "Epoch 46/100\n",
      "483/483 [==============================] - 1s 2ms/step - loss: 0.2617 - acc: 0.8923 - val_loss: 1.0403 - val_acc: 0.7222\n",
      "\n",
      "Epoch 00046: val_acc did not improve from 0.74074\n",
      "Epoch 47/100\n",
      "483/483 [==============================] - 1s 2ms/step - loss: 0.2525 - acc: 0.8986 - val_loss: 1.0944 - val_acc: 0.6481\n",
      "\n",
      "Epoch 00047: val_acc did not improve from 0.74074\n",
      "Epoch 48/100\n",
      "483/483 [==============================] - 1s 2ms/step - loss: 0.2539 - acc: 0.8820 - val_loss: 1.0973 - val_acc: 0.6667\n",
      "\n",
      "Epoch 00048: val_acc did not improve from 0.74074\n",
      "Epoch 49/100\n",
      "483/483 [==============================] - 1s 2ms/step - loss: 0.2631 - acc: 0.8696 - val_loss: 1.0290 - val_acc: 0.6667\n",
      "\n",
      "Epoch 00049: val_acc did not improve from 0.74074\n",
      "Epoch 50/100\n",
      "483/483 [==============================] - 1s 2ms/step - loss: 0.2468 - acc: 0.8820 - val_loss: 0.9991 - val_acc: 0.7222\n",
      "\n",
      "Epoch 00050: val_acc did not improve from 0.74074\n",
      "Epoch 51/100\n",
      "483/483 [==============================] - 1s 2ms/step - loss: 0.2453 - acc: 0.8944 - val_loss: 1.1468 - val_acc: 0.6667\n",
      "\n",
      "Epoch 00051: val_acc did not improve from 0.74074\n",
      "Epoch 52/100\n",
      "483/483 [==============================] - 1s 1ms/step - loss: 0.2558 - acc: 0.8965 - val_loss: 1.0082 - val_acc: 0.6852\n",
      "\n",
      "Epoch 00052: val_acc did not improve from 0.74074\n",
      "Epoch 53/100\n",
      "483/483 [==============================] - 1s 1ms/step - loss: 0.2486 - acc: 0.8944 - val_loss: 1.2285 - val_acc: 0.6852\n",
      "\n",
      "Epoch 00053: val_acc did not improve from 0.74074\n",
      "Epoch 54/100\n",
      "483/483 [==============================] - 1s 2ms/step - loss: 0.2378 - acc: 0.8861 - val_loss: 1.0000 - val_acc: 0.7222\n",
      "\n",
      "Epoch 00054: val_acc did not improve from 0.74074\n",
      "Epoch 55/100\n",
      "483/483 [==============================] - 1s 1ms/step - loss: 0.2335 - acc: 0.8841 - val_loss: 1.1133 - val_acc: 0.6852\n",
      "\n",
      "Epoch 00055: val_acc did not improve from 0.74074\n",
      "Epoch 56/100\n",
      "483/483 [==============================] - 1s 1ms/step - loss: 0.2380 - acc: 0.9110 - val_loss: 1.0428 - val_acc: 0.7222\n",
      "\n",
      "Epoch 00056: val_acc did not improve from 0.74074\n",
      "Epoch 57/100\n",
      "483/483 [==============================] - 1s 1ms/step - loss: 0.2626 - acc: 0.8841 - val_loss: 1.0243 - val_acc: 0.7222\n",
      "\n",
      "Epoch 00057: val_acc did not improve from 0.74074\n",
      "Epoch 58/100\n",
      "483/483 [==============================] - 1s 2ms/step - loss: 0.2190 - acc: 0.9151 - val_loss: 1.1499 - val_acc: 0.6667\n",
      "\n",
      "Epoch 00058: val_acc did not improve from 0.74074\n",
      "Epoch 59/100\n",
      "483/483 [==============================] - 1s 1ms/step - loss: 0.2218 - acc: 0.9006 - val_loss: 1.0410 - val_acc: 0.7222\n",
      "\n",
      "Epoch 00059: val_acc did not improve from 0.74074\n",
      "Epoch 60/100\n",
      "483/483 [==============================] - 1s 1ms/step - loss: 0.2287 - acc: 0.8882 - val_loss: 0.9953 - val_acc: 0.7593\n",
      "\n",
      "Epoch 00060: val_acc improved from 0.74074 to 0.75926, saving model to 1dconv_feature_engineered_model.h5\n",
      "Epoch 61/100\n",
      "483/483 [==============================] - 1s 1ms/step - loss: 0.2274 - acc: 0.9027 - val_loss: 1.1561 - val_acc: 0.6852\n",
      "\n",
      "Epoch 00061: val_acc did not improve from 0.75926\n",
      "Epoch 62/100\n",
      "483/483 [==============================] - 1s 1ms/step - loss: 0.2127 - acc: 0.9110 - val_loss: 1.1235 - val_acc: 0.6667\n",
      "\n",
      "Epoch 00062: val_acc did not improve from 0.75926\n",
      "Epoch 63/100\n",
      "483/483 [==============================] - 1s 1ms/step - loss: 0.2277 - acc: 0.8986 - val_loss: 1.0475 - val_acc: 0.7407\n",
      "\n",
      "Epoch 00063: val_acc did not improve from 0.75926\n",
      "Epoch 64/100\n",
      "483/483 [==============================] - 1s 1ms/step - loss: 0.2177 - acc: 0.8965 - val_loss: 1.0973 - val_acc: 0.7222\n",
      "\n",
      "Epoch 00064: val_acc did not improve from 0.75926\n",
      "Epoch 65/100\n",
      "483/483 [==============================] - 1s 1ms/step - loss: 0.2182 - acc: 0.8944 - val_loss: 1.1628 - val_acc: 0.7222\n",
      "\n",
      "Epoch 00065: val_acc did not improve from 0.75926\n",
      "Epoch 66/100\n",
      "483/483 [==============================] - 1s 1ms/step - loss: 0.2141 - acc: 0.9110 - val_loss: 1.1346 - val_acc: 0.6852\n",
      "\n",
      "Epoch 00066: val_acc did not improve from 0.75926\n",
      "Epoch 67/100\n",
      "483/483 [==============================] - 1s 1ms/step - loss: 0.2143 - acc: 0.9089 - val_loss: 1.3310 - val_acc: 0.6852\n",
      "\n",
      "Epoch 00067: val_acc did not improve from 0.75926\n",
      "Epoch 68/100\n",
      "483/483 [==============================] - 1s 1ms/step - loss: 0.2177 - acc: 0.9068 - val_loss: 1.0962 - val_acc: 0.7037\n",
      "\n",
      "Epoch 00068: val_acc did not improve from 0.75926\n",
      "Epoch 69/100\n",
      "483/483 [==============================] - 1s 1ms/step - loss: 0.2060 - acc: 0.9110 - val_loss: 1.3585 - val_acc: 0.7037\n",
      "\n",
      "Epoch 00069: val_acc did not improve from 0.75926\n",
      "Epoch 70/100\n",
      "483/483 [==============================] - 1s 1ms/step - loss: 0.2104 - acc: 0.9130 - val_loss: 1.2652 - val_acc: 0.6852\n",
      "\n",
      "Epoch 00070: val_acc did not improve from 0.75926\n",
      "Epoch 71/100\n",
      "483/483 [==============================] - 1s 1ms/step - loss: 0.1914 - acc: 0.9255 - val_loss: 1.1712 - val_acc: 0.7222\n",
      "\n",
      "Epoch 00071: val_acc did not improve from 0.75926\n",
      "Epoch 72/100\n",
      "483/483 [==============================] - 1s 1ms/step - loss: 0.1972 - acc: 0.9213 - val_loss: 1.0751 - val_acc: 0.7222\n",
      "\n",
      "Epoch 00072: val_acc did not improve from 0.75926\n",
      "Epoch 73/100\n",
      "483/483 [==============================] - 1s 1ms/step - loss: 0.1991 - acc: 0.9110 - val_loss: 1.2774 - val_acc: 0.7037\n",
      "\n",
      "Epoch 00073: val_acc did not improve from 0.75926\n",
      "Epoch 74/100\n",
      "483/483 [==============================] - 1s 1ms/step - loss: 0.2039 - acc: 0.9089 - val_loss: 1.3914 - val_acc: 0.6852\n",
      "\n",
      "Epoch 00074: val_acc did not improve from 0.75926\n",
      "Epoch 75/100\n",
      "483/483 [==============================] - 1s 1ms/step - loss: 0.1925 - acc: 0.9213 - val_loss: 1.3048 - val_acc: 0.7037\n",
      "\n",
      "Epoch 00075: val_acc did not improve from 0.75926\n",
      "Epoch 76/100\n",
      "483/483 [==============================] - 1s 1ms/step - loss: 0.2022 - acc: 0.9027 - val_loss: 1.2128 - val_acc: 0.7222\n",
      "\n",
      "Epoch 00076: val_acc did not improve from 0.75926\n",
      "Epoch 77/100\n",
      "483/483 [==============================] - 1s 1ms/step - loss: 0.1825 - acc: 0.9151 - val_loss: 1.3572 - val_acc: 0.6852\n",
      "\n",
      "Epoch 00077: val_acc did not improve from 0.75926\n",
      "Epoch 78/100\n",
      "483/483 [==============================] - 1s 1ms/step - loss: 0.1836 - acc: 0.9234 - val_loss: 1.1691 - val_acc: 0.7037\n",
      "\n",
      "Epoch 00078: val_acc did not improve from 0.75926\n",
      "Epoch 79/100\n",
      "483/483 [==============================] - 1s 1ms/step - loss: 0.1815 - acc: 0.9337 - val_loss: 1.2222 - val_acc: 0.7222\n",
      "\n",
      "Epoch 00079: val_acc did not improve from 0.75926\n",
      "Epoch 80/100\n",
      "483/483 [==============================] - 1s 1ms/step - loss: 0.1922 - acc: 0.9027 - val_loss: 1.2871 - val_acc: 0.7407\n",
      "\n",
      "Epoch 00080: val_acc did not improve from 0.75926\n",
      "Epoch 81/100\n",
      "483/483 [==============================] - 1s 1ms/step - loss: 0.1789 - acc: 0.9255 - val_loss: 1.3076 - val_acc: 0.7222\n",
      "\n",
      "Epoch 00081: val_acc did not improve from 0.75926\n",
      "Epoch 82/100\n",
      "483/483 [==============================] - 1s 1ms/step - loss: 0.1755 - acc: 0.9172 - val_loss: 1.2053 - val_acc: 0.7407\n",
      "\n",
      "Epoch 00082: val_acc did not improve from 0.75926\n",
      "Epoch 83/100\n",
      "483/483 [==============================] - 1s 1ms/step - loss: 0.1731 - acc: 0.9234 - val_loss: 1.2718 - val_acc: 0.7037\n",
      "\n",
      "Epoch 00083: val_acc did not improve from 0.75926\n",
      "Epoch 84/100\n",
      "483/483 [==============================] - 1s 1ms/step - loss: 0.1887 - acc: 0.9275 - val_loss: 1.2659 - val_acc: 0.7037\n",
      "\n",
      "Epoch 00084: val_acc did not improve from 0.75926\n",
      "Epoch 85/100\n",
      "483/483 [==============================] - 1s 1ms/step - loss: 0.1740 - acc: 0.9172 - val_loss: 1.2688 - val_acc: 0.7222\n",
      "\n",
      "Epoch 00085: val_acc did not improve from 0.75926\n",
      "Epoch 86/100\n",
      "483/483 [==============================] - 1s 1ms/step - loss: 0.1864 - acc: 0.9130 - val_loss: 1.4714 - val_acc: 0.7222\n",
      "\n",
      "Epoch 00086: val_acc did not improve from 0.75926\n",
      "Epoch 87/100\n",
      "483/483 [==============================] - 1s 1ms/step - loss: 0.1683 - acc: 0.9337 - val_loss: 1.3241 - val_acc: 0.7407\n"
     ]
    },
    {
     "name": "stdout",
     "output_type": "stream",
     "text": [
      "\n",
      "Epoch 00087: val_acc did not improve from 0.75926\n",
      "Epoch 88/100\n",
      "483/483 [==============================] - 1s 1ms/step - loss: 0.1701 - acc: 0.9234 - val_loss: 1.2278 - val_acc: 0.7037\n",
      "\n",
      "Epoch 00088: val_acc did not improve from 0.75926\n",
      "Epoch 89/100\n",
      "483/483 [==============================] - 1s 1ms/step - loss: 0.1679 - acc: 0.9213 - val_loss: 1.4171 - val_acc: 0.7037\n",
      "\n",
      "Epoch 00089: val_acc did not improve from 0.75926\n",
      "Epoch 90/100\n",
      "483/483 [==============================] - 1s 1ms/step - loss: 0.1695 - acc: 0.9089 - val_loss: 1.3885 - val_acc: 0.7222\n",
      "\n",
      "Epoch 00090: val_acc did not improve from 0.75926\n",
      "Epoch 91/100\n",
      "483/483 [==============================] - 1s 1ms/step - loss: 0.1637 - acc: 0.9358 - val_loss: 1.6535 - val_acc: 0.7037\n",
      "\n",
      "Epoch 00091: val_acc did not improve from 0.75926\n",
      "Epoch 92/100\n",
      "483/483 [==============================] - 1s 1ms/step - loss: 0.1647 - acc: 0.9193 - val_loss: 1.4001 - val_acc: 0.7037\n",
      "\n",
      "Epoch 00092: val_acc did not improve from 0.75926\n",
      "Epoch 93/100\n",
      "483/483 [==============================] - 1s 1ms/step - loss: 0.1647 - acc: 0.9275 - val_loss: 1.4094 - val_acc: 0.7222\n",
      "\n",
      "Epoch 00093: val_acc did not improve from 0.75926\n",
      "Epoch 94/100\n",
      "483/483 [==============================] - 1s 1ms/step - loss: 0.1450 - acc: 0.9441 - val_loss: 1.2956 - val_acc: 0.7222\n",
      "\n",
      "Epoch 00094: val_acc did not improve from 0.75926\n",
      "Epoch 95/100\n",
      "483/483 [==============================] - 1s 1ms/step - loss: 0.1620 - acc: 0.9317 - val_loss: 1.4387 - val_acc: 0.7037\n",
      "\n",
      "Epoch 00095: val_acc did not improve from 0.75926\n",
      "Epoch 96/100\n",
      "483/483 [==============================] - 1s 1ms/step - loss: 0.1428 - acc: 0.9420 - val_loss: 1.6348 - val_acc: 0.7037\n",
      "\n",
      "Epoch 00096: val_acc did not improve from 0.75926\n",
      "Epoch 97/100\n",
      "483/483 [==============================] - 1s 1ms/step - loss: 0.1513 - acc: 0.9337 - val_loss: 1.3952 - val_acc: 0.7222\n",
      "\n",
      "Epoch 00097: val_acc did not improve from 0.75926\n",
      "Epoch 98/100\n",
      "483/483 [==============================] - 1s 1ms/step - loss: 0.1414 - acc: 0.9545 - val_loss: 1.5263 - val_acc: 0.6852\n",
      "\n",
      "Epoch 00098: val_acc did not improve from 0.75926\n",
      "Epoch 99/100\n",
      "483/483 [==============================] - 1s 1ms/step - loss: 0.1478 - acc: 0.9317 - val_loss: 1.2855 - val_acc: 0.7037\n",
      "\n",
      "Epoch 00099: val_acc did not improve from 0.75926\n",
      "Epoch 100/100\n",
      "483/483 [==============================] - 1s 1ms/step - loss: 0.1339 - acc: 0.9441 - val_loss: 1.3747 - val_acc: 0.7407\n",
      "\n",
      "Epoch 00100: val_acc did not improve from 0.75926\n"
     ]
    }
   ],
   "source": [
    "history=model_1.fit(np.array(X_train).reshape((*X_train.shape,1)),np.array(y_train).reshape((*y_train.shape,1)),\n",
    "            validation_split=0.10, epochs=100\n",
    "            ,batch_size=1, verbose=1, callbacks = cb_list)"
   ]
  },
  {
   "cell_type": "markdown",
   "metadata": {},
   "source": [
    "# Load Model"
   ]
  },
  {
   "cell_type": "code",
   "execution_count": 10,
   "metadata": {},
   "outputs": [],
   "source": [
    "saved_model = load_model('best_model_1d_conv_feature_engineering.h5')\n"
   ]
  },
  {
   "cell_type": "markdown",
   "metadata": {},
   "source": [
    "# Predict The Test Data"
   ]
  },
  {
   "cell_type": "code",
   "execution_count": 11,
   "metadata": {},
   "outputs": [
    {
     "name": "stdout",
     "output_type": "stream",
     "text": [
      "231/231 [==============================] - 0s 341us/step\n",
      "231/231 [==============================] - 0s 228us/step\n"
     ]
    }
   ],
   "source": [
    "#make the predictions using the the model we have created, note the input must be a np.array and a 3d tensor\n",
    "predictions = saved_model.predict_classes(np.array(X_test).reshape((*X_test.shape,1)),batch_size = X_test.shape[0], verbose=1)\n",
    "over_fit_predictions = model_1.predict_classes(np.array(X_test).reshape((*X_test.shape,1)),batch_size = X_test.shape[0], verbose=1)"
   ]
  },
  {
   "cell_type": "code",
   "execution_count": 12,
   "metadata": {},
   "outputs": [
    {
     "name": "stdout",
     "output_type": "stream",
     "text": [
      "saved model acc: 0.7965367965367965\n",
      "Precision: 0.946237\n",
      "Recall: 0.676923\n",
      "F1 score: 0.789238\n",
      "Cohens kappa: 0.602788\n",
      "ROC AUC: 0.813709\n"
     ]
    }
   ],
   "source": [
    "from sklearn.metrics import accuracy_score\n",
    "print (\"saved model acc: %s\" % accuracy_score(y_test, predictions))\n",
    "# accuracy: (tp + tn) / (p + n)\n",
    "\n",
    "# precision tp / (tp + fp)\n",
    "precision = precision_score(y_test, predictions)\n",
    "print('Precision: %f' % precision)\n",
    "# recall: tp / (tp + fn)\n",
    "recall = recall_score(y_test, predictions)\n",
    "print('Recall: %f' % recall)\n",
    "# f1: 2 tp / (2 tp + fp + fn)\n",
    "f1 = f1_score(y_test, predictions)\n",
    "print('F1 score: %f' % f1)\n",
    " \n",
    "# kappa\n",
    "kappa = cohen_kappa_score(y_test, predictions)\n",
    "print('Cohens kappa: %f' % kappa)\n",
    "# ROC AUC\n",
    "auc = roc_auc_score(y_test, predictions)\n",
    "print('ROC AUC: %f' % auc)"
   ]
  },
  {
   "cell_type": "markdown",
   "metadata": {},
   "source": [
    "# Overfitted model metrics"
   ]
  },
  {
   "cell_type": "code",
   "execution_count": 13,
   "metadata": {},
   "outputs": [
    {
     "name": "stdout",
     "output_type": "stream",
     "text": [
      "Overfitted model acc:0.7532467532467533 \n",
      "Precision: 0.755245\n",
      "Recall: 0.830769\n",
      "F1 score: 0.791209\n",
      "Cohens kappa: 0.491288\n",
      "ROC AUC: 0.742117\n"
     ]
    }
   ],
   "source": [
    "print (\"Overfitted model acc:%s \" % accuracy_score(y_test, over_fit_predictions))\n",
    "# accuracy: (tp + tn) / (p + n)\n",
    "\n",
    "# precision tp / (tp + fp)\n",
    "precision = precision_score(y_test, over_fit_predictions)\n",
    "print('Precision: %f' % precision)\n",
    "# recall: tp / (tp + fn)\n",
    "recall = recall_score(y_test, over_fit_predictions)\n",
    "print('Recall: %f' % recall)\n",
    "# f1: 2 tp / (2 tp + fp + fn)\n",
    "f1 = f1_score(y_test, over_fit_predictions)\n",
    "print('F1 score: %f' % f1)\n",
    " \n",
    "# kappa\n",
    "kappa = cohen_kappa_score(y_test, over_fit_predictions)\n",
    "print('Cohens kappa: %f' % kappa)\n",
    "# ROC AUC\n",
    "auc = roc_auc_score(y_test, over_fit_predictions)\n",
    "print('ROC AUC: %f' % auc)"
   ]
  },
  {
   "cell_type": "code",
   "execution_count": 14,
   "metadata": {},
   "outputs": [
    {
     "name": "stderr",
     "output_type": "stream",
     "text": [
      "W0808 07:59:22.642201 4652647872 font_manager.py:1282] findfont: Font family ['normal'] not found. Falling back to DejaVu Sans.\n"
     ]
    },
    {
     "data": {
      "image/png": "[encoded data removed]",
      "text/plain": [
       "<Figure size 1440x1440 with 1 Axes>"
      ]
     },
     "metadata": {
      "needs_background": "light"
     },
     "output_type": "display_data"
    }
   ],
   "source": [
    "#plot the accuracy of the training set  and the validation set of the model\n",
    "font = {'family' : 'normal',\n",
    "        'weight' : 'bold',\n",
    "        'size'   : 22}\n",
    "\n",
    "plt.rc('font', **font)\n",
    "axis_font = {'fontname':'Arial', 'size':'25'}\n",
    "\n",
    "plt.figure(figsize=[20,20])\n",
    "plt.plot(history.history['acc'])\n",
    "plt.plot(history.history['val_acc'])\n",
    "plt.ylabel('Accuracy', **axis_font)\n",
    "plt.xlabel('Epochs', **axis_font)\n",
    "\n",
    "plt.show()\n"
   ]
  },
  {
   "cell_type": "markdown",
   "metadata": {},
   "source": [
    "# Confusion Matrix"
   ]
  },
  {
   "cell_type": "code",
   "execution_count": 15,
   "metadata": {},
   "outputs": [],
   "source": [
    "%matplotlib inline\n",
    "\n",
    "def plot_confusion_matrix(cm, classes,\n",
    "                          normalize=False,\n",
    "                          title=\"Confusion Matrix\",\n",
    "                          cmap=plt.cm.Blues):\n",
    "    plt.imshow(cm, interpolation=\"nearest\", cmap=cmap)\n",
    "    plt.title(title)\n",
    "    tick_marks = np.arange(len(classes))\n",
    "    plt.xticks(tick_marks, classes, rotation=45)\n",
    "    plt.yticks(tick_marks, classes)\n",
    "    \n",
    "    if normalize:\n",
    "        cm = cm.astype(\"float\")/ cm.sum(axis=1)[:,np.newaxis]\n",
    "        print (\"Normalised confusion matrix\")\n",
    "    else:\n",
    "        print (\"Confusion matrix, without normalisation\")\n",
    "        \n",
    "    print (cm)\n",
    "    \n",
    "    thresh = cm.max()/2\n",
    "    for i,j in itertools.product(range(cm.shape[0]),range(cm.shape[1])):\n",
    "        plt.text(j, i, cm[i,j],\n",
    "        horizontalalignment = \"center\",\n",
    "        color=\"white\" if cm[i,j] > thresh else \"black\" )\n",
    "        \n",
    "    plt.tight_layout()\n",
    "    plt.ylabel(\"True Label\")\n",
    "    plt.xlabel(\"Predicted Label\")\n",
    "    \n",
    "    \n",
    "\n"
   ]
  },
  {
   "cell_type": "code",
   "execution_count": 16,
   "metadata": {},
   "outputs": [
    {
     "name": "stderr",
     "output_type": "stream",
     "text": [
      "W0808 07:59:23.084912 4652647872 font_manager.py:1282] findfont: Font family ['normal'] not found. Falling back to DejaVu Sans.\n",
      "W0808 07:59:23.092146 4652647872 font_manager.py:1282] findfont: Font family ['normal'] not found. Falling back to DejaVu Sans.\n",
      "W0808 07:59:23.226158 4652647872 font_manager.py:1282] findfont: Font family ['normal'] not found. Falling back to DejaVu Sans.\n"
     ]
    },
    {
     "name": "stdout",
     "output_type": "stream",
     "text": [
      "Confusion matrix, without normalisation\n",
      "[[96  5]\n",
      " [42 88]]\n"
     ]
    },
    {
     "data": {
      "image/png": "[encoded data removed]",
      "text/plain": [
       "<Figure size 432x288 with 1 Axes>"
      ]
     },
     "metadata": {
      "needs_background": "light"
     },
     "output_type": "display_data"
    }
   ],
   "source": [
    "cm = confusion_matrix(y_test, predictions)\n",
    "cm_labels = ['Sell', 'Buy']\n",
    "plot_confusion_matrix(cm, cm_labels, title=\"Confusion Matrix\")"
   ]
  },
  {
   "cell_type": "code",
   "execution_count": 17,
   "metadata": {},
   "outputs": [
    {
     "name": "stdout",
     "output_type": "stream",
     "text": [
      "Confusion matrix, without normalisation\n",
      "[[ 66  35]\n",
      " [ 22 108]]\n"
     ]
    },
    {
     "data": {
      "image/png": "[encoded data removed]",
      "text/plain": [
       "<Figure size 432x288 with 1 Axes>"
      ]
     },
     "metadata": {
      "needs_background": "light"
     },
     "output_type": "display_data"
    }
   ],
   "source": [
    "cm2 = confusion_matrix(y_test, over_fit_predictions)\n",
    "cm_labels = ['Sell', 'Buy']\n",
    "plot_confusion_matrix(cm2, cm_labels, title=\"Confusion Matrix\")"
   ]
  },
  {
   "cell_type": "code",
   "execution_count": null,
   "metadata": {},
   "outputs": [],
   "source": []
  }
 ],
 "metadata": {
  "kernelspec": {
   "display_name": "Python 3",
   "language": "python",
   "name": "python3"
  },
  "language_info": {
   "codemirror_mode": {
    "name": "ipython",
    "version": 3
   },
   "file_extension": ".py",
   "mimetype": "text/x-python",
   "name": "python",
   "nbconvert_exporter": "python",
   "pygments_lexer": "ipython3",
   "version": "3.7.3"
  }
 },
 "nbformat": 4,
 "nbformat_minor": 2
}
