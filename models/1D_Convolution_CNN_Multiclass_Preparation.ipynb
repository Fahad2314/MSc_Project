{
 "cells": [
  {
   "cell_type": "code",
   "execution_count": 1,
   "metadata": {},
   "outputs": [],
   "source": [
    "import pandas as pd\n",
    "import numpy as np \n",
    "from sklearn.model_selection import train_test_split\n",
    "from sklearn.preprocessing import MinMaxScaler\n",
    "import csv\n",
    "from pandas.tseries.offsets import MonthEnd\n",
    "from datetime import datetime, timedelta, date\n",
    "import requests\n",
    "import json \n",
    "import ta \n",
    "\n",
    "\n"
   ]
  },
  {
   "cell_type": "code",
   "execution_count": 2,
   "metadata": {},
   "outputs": [],
   "source": [
    "#data with feature engineering\n",
    "fields = ['Date', 'Open','High','Low','Close','Volume','RSI','MACD','Ichimoku_Span_A','Ichimoku_Span_B','ATR',\n",
    "         'BB_High_Indicator','BB_Low_Indicator']\n",
    "MSFT_df = pd.read_csv(r\"/Users/fahad/project_repo/data/interim/MSFT.csv\", usecols=fields)\n",
    "AAPL_df = pd.read_csv(r\"/Users/fahad/project_repo/data/interim/AAPL.csv\", usecols=fields)\n",
    "AMZN_df = pd.read_csv(r\"/Users/fahad/project_repo/data/interim/AMZN.csv\", usecols=fields)\n",
    "\n"
   ]
  },
  {
   "cell_type": "code",
   "execution_count": 15,
   "metadata": {},
   "outputs": [],
   "source": [
    "MSFT_df_monthly = pd.read_csv(\"/Users/fahad/project_repo/data/external/MSFT_monthly.csv\", index_col=0)\n",
    "AAPL_df_monthly = pd.read_csv(\"/Users/fahad/project_repo/data/external/AAPL_monthly.csv\", index_col=0)\n",
    "AMZN_df_monthly =pd.read_csv(\"/Users/fahad/project_repo/data/external/AMZN_monthly.csv\", index_col=0)\n",
    "\n"
   ]
  },
  {
   "cell_type": "code",
   "execution_count": 17,
   "metadata": {},
   "outputs": [],
   "source": [
    "MSFT_df_monthly.columns = [\"Open\",\"High\",\"Low\",\"Close\",\"Volume\"]\n",
    "\n",
    "#drop the last row of each dataframe so the entries match\n",
    "#MSFT_df_monthly.drop(MSFT_df_monthly.tail(1).index,inplace=True)\n",
    "\n",
    "AAPL_df_monthly.columns =[\"Open\",\"High\",\"Low\",\"Close\",\"Volume\"]\n",
    "#AAPL_df_monthly.drop(AAPL_df_monthly.tail(1).index,inplace=True)\n",
    "\n",
    "AMZN_df_monthly.columns = [\"Open\",\"High\",\"Low\",\"Close\",\"Volume\"]\n",
    "#AMZN_df_monthly.drop(AMZN_df_monthly.tail(1).index,inplace=True)"
   ]
  },
  {
   "cell_type": "code",
   "execution_count": 19,
   "metadata": {},
   "outputs": [],
   "source": [
    "#reversed monthly Dataframe \n",
    "reversed_df_MSFT = MSFT_df_monthly.iloc[::-1]\n",
    "reversed_df_AAPL= AAPL_df_monthly.iloc[::-1]\n",
    "reversed_df_AMZN = AMZN_df_monthly.iloc[::-1]"
   ]
  },
  {
   "cell_type": "code",
   "execution_count": 21,
   "metadata": {},
   "outputs": [],
   "source": [
    "def labelling_multiclass(dataframe):\n",
    "    \"\"\"This generates labels for the dataframes we wish to predict price.\n",
    "    A label of 1 suggests an increase in price between months while a label of 0 indicates\n",
    "    a decrease in price. If the current price is greater than the previous price then a\"\"\"\n",
    "    dataframe = dataframe.apply(pd.to_numeric)\n",
    "    #introduce the absolute price change as a variable\n",
    "    dataframe['ATR'] = ta.volatility.average_true_range(dataframe.High, dataframe.Low, dataframe.Close, n=14, \n",
    "                                                        fillna=True)\n",
    "    \n",
    "    #calculate the percentage change of ATR between months \n",
    "    dataframe['ATR_%_change'] = abs(dataframe['ATR'].pct_change())\n",
    "    \n",
    "    #calculate the average ATR pct change\n",
    "    average_ATR_pct_change = dataframe['ATR_%_change'].mean()\n",
    "    \n",
    "    \n",
    "    \n",
    "    empty_dict = dict()\n",
    "    prev_close =0\n",
    "    counter = 0\n",
    "    \n",
    "    #print (dataframe.head(5))\n",
    "    \n",
    "    for index,cols in dataframe.iterrows():\n",
    "        \n",
    "        counter +=1\n",
    "        \n",
    "        current_close = cols['Close']\n",
    "        ATR_price_change = cols['ATR_%_change']\n",
    "        \n",
    "        if (float(prev_close) <= float(current_close)) and (float(ATR_price_change) <= float(average_ATR_pct_change)):\n",
    "            \n",
    "            #signals an increase in price between last month and next month\n",
    "            \n",
    "            empty_dict[index] = 1\n",
    "        # 2 represents an increase that was strong greater than the average ATR   \n",
    "        elif (float(prev_close) <= float(current_close)) and (float(ATR_price_change) >= float(average_ATR_pct_change)):\n",
    "            empty_dict[index] = 2\n",
    "        \n",
    "        elif (float(prev_close) >= float(current_close)and (float(ATR_price_change) <= float(average_ATR_pct_change))):\n",
    "            empty_dict[index]=0\n",
    "            \n",
    "        #3 represents a decrease in the price that had a larger ATR    \n",
    "        elif (float(prev_close) >= float(current_close)and (float(ATR_price_change) >= float(average_ATR_pct_change))):\n",
    "            empty_dict[index] = 3\n",
    "        \n",
    "        else:\n",
    "            empty_dict[index]= 0\n",
    "            \n",
    "\n",
    "        #reassign prev close to the current close     \n",
    "        prev_close = current_close\n",
    "    \n",
    "    return empty_dict"
   ]
  },
  {
   "cell_type": "code",
   "execution_count": 23,
   "metadata": {},
   "outputs": [],
   "source": [
    "#ADD LABELS TO THE REVERESED DATAFRAMES USING THE LABELLING FUNCTION \n",
    "MSFT_labels = labelling_multiclass(reversed_df_MSFT)\n",
    "AAPL_labels = labelling_multiclass(reversed_df_AAPL)\n",
    "AMZN_labels = labelling_multiclass(reversed_df_AMZN)"
   ]
  },
  {
   "cell_type": "code",
   "execution_count": 24,
   "metadata": {},
   "outputs": [
    {
     "name": "stderr",
     "output_type": "stream",
     "text": [
      "/Users/fahad/anaconda3/lib/python3.7/site-packages/ipykernel_launcher.py:2: SettingWithCopyWarning: \n",
      "A value is trying to be set on a copy of a slice from a DataFrame.\n",
      "Try using .loc[row_indexer,col_indexer] = value instead\n",
      "\n",
      "See the caveats in the documentation: http://pandas.pydata.org/pandas-docs/stable/indexing.html#indexing-view-versus-copy\n",
      "  \n",
      "/Users/fahad/anaconda3/lib/python3.7/site-packages/ipykernel_launcher.py:3: SettingWithCopyWarning: \n",
      "A value is trying to be set on a copy of a slice from a DataFrame.\n",
      "Try using .loc[row_indexer,col_indexer] = value instead\n",
      "\n",
      "See the caveats in the documentation: http://pandas.pydata.org/pandas-docs/stable/indexing.html#indexing-view-versus-copy\n",
      "  This is separate from the ipykernel package so we can avoid doing imports until\n",
      "/Users/fahad/anaconda3/lib/python3.7/site-packages/ipykernel_launcher.py:4: SettingWithCopyWarning: \n",
      "A value is trying to be set on a copy of a slice from a DataFrame.\n",
      "Try using .loc[row_indexer,col_indexer] = value instead\n",
      "\n",
      "See the caveats in the documentation: http://pandas.pydata.org/pandas-docs/stable/indexing.html#indexing-view-versus-copy\n",
      "  after removing the cwd from sys.path.\n"
     ]
    }
   ],
   "source": [
    "#Add the labels to the reversed DataFrames\n",
    "reversed_df_MSFT['Labels'] = MSFT_labels.values()\n",
    "reversed_df_AAPL['Labels'] = AAPL_labels.values()\n",
    "reversed_df_AMZN['Labels']= AMZN_labels.values()\n",
    "\n"
   ]
  },
  {
   "cell_type": "code",
   "execution_count": 26,
   "metadata": {},
   "outputs": [],
   "source": [
    "def get_ndays_monthly_flattened(dataframe_period_end,dataframe_subperiod,n):\n",
    "    \"\"\"returns a dictionary which contains key value pair of the month-end date as key and\n",
    "    value is the proceeding n days. Returns it as a dictionary of dataframes.\n",
    "    dataframe period end refers to the dataframe which will act as the period end i.e monthly end date\n",
    "    sub_period dataframe refers to the dataframe with the preceeding n days, i.e daily\"\"\"\n",
    "    empty_dict = dict()\n",
    "    count = 0\n",
    "    for end in dataframe_period_end.index:\n",
    "#         print (\"month end/:%s\" % end)\n",
    "        \n",
    "        month_key = dataframe_period_end.index[count+1]\n",
    "        \n",
    "#         print (\"month key:%s\" % month_key)\n",
    "        \n",
    "        last_index = dataframe_period_end.index[-1]\n",
    "        \n",
    "#         print (\"last index:%s \" % last_index)\n",
    "        \n",
    "        if (month_key != last_index):\n",
    "            temp_df = dataframe_subperiod.loc[dataframe_subperiod['Date']<end].head(n)\n",
    "#             print (\"\\n\")\n",
    "#             print (temp_df.head(5))\n",
    "            temp_df = temp_df.drop(['Date'], axis=1)\n",
    "            \n",
    "            empty_dict[month_key]= temp_df.values.flatten()\n",
    "            count +=1\n",
    "        else:\n",
    "            pass\n",
    "       \n",
    "    return empty_dict\n",
    "    \n",
    "#get dictionary of the period end dates with the 30days previous features minus date as a flattened array of 360 entries\n",
    "#reshape 30,12 will give the original dataframe config\n",
    "MSFT_30days_flattened= get_ndays_monthly_flattened(reversed_df_MSFT,MSFT_df,30)\n",
    "AAPL_30days_flattened = get_ndays_monthly_flattened(reversed_df_AAPL,AAPL_df,30)\n",
    "AMZN_30days_flattened = get_ndays_monthly_flattened(reversed_df_AMZN,AMZN_df,30)"
   ]
  },
  {
   "cell_type": "code",
   "execution_count": 27,
   "metadata": {},
   "outputs": [],
   "source": [
    "#assign the labels to pandas dataframe objects and give label title\n",
    "MSFT_labels_df = pd.Series(MSFT_labels).to_frame(\"Label\")\n",
    "AAPL_labels_df= pd.Series(AAPL_labels).to_frame(\"Label\")\n",
    "AMZN_labels_df= pd.Series(AMZN_labels).to_frame(\"Label\")"
   ]
  },
  {
   "cell_type": "code",
   "execution_count": 30,
   "metadata": {},
   "outputs": [],
   "source": [
    "#convert the flattened dictionaries to dataframes \n",
    "flattened_df_MSFT = pd.DataFrame.from_dict(MSFT_30days_flattened).T\n",
    "flattened_df_AAPL = pd.DataFrame.from_dict(AAPL_30days_flattened).T\n",
    "flattened_df_AMZN = pd.DataFrame.from_dict(AMZN_30days_flattened).T"
   ]
  },
  {
   "cell_type": "code",
   "execution_count": 31,
   "metadata": {},
   "outputs": [],
   "source": [
    "#merge the dataframes on the index 'Date', and ensure that only the dates present in the flattened dataframe are carried over\n",
    "\n",
    "MSFT_flat_df = flattened_df_MSFT.merge(MSFT_labels_df, left_index=True, right_index=True)\n",
    "AAPL_flat_df = flattened_df_AAPL.merge(AAPL_labels_df, left_index=True, right_index=True)\n",
    "AMZN_flat_df = flattened_df_AMZN.merge(AMZN_labels_df, left_index=True, right_index=True)"
   ]
  },
  {
   "cell_type": "code",
   "execution_count": 43,
   "metadata": {},
   "outputs": [],
   "source": [
    "#split the data into training and test and unfortunately we miss a couple months in the middle for some strange reason?\n",
    "MSFT_flat_df_98_15 = MSFT_flat_df[:204]\n",
    "MSFT_flat_df_15_19 = MSFT_flat_df[206:]"
   ]
  },
  {
   "cell_type": "code",
   "execution_count": 48,
   "metadata": {},
   "outputs": [],
   "source": [
    "#split the data approximately 80% to 20%\n",
    "AAPL_flat_df_98_15 = AAPL_flat_df[:204]\n",
    "AAPL_flat_df_15_19 = AAPL_flat_df[206:]"
   ]
  },
  {
   "cell_type": "code",
   "execution_count": 50,
   "metadata": {},
   "outputs": [],
   "source": [
    "#split the data approximately into %80 to %20 \n",
    "AMZN_flat_df_98_15 = AMZN_flat_df[:204]\n",
    "AMZN_flat_df_15_19 = AMZN_flat_df[206:]"
   ]
  },
  {
   "cell_type": "code",
   "execution_count": null,
   "metadata": {},
   "outputs": [],
   "source": [
    "export_98_15 = MSFT_flat_df_98_15.to_csv(\"multiclass_MSFT_98_15.csv\")\n",
    "export_15_19 = MSFT_flat_df_15_19.to_csv(\"multiclass_MSFT_15_19.csv\")\n",
    "export_98_15 = AAPL_flat_df_98_15.to_csv(\"multiclass_AAPL_98_15.csv\")\n",
    "export_15_19 = AAPL_flat_df_15_19.to_csv(\"multiclass_AAPL_15_19.csv\")\n",
    "export_98_15 = AMZN_flat_df_98_15.to_csv(\"multiclass_AMZN_98_15.csv\")\n",
    "export_15_19 = AMZN_fl.to_csv(\"multiclass_AMZN_15_19.csv\")\n"
   ]
  }
 ],
 "metadata": {
  "kernelspec": {
   "display_name": "Python 3",
   "language": "python",
   "name": "python3"
  },
  "language_info": {
   "codemirror_mode": {
    "name": "ipython",
    "version": 3
   },
   "file_extension": ".py",
   "mimetype": "text/x-python",
   "name": "python",
   "nbconvert_exporter": "python",
   "pygments_lexer": "ipython3",
   "version": "3.7.3"
  }
 },
 "nbformat": 4,
 "nbformat_minor": 2
}
