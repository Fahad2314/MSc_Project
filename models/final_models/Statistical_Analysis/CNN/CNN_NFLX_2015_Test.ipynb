{
 "cells": [
  {
   "cell_type": "code",
   "execution_count": 1,
   "metadata": {},
   "outputs": [
    {
     "name": "stderr",
     "output_type": "stream",
     "text": [
      "Using TensorFlow backend.\n"
     ]
    }
   ],
   "source": [
    "import pandas as pd\n",
    "import numpy as np \n",
    "from sklearn.model_selection import train_test_split\n",
    "import csv\n",
    "from pandas.tseries.offsets import MonthEnd\n",
    "from datetime import datetime, timedelta, date\n",
    "import requests\n",
    "import json \n",
    "import seaborn as sns\n",
    "import matplotlib.pyplot as plt\n",
    "import itertools\n",
    "from sklearn.utils.multiclass import unique_labels\n",
    "\n",
    "from scipy import stats\n",
    "from IPython.display import display, HTML\n",
    "\n",
    "from sklearn import metrics\n",
    "from sklearn.metrics import classification_report\n",
    "from sklearn import preprocessing\n",
    "from sklearn.metrics import confusion_matrix\n",
    "from keras.callbacks import EarlyStopping\n",
    "from keras.callbacks import ModelCheckpoint\n",
    "from keras.models import load_model\n",
    "\n",
    "import keras\n",
    "from keras.models import Sequential\n",
    "from keras.layers import Dense, Dropout, Flatten, Reshape\n",
    "from keras.layers import Convolution1D, MaxPooling1D\n",
    "from keras.utils import np_utils\n",
    "import seaborn as sns\n",
    "\n",
    "from sklearn.metrics import accuracy_score\n",
    "from sklearn.metrics import precision_score\n",
    "from sklearn.metrics import recall_score\n",
    "from sklearn.metrics import f1_score\n",
    "from sklearn.metrics import cohen_kappa_score\n",
    "from sklearn.metrics import roc_auc_score"
   ]
  },
  {
   "cell_type": "code",
   "execution_count": 2,
   "metadata": {},
   "outputs": [],
   "source": [
    "X_test = pd.read_csv(\"/Users/fahad/project_repo/data/final/NFLX/2015_NFLX_X_test.csv\", index_col=0)\n",
    "y_test = pd.read_csv(\"/Users/fahad/project_repo/data/final/NFLX/2015_NFLX_y_test.csv\", index_col=0)"
   ]
  },
  {
   "cell_type": "code",
   "execution_count": 3,
   "metadata": {},
   "outputs": [
    {
     "data": {
      "text/html": [
       "<div>\n",
       "<style scoped>\n",
       "    .dataframe tbody tr th:only-of-type {\n",
       "        vertical-align: middle;\n",
       "    }\n",
       "\n",
       "    .dataframe tbody tr th {\n",
       "        vertical-align: top;\n",
       "    }\n",
       "\n",
       "    .dataframe thead th {\n",
       "        text-align: right;\n",
       "    }\n",
       "</style>\n",
       "<table border=\"1\" class=\"dataframe\">\n",
       "  <thead>\n",
       "    <tr style=\"text-align: right;\">\n",
       "      <th></th>\n",
       "      <th>0</th>\n",
       "      <th>1</th>\n",
       "      <th>2</th>\n",
       "      <th>3</th>\n",
       "      <th>4</th>\n",
       "      <th>5</th>\n",
       "      <th>6</th>\n",
       "      <th>7</th>\n",
       "      <th>8</th>\n",
       "      <th>9</th>\n",
       "      <th>...</th>\n",
       "      <th>350</th>\n",
       "      <th>351</th>\n",
       "      <th>352</th>\n",
       "      <th>353</th>\n",
       "      <th>354</th>\n",
       "      <th>355</th>\n",
       "      <th>356</th>\n",
       "      <th>357</th>\n",
       "      <th>358</th>\n",
       "      <th>359</th>\n",
       "    </tr>\n",
       "  </thead>\n",
       "  <tbody>\n",
       "    <tr>\n",
       "      <th>0</th>\n",
       "      <td>0.430238</td>\n",
       "      <td>0.426036</td>\n",
       "      <td>0.423199</td>\n",
       "      <td>0.418414</td>\n",
       "      <td>0.115910</td>\n",
       "      <td>1.000000</td>\n",
       "      <td>0.249924</td>\n",
       "      <td>0.200136</td>\n",
       "      <td>0.211180</td>\n",
       "      <td>0.125034</td>\n",
       "      <td>...</td>\n",
       "      <td>0.535562</td>\n",
       "      <td>0.536027</td>\n",
       "      <td>0.059864</td>\n",
       "      <td>0.772802</td>\n",
       "      <td>0.280154</td>\n",
       "      <td>0.449646</td>\n",
       "      <td>0.469981</td>\n",
       "      <td>0.219864</td>\n",
       "      <td>0.0</td>\n",
       "      <td>0.0</td>\n",
       "    </tr>\n",
       "    <tr>\n",
       "      <th>1</th>\n",
       "      <td>0.460354</td>\n",
       "      <td>0.455934</td>\n",
       "      <td>0.459597</td>\n",
       "      <td>0.456598</td>\n",
       "      <td>0.095008</td>\n",
       "      <td>0.744315</td>\n",
       "      <td>0.259892</td>\n",
       "      <td>0.200136</td>\n",
       "      <td>0.211180</td>\n",
       "      <td>0.172472</td>\n",
       "      <td>...</td>\n",
       "      <td>0.503673</td>\n",
       "      <td>0.501004</td>\n",
       "      <td>0.085541</td>\n",
       "      <td>0.325860</td>\n",
       "      <td>0.216395</td>\n",
       "      <td>0.471042</td>\n",
       "      <td>0.485759</td>\n",
       "      <td>0.197345</td>\n",
       "      <td>0.0</td>\n",
       "      <td>0.0</td>\n",
       "    </tr>\n",
       "    <tr>\n",
       "      <th>2</th>\n",
       "      <td>0.508677</td>\n",
       "      <td>0.513929</td>\n",
       "      <td>0.517315</td>\n",
       "      <td>0.519370</td>\n",
       "      <td>0.065214</td>\n",
       "      <td>0.522492</td>\n",
       "      <td>0.240427</td>\n",
       "      <td>0.449646</td>\n",
       "      <td>0.482062</td>\n",
       "      <td>0.203533</td>\n",
       "      <td>...</td>\n",
       "      <td>0.503936</td>\n",
       "      <td>0.504122</td>\n",
       "      <td>0.101503</td>\n",
       "      <td>0.546746</td>\n",
       "      <td>0.256692</td>\n",
       "      <td>0.533999</td>\n",
       "      <td>0.524374</td>\n",
       "      <td>0.214815</td>\n",
       "      <td>0.0</td>\n",
       "      <td>0.0</td>\n",
       "    </tr>\n",
       "    <tr>\n",
       "      <th>3</th>\n",
       "      <td>0.490698</td>\n",
       "      <td>0.490505</td>\n",
       "      <td>0.495805</td>\n",
       "      <td>0.493501</td>\n",
       "      <td>0.063158</td>\n",
       "      <td>0.461364</td>\n",
       "      <td>0.234093</td>\n",
       "      <td>0.517165</td>\n",
       "      <td>0.524374</td>\n",
       "      <td>0.228428</td>\n",
       "      <td>...</td>\n",
       "      <td>0.499125</td>\n",
       "      <td>0.497615</td>\n",
       "      <td>0.284491</td>\n",
       "      <td>0.288726</td>\n",
       "      <td>0.228421</td>\n",
       "      <td>0.523457</td>\n",
       "      <td>0.538595</td>\n",
       "      <td>0.255085</td>\n",
       "      <td>0.0</td>\n",
       "      <td>0.0</td>\n",
       "    </tr>\n",
       "    <tr>\n",
       "      <th>4</th>\n",
       "      <td>0.523571</td>\n",
       "      <td>0.519172</td>\n",
       "      <td>0.525854</td>\n",
       "      <td>0.521946</td>\n",
       "      <td>0.060221</td>\n",
       "      <td>0.516741</td>\n",
       "      <td>0.265624</td>\n",
       "      <td>0.531456</td>\n",
       "      <td>0.531411</td>\n",
       "      <td>0.213650</td>\n",
       "      <td>...</td>\n",
       "      <td>0.515380</td>\n",
       "      <td>0.510002</td>\n",
       "      <td>0.113372</td>\n",
       "      <td>0.446663</td>\n",
       "      <td>0.252331</td>\n",
       "      <td>0.552357</td>\n",
       "      <td>0.561008</td>\n",
       "      <td>0.251341</td>\n",
       "      <td>0.0</td>\n",
       "      <td>0.0</td>\n",
       "    </tr>\n",
       "  </tbody>\n",
       "</table>\n",
       "<p>5 rows × 360 columns</p>\n",
       "</div>"
      ],
      "text/plain": [
       "          0         1         2         3         4         5         6  \\\n",
       "0  0.430238  0.426036  0.423199  0.418414  0.115910  1.000000  0.249924   \n",
       "1  0.460354  0.455934  0.459597  0.456598  0.095008  0.744315  0.259892   \n",
       "2  0.508677  0.513929  0.517315  0.519370  0.065214  0.522492  0.240427   \n",
       "3  0.490698  0.490505  0.495805  0.493501  0.063158  0.461364  0.234093   \n",
       "4  0.523571  0.519172  0.525854  0.521946  0.060221  0.516741  0.265624   \n",
       "\n",
       "          7         8         9  ...       350       351       352       353  \\\n",
       "0  0.200136  0.211180  0.125034  ...  0.535562  0.536027  0.059864  0.772802   \n",
       "1  0.200136  0.211180  0.172472  ...  0.503673  0.501004  0.085541  0.325860   \n",
       "2  0.449646  0.482062  0.203533  ...  0.503936  0.504122  0.101503  0.546746   \n",
       "3  0.517165  0.524374  0.228428  ...  0.499125  0.497615  0.284491  0.288726   \n",
       "4  0.531456  0.531411  0.213650  ...  0.515380  0.510002  0.113372  0.446663   \n",
       "\n",
       "        354       355       356       357  358  359  \n",
       "0  0.280154  0.449646  0.469981  0.219864  0.0  0.0  \n",
       "1  0.216395  0.471042  0.485759  0.197345  0.0  0.0  \n",
       "2  0.256692  0.533999  0.524374  0.214815  0.0  0.0  \n",
       "3  0.228421  0.523457  0.538595  0.255085  0.0  0.0  \n",
       "4  0.252331  0.552357  0.561008  0.251341  0.0  0.0  \n",
       "\n",
       "[5 rows x 360 columns]"
      ]
     },
     "execution_count": 3,
     "metadata": {},
     "output_type": "execute_result"
    }
   ],
   "source": [
    "X_test.head()"
   ]
  },
  {
   "cell_type": "code",
   "execution_count": null,
   "metadata": {},
   "outputs": [],
   "source": []
  },
  {
   "cell_type": "code",
   "execution_count": 4,
   "metadata": {},
   "outputs": [
    {
     "name": "stderr",
     "output_type": "stream",
     "text": [
      "WARNING: Logging before flag parsing goes to stderr.\n",
      "W0819 16:19:50.309911 4676818368 deprecation_wrapper.py:119] From /Users/fahad/anaconda3/lib/python3.7/site-packages/keras/backend/tensorflow_backend.py:517: The name tf.placeholder is deprecated. Please use tf.compat.v1.placeholder instead.\n",
      "\n",
      "W0819 16:19:50.332603 4676818368 deprecation_wrapper.py:119] From /Users/fahad/anaconda3/lib/python3.7/site-packages/keras/backend/tensorflow_backend.py:4138: The name tf.random_uniform is deprecated. Please use tf.random.uniform instead.\n",
      "\n",
      "W0819 16:19:50.350732 4676818368 deprecation_wrapper.py:119] From /Users/fahad/anaconda3/lib/python3.7/site-packages/keras/backend/tensorflow_backend.py:3976: The name tf.nn.max_pool is deprecated. Please use tf.nn.max_pool2d instead.\n",
      "\n",
      "W0819 16:19:50.411531 4676818368 deprecation_wrapper.py:119] From /Users/fahad/anaconda3/lib/python3.7/site-packages/keras/backend/tensorflow_backend.py:174: The name tf.get_default_session is deprecated. Please use tf.compat.v1.get_default_session instead.\n",
      "\n",
      "W0819 16:19:50.412478 4676818368 deprecation_wrapper.py:119] From /Users/fahad/anaconda3/lib/python3.7/site-packages/keras/backend/tensorflow_backend.py:181: The name tf.ConfigProto is deprecated. Please use tf.compat.v1.ConfigProto instead.\n",
      "\n",
      "W0819 16:19:50.413336 4676818368 deprecation_wrapper.py:119] From /Users/fahad/anaconda3/lib/python3.7/site-packages/keras/backend/tensorflow_backend.py:186: The name tf.Session is deprecated. Please use tf.compat.v1.Session instead.\n",
      "\n",
      "W0819 16:19:50.464368 4676818368 deprecation_wrapper.py:119] From /Users/fahad/anaconda3/lib/python3.7/site-packages/keras/optimizers.py:790: The name tf.train.Optimizer is deprecated. Please use tf.compat.v1.train.Optimizer instead.\n",
      "\n",
      "W0819 16:19:50.473973 4676818368 deprecation.py:323] From /Users/fahad/anaconda3/lib/python3.7/site-packages/tensorflow/python/ops/nn_impl.py:180: add_dispatch_support.<locals>.wrapper (from tensorflow.python.ops.array_ops) is deprecated and will be removed in a future version.\n",
      "Instructions for updating:\n",
      "Use tf.where in 2.0, which has the same broadcast rule as np.where\n"
     ]
    }
   ],
   "source": [
    "saved_model = load_model(\"/Users/fahad/project_repo/models/final_models/1D_CNN_FE_98_11_model.h5\")\n"
   ]
  },
  {
   "cell_type": "code",
   "execution_count": 5,
   "metadata": {},
   "outputs": [],
   "source": [
    "# X_test = np.array(X_test).reshape(,1)\n",
    "X_test = np.array(X_test)"
   ]
  },
  {
   "cell_type": "code",
   "execution_count": 6,
   "metadata": {},
   "outputs": [],
   "source": [
    "X_test = X_test.reshape(X_test.shape[0], X_test.shape[1], 1)"
   ]
  },
  {
   "cell_type": "code",
   "execution_count": 7,
   "metadata": {},
   "outputs": [
    {
     "name": "stdout",
     "output_type": "stream",
     "text": [
      "\r",
      "54/54 [==============================] - 0s 885us/step\n"
     ]
    }
   ],
   "source": [
    "predictions = saved_model.predict_classes(X_test,batch_size = X_test.shape[0], verbose=1)\n",
    "\n"
   ]
  },
  {
   "cell_type": "code",
   "execution_count": 8,
   "metadata": {},
   "outputs": [
    {
     "name": "stdout",
     "output_type": "stream",
     "text": [
      "saved model acc: 0.5185185185185185\n",
      "Precision: 0.421053\n",
      "Recall: 0.800000\n",
      "F1 score: 0.551724\n",
      "Cohens kappa: 0.129032\n",
      "ROC AUC: 0.576471\n"
     ]
    }
   ],
   "source": [
    "from sklearn.metrics import accuracy_score\n",
    "print (\"saved model acc: %s\" % accuracy_score(y_test, predictions))\n",
    "# accuracy: (tp + tn) / (p + n)\n",
    "\n",
    "# precision tp / (tp + fp)\n",
    "precision = precision_score(y_test, predictions)\n",
    "print('Precision: %f' % precision)\n",
    "# recall: tp / (tp + fn)\n",
    "recall = recall_score(y_test, predictions)\n",
    "print('Recall: %f' % recall)\n",
    "# f1: 2 tp / (2 tp + fp + fn)\n",
    "f1 = f1_score(y_test, predictions)\n",
    "print('F1 score: %f' % f1)\n",
    " \n",
    "# kappa\n",
    "kappa = cohen_kappa_score(y_test, predictions)\n",
    "print('Cohens kappa: %f' % kappa)\n",
    "# ROC AUC\n",
    "auc = roc_auc_score(y_test, predictions)\n",
    "print('ROC AUC: %f' % auc)"
   ]
  },
  {
   "cell_type": "code",
   "execution_count": 9,
   "metadata": {},
   "outputs": [],
   "source": [
    "%matplotlib inline\n",
    "\n",
    "def plot_confusion_matrix(cm, classes,\n",
    "                          normalize=False,\n",
    "                          title=\"Confusion Matrix\",\n",
    "                          cmap=plt.cm.Blues):\n",
    "    plt.imshow(cm, interpolation=\"nearest\", cmap=cmap)\n",
    "    plt.title(title)\n",
    "    tick_marks = np.arange(len(classes))\n",
    "    plt.xticks(tick_marks, classes, rotation=45)\n",
    "    plt.yticks(tick_marks, classes)\n",
    "    \n",
    "    if normalize:\n",
    "        cm = cm.astype(\"float\")/ cm.sum(axis=1)[:,np.newaxis]\n",
    "        print (\"Normalised confusion matrix\")\n",
    "    else:\n",
    "        print (\"Confusion matrix, without normalisation\")\n",
    "        \n",
    "    print (cm)\n",
    "    \n",
    "    thresh = cm.max()/2\n",
    "    for i,j in itertools.product(range(cm.shape[0]),range(cm.shape[1])):\n",
    "        plt.text(j, i, cm[i,j],\n",
    "        horizontalalignment = \"center\",\n",
    "        color=\"white\" if cm[i,j] > thresh else \"black\" )\n",
    "        \n",
    "    plt.tight_layout()\n",
    "    plt.ylabel(\"True Label\")\n",
    "    plt.xlabel(\"Predicted Label\")"
   ]
  },
  {
   "cell_type": "code",
   "execution_count": 10,
   "metadata": {},
   "outputs": [
    {
     "name": "stdout",
     "output_type": "stream",
     "text": [
      "Confusion matrix, without normalisation\n",
      "[[12 22]\n",
      " [ 4 16]]\n"
     ]
    },
    {
     "data": {
      "image/png": "[encoded data removed]",
      "text/plain": [
       "<Figure size 432x288 with 1 Axes>"
      ]
     },
     "metadata": {
      "needs_background": "light"
     },
     "output_type": "display_data"
    }
   ],
   "source": [
    "cm = confusion_matrix(y_test, predictions)\n",
    "cm_labels = ['Sell', 'Buy']\n",
    "plot_confusion_matrix(cm, cm_labels, title=\"Confusion Matrix\")"
   ]
  },
  {
   "cell_type": "code",
   "execution_count": null,
   "metadata": {},
   "outputs": [],
   "source": []
  }
 ],
 "metadata": {
  "kernelspec": {
   "display_name": "Python 3",
   "language": "python",
   "name": "python3"
  },
  "language_info": {
   "codemirror_mode": {
    "name": "ipython",
    "version": 3
   },
   "file_extension": ".py",
   "mimetype": "text/x-python",
   "name": "python",
   "nbconvert_exporter": "python",
   "pygments_lexer": "ipython3",
   "version": "3.7.3"
  }
 },
 "nbformat": 4,
 "nbformat_minor": 2
}
