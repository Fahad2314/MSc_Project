{
 "cells": [
  {
   "cell_type": "code",
   "execution_count": 1,
   "metadata": {},
   "outputs": [
    {
     "name": "stderr",
     "output_type": "stream",
     "text": [
      "Using TensorFlow backend.\n"
     ]
    }
   ],
   "source": [
    "import pandas as pd\n",
    "import numpy as np \n",
    "from sklearn.model_selection import train_test_split\n",
    "import csv\n",
    "from pandas.tseries.offsets import MonthEnd\n",
    "from datetime import datetime, timedelta, date\n",
    "import requests\n",
    "import json \n",
    "import seaborn as sns\n",
    "import matplotlib.pyplot as plt\n",
    "import itertools\n",
    "from sklearn.utils.multiclass import unique_labels\n",
    "\n",
    "from scipy import stats\n",
    "from IPython.display import display, HTML\n",
    "\n",
    "from sklearn import metrics\n",
    "from sklearn.metrics import classification_report\n",
    "from sklearn import preprocessing\n",
    "from sklearn.metrics import confusion_matrix\n",
    "from keras.callbacks import EarlyStopping\n",
    "from keras.callbacks import ModelCheckpoint\n",
    "from keras.models import load_model\n",
    "\n",
    "import keras\n",
    "from keras.models import Sequential\n",
    "from keras.layers import Dense, Dropout, Flatten, Reshape\n",
    "from keras.layers import Convolution1D, MaxPooling1D\n",
    "from keras.utils import np_utils\n",
    "import seaborn as sns\n",
    "\n",
    "from sklearn.metrics import accuracy_score\n",
    "from sklearn.metrics import precision_score\n",
    "from sklearn.metrics import recall_score\n",
    "from sklearn.metrics import f1_score\n",
    "from sklearn.metrics import cohen_kappa_score\n",
    "from sklearn.metrics import roc_auc_score"
   ]
  },
  {
   "cell_type": "code",
   "execution_count": 33,
   "metadata": {},
   "outputs": [],
   "source": [
    "MSFT_98_train = pd.read_csv(\"/Users/fahad/project_repo/data/final/MSFT/MSFT_98_train_flat_df.csv\", index_col=0)\n",
    "MSFT_98_train = MSFT_98_train.reset_index(drop=True)\n",
    "\n",
    "\n",
    "MSFT_98_test = pd.read_csv(\"/Users/fahad/project_repo/data/final/MSFT/MSFT_98_test_flat_df.csv\", index_col=0)\n",
    "MSFT_98_test = MSFT_98_test.reset_index(drop=True)\n",
    "\n",
    "\n",
    "MSFT_02_train = pd.read_csv(\"/Users/fahad/project_repo/data/final/MSFT/MSFT_02_train_flat_df.csv\", index_col=0)\n",
    "MSFT_02_train = MSFT_02_train.reset_index(drop=True)\n",
    "\n",
    "\n",
    "MSFT_02_test = pd.read_csv(\"/Users/fahad/project_repo/data/final/MSFT/MSFT_02_test_flat_df.csv\", index_col=0)\n",
    "MSFT_02_test = MSFT_02_test.reset_index(drop=True)\n",
    "\n",
    "\n",
    "MSFT_06_train = pd.read_csv(\"/Users/fahad/project_repo/data/final/MSFT/MSFT_06_train_flat_df.csv\", index_col=0)\n",
    "MSFT_06_train = MSFT_06_train.reset_index(drop=True)\n",
    "\n",
    "\n",
    "MSFT_06_test = pd.read_csv(\"/Users/fahad/project_repo/data/final/MSFT/MSFT_06_test_flat_df.csv\", index_col=0)\n",
    "MSFT_06_test = MSFT_06_test.reset_index(drop=True)\n",
    "\n",
    "MSFT_10_train = pd.read_csv(\"/Users/fahad/project_repo/data/final/MSFT/MSFT_10_train_flat_df.csv\", index_col=0)\n",
    "MSFT_10_train = MSFT_10_train.reset_index(drop=True)\n",
    "\n",
    "\n",
    "MSFT_10_test = pd.read_csv(\"/Users/fahad/project_repo/data/final/MSFT/MSFT_10_test_flat_df.csv\", index_col=0)\n",
    "MSFT_10_test = MSFT_10_test.reset_index(drop=True)\n",
    "\n",
    "\n",
    "MSFT_14_train = pd.read_csv(\"/Users/fahad/project_repo/data/final/MSFT/MSFT_14_train_flat_df.csv\", index_col=0)\n",
    "MSFT_14_train = MSFT_14_train.reset_index(drop=True)\n",
    "\n",
    "\n",
    "MSFT_14_test = pd.read_csv(\"/Users/fahad/project_repo/data/final/MSFT/MSFT_14_test_flat_df.csv\", index_col=0)\n",
    "MSFT_14_test = MSFT_14_test.reset_index(drop=True)\n"
   ]
  },
  {
   "cell_type": "code",
   "execution_count": 34,
   "metadata": {},
   "outputs": [],
   "source": [
    "#get training and test labels for all the MSFT windows\n",
    "y_train_98 = MSFT_98_train.Label\n",
    "MSFT_98_train = MSFT_98_train.drop('Label', axis=1)\n",
    "\n",
    "\n",
    "y_test_98 = MSFT_98_test.Label\n",
    "MSFT_98_test = MSFT_98_test.drop('Label', axis=1)\n",
    "\n",
    "\n",
    "y_train_02 = MSFT_02_train.Label\n",
    "MSFT_02_train = MSFT_02_train.drop('Label', axis=1)\n",
    "\n",
    "\n",
    "y_test_02 = MSFT_02_test.Label\n",
    "MSFT_02_test = MSFT_02_test.drop('Label', axis=1)\n",
    "\n",
    "\n",
    "y_train_06 = MSFT_06_train.Label\n",
    "MSFT_06_train = MSFT_06_train.drop('Label', axis=1)\n",
    "\n",
    "\n",
    "y_test_06 = MSFT_06_test.Label\n",
    "MSFT_06_test = MSFT_06_test.drop('Label', axis=1)\n",
    "\n",
    "\n",
    "y_train_10 = MSFT_10_train.Label\n",
    "MSFT_10_train = MSFT_10_train.drop('Label', axis=1)\n",
    "\n",
    "\n",
    "\n",
    "y_test_10 = MSFT_10_test.Label\n",
    "MSFT_10_test = MSFT_10_test.drop('Label', axis=1)\n",
    "\n",
    "\n",
    "\n",
    "y_train_14 = MSFT_14_train.Label\n",
    "MSFT_14_train = MSFT_14_train.drop('Label', axis=1)\n",
    "\n",
    "\n",
    "y_test_14 = MSFT_14_test.Label\n",
    "MSFT_14_test = MSFT_14_test.drop('Label', axis=1)\n"
   ]
  },
  {
   "cell_type": "code",
   "execution_count": 26,
   "metadata": {},
   "outputs": [
    {
     "data": {
      "text/plain": [
       "'Label'"
      ]
     },
     "execution_count": 26,
     "metadata": {},
     "output_type": "execute_result"
    }
   ],
   "source": []
  },
  {
   "cell_type": "code",
   "execution_count": 15,
   "metadata": {},
   "outputs": [
    {
     "data": {
      "text/plain": [
       "0     1\n",
       "1     1\n",
       "2     0\n",
       "3     1\n",
       "4     1\n",
       "5     0\n",
       "6     1\n",
       "7     0\n",
       "8     1\n",
       "9     1\n",
       "10    1\n",
       "11    0\n",
       "12    0\n",
       "13    0\n",
       "14    0\n",
       "15    1\n",
       "16    0\n",
       "17    1\n",
       "18    0\n",
       "19    1\n",
       "20    0\n",
       "21    1\n",
       "22    0\n",
       "23    0\n",
       "24    1\n",
       "25    0\n",
       "26    0\n",
       "27    1\n",
       "28    0\n",
       "29    1\n",
       "30    0\n",
       "31    1\n",
       "32    0\n",
       "33    0\n",
       "34    1\n",
       "35    0\n",
       "36    0\n",
       "37    1\n",
       "38    1\n",
       "39    1\n",
       "40    0\n",
       "41    0\n",
       "42    0\n",
       "43    1\n",
       "44    1\n",
       "45    1\n",
       "46    0\n",
       "47    0\n",
       "48    1\n",
       "49    0\n",
       "50    0\n",
       "Name: Label, dtype: int64"
      ]
     },
     "execution_count": 15,
     "metadata": {},
     "output_type": "execute_result"
    }
   ],
   "source": []
  },
  {
   "cell_type": "code",
   "execution_count": null,
   "metadata": {},
   "outputs": [],
   "source": []
  }
 ],
 "metadata": {
  "kernelspec": {
   "display_name": "Python 3",
   "language": "python",
   "name": "python3"
  },
  "language_info": {
   "codemirror_mode": {
    "name": "ipython",
    "version": 3
   },
   "file_extension": ".py",
   "mimetype": "text/x-python",
   "name": "python",
   "nbconvert_exporter": "python",
   "pygments_lexer": "ipython3",
   "version": "3.7.3"
  }
 },
 "nbformat": 4,
 "nbformat_minor": 2
}
